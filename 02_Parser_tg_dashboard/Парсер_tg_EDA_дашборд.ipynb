{
  "cells": [
    {
      "cell_type": "markdown",
      "metadata": {
        "id": "IZ7EjwRoG070"
      },
      "source": [
        "# Проект по парсингу вакансий с телеграмм каналов и анализу данных\n",
        "\n",
        "1.   Постановка задачи\n",
        "2.   Предобработка данных\n",
        "\n"
      ]
    },
    {
      "cell_type": "markdown",
      "source": [
        "## Постановка задачи: \n",
        "\n",
        "Проект: Парсер телеграм-каналов с вакансиями, EDA\n",
        "\n",
        "\n",
        "Цель мастерской: получить данные по вакансиям с телеграмм-каналов, провести исследовательский анализ и собрать все результаты в виде наглядной визуализации\n",
        "\n",
        "\n",
        "Техническое задание:\n",
        "написать парсер вакансий с телеграмм-каналов\n",
        "\n",
        "*   провести исследовательский анализ данных:\n",
        "*   определить основные критерии, по которым будем изучать количество вакансий (например, город, уровень зп, набор скиллов и тд)\n",
        "*   провести анализ текущей ситуации и сравнить с историческими данными (за квартал, 2 месяца, месяц, сейчас)\n",
        "*   составить **портрет типичного аналитика данных** уровня джун, джун+, миддл и тд\n",
        "*   дополнительные инсайты, которые найдете в данных\n",
        "*   собрать все результаты в хорошо-наглядный, читаемый дашборд или ноутбук с визуализациями\n",
        "\n",
        "\n",
        "\n",
        "Этапы выполнения работы:\n",
        "предоставить на ревью макет визуализации\n",
        "парсер ( можно 1 и 2 пункты делать параллельно)\n",
        "исследовательский анализ\n",
        "сборка дашборда"
      ],
      "metadata": {
        "id": "NhPOBio1_P3R"
      }
    },
    {
      "cell_type": "markdown",
      "source": [
        "Список телеграмм - каналов:\n",
        "*  https://t.me/data_hr\n",
        "*   https://t.me/biheadhunter\n",
        "*  https://t.me/datajobschannel\n",
        "* https://t.me/datajobs\n",
        "* https://t.me/analysts_hunter\n",
        "* https://t.me/datajob\n",
        "* https://t.me/analyst_job\n",
        "* https://t.me/foranalysts\n",
        "* https://t.me/bds_job\n",
        "* https://t.me/datajobschannel\n",
        "* https://t.me/datasciencejobs\n",
        "\n",
        "\n"
      ],
      "metadata": {
        "id": "22pDfyNl_fsh"
      }
    },
    {
      "cell_type": "markdown",
      "metadata": {
        "id": "YxeBlspymESs"
      },
      "source": [
        "# Предобработка данных"
      ]
    },
    {
      "cell_type": "markdown",
      "metadata": {
        "id": "CTzSMY7AG07-"
      },
      "source": [
        "### Импорт библиотек"
      ]
    },
    {
      "cell_type": "code",
      "execution_count": 158,
      "metadata": {
        "id": "En8Fp-bgG07_"
      },
      "outputs": [],
      "source": [
        "\n",
        "import requests\n",
        "import numpy as np\n",
        "from bs4 import BeautifulSoup\n",
        "import os\n",
        "import seaborn as sns\n",
        "import pandas as pd\n",
        "import json\n",
        "from datetime import datetime\n",
        "import re\n",
        "from IPython.core.display import display, HTML, clear_output\n",
        "import ipywidgets as widgets"
      ]
    },
    {
      "cell_type": "code",
      "execution_count": 159,
      "metadata": {
        "id": "UP3pvD-ze0NF",
        "colab": {
          "base_uri": "https://localhost:8080/"
        },
        "outputId": "6b8387b8-b6b1-4310-dbe6-5e22ce589dac"
      },
      "outputs": [
        {
          "output_type": "stream",
          "name": "stdout",
          "text": [
            "Drive already mounted at /content/drive/; to attempt to forcibly remount, call drive.mount(\"/content/drive/\", force_remount=True).\n"
          ]
        }
      ],
      "source": [
        "from google.colab import drive\n",
        "drive.mount('/content/drive/')\n",
        "%cp /content/drive/MyDrive/Telega_parser/telegram_den.csv telegram_den.csv\n",
        "\n"
      ]
    },
    {
      "cell_type": "code",
      "source": [
        "%cp /content/drive/MyDrive/Telega_parser/data.csv data.csv"
      ],
      "metadata": {
        "id": "MpdF1b8SbV9s"
      },
      "execution_count": 160,
      "outputs": []
    },
    {
      "cell_type": "code",
      "source": [
        "%cp /content/drive/MyDrive/Telega_parser/data_full.csv data_full.csv"
      ],
      "metadata": {
        "id": "TnalcpFsy7QP"
      },
      "execution_count": 161,
      "outputs": []
    },
    {
      "cell_type": "code",
      "source": [
        "%cp /content/drive/MyDrive/Telega_parser/vac_zp.csv vac_zp.csv"
      ],
      "metadata": {
        "id": "91OV0J94zkmS"
      },
      "execution_count": 162,
      "outputs": []
    },
    {
      "cell_type": "markdown",
      "metadata": {
        "id": "zyaP5KEuG08G"
      },
      "source": [
        "### Загрузим полученный файл"
      ]
    },
    {
      "cell_type": "code",
      "execution_count": 163,
      "metadata": {
        "id": "0z4G4qppG08H"
      },
      "outputs": [],
      "source": [
        "telegram = pd.read_csv('telegram_den.csv')"
      ]
    },
    {
      "cell_type": "code",
      "execution_count": 164,
      "metadata": {
        "colab": {
          "base_uri": "https://localhost:8080/"
        },
        "id": "H27K_BihG08H",
        "outputId": "4e6d39cc-cabd-4ab2-8e9e-434bdcd9af45"
      },
      "outputs": [
        {
          "output_type": "stream",
          "name": "stdout",
          "text": [
            "<class 'pandas.core.frame.DataFrame'>\n",
            "RangeIndex: 8308 entries, 0 to 8307\n",
            "Data columns (total 5 columns):\n",
            " #   Column      Non-Null Count  Dtype \n",
            "---  ------      --------------  ----- \n",
            " 0   chat        5308 non-null   object\n",
            " 1   message_id  8308 non-null   int64 \n",
            " 2   date        8308 non-null   object\n",
            " 3   text        7717 non-null   object\n",
            " 4   entities    6309 non-null   object\n",
            "dtypes: int64(1), object(4)\n",
            "memory usage: 324.7+ KB\n"
          ]
        }
      ],
      "source": [
        "telegram.info()"
      ]
    },
    {
      "cell_type": "markdown",
      "metadata": {
        "id": "6EPLRInkmdvz"
      },
      "source": [
        "Вывод: у нас в датасете мнего мусорных сообщений (пустые текстовые строки) удалим весь флуд\n"
      ]
    },
    {
      "cell_type": "code",
      "execution_count": 165,
      "metadata": {
        "id": "q8NYga16G08H"
      },
      "outputs": [],
      "source": [
        "telegram = telegram.dropna().reset_index(drop=True) #сбросим индекс"
      ]
    },
    {
      "cell_type": "markdown",
      "metadata": {
        "id": "r3d2JIX6G08I"
      },
      "source": [
        "Удалить раздел #### Преобразуем дату"
      ]
    },
    {
      "cell_type": "code",
      "execution_count": 166,
      "metadata": {
        "id": "eXfiSrYlG08I"
      },
      "outputs": [],
      "source": [
        "telegram.date = pd.to_datetime(telegram['date'])"
      ]
    },
    {
      "cell_type": "code",
      "execution_count": 167,
      "metadata": {
        "colab": {
          "base_uri": "https://localhost:8080/"
        },
        "id": "ieuTa4d2G08I",
        "outputId": "d01432c0-888f-47c3-902e-d5800756fea4"
      },
      "outputs": [
        {
          "output_type": "execute_result",
          "data": {
            "text/plain": [
              "Timestamp('2019-01-30 00:02:49')"
            ]
          },
          "metadata": {},
          "execution_count": 167
        }
      ],
      "source": [
        "telegram['date'].min()"
      ]
    },
    {
      "cell_type": "markdown",
      "source": [],
      "metadata": {
        "id": "yBbEukLKbrfb"
      }
    },
    {
      "cell_type": "markdown",
      "metadata": {
        "id": "4v-TnczJm2dp"
      },
      "source": [
        "Вывод: данные скачаны начиная с 30 января 2019 года. "
      ]
    },
    {
      "cell_type": "markdown",
      "metadata": {
        "id": "RxrGLjtBG08I"
      },
      "source": [
        "#### Достанем из столбца чат в фомате json IDшник и название чата"
      ]
    },
    {
      "cell_type": "code",
      "execution_count": 168,
      "metadata": {
        "id": "JgQhcdYsG08J"
      },
      "outputs": [],
      "source": [
        "telegram[\"chat_id\"] = telegram[\"chat\"].apply(lambda x: json.loads(x)['id'])\n",
        "telegram[\"title\"] = telegram[\"chat\"].apply(lambda x: json.loads(x)['title'])"
      ]
    },
    {
      "cell_type": "code",
      "execution_count": 169,
      "metadata": {
        "colab": {
          "base_uri": "https://localhost:8080/"
        },
        "id": "HQHzdyomkqTP",
        "outputId": "35180bac-2268-4070-93b7-dee5ef606380"
      },
      "outputs": [
        {
          "output_type": "execute_result",
          "data": {
            "text/plain": [
              "array(['Data Analytics Jobs', 'Business Intelligence HeadHunter',\n",
              "       'Data jobs feed', \"IT's Tinkoff jobs\",\n",
              "       'Data jobs — вакансии по data science, анализу данных, аналитике, искусственному интеллекту',\n",
              "       'Job for Analysts & Data Scientists', 'Big Data Science job',\n",
              "       'Data Science Jobs / AI / NN / ML / DL / NLP', 'MegaFon Jobs'],\n",
              "      dtype=object)"
            ]
          },
          "metadata": {},
          "execution_count": 169
        }
      ],
      "source": [
        "telegram[\"title\"].unique()"
      ]
    },
    {
      "cell_type": "code",
      "execution_count": 170,
      "metadata": {
        "id": "ZfnRgFNBG08J",
        "colab": {
          "base_uri": "https://localhost:8080/",
          "height": 0
        },
        "outputId": "9290e8bc-f7b3-4c95-9186-1dd1932e5842"
      },
      "outputs": [
        {
          "output_type": "execute_result",
          "data": {
            "text/plain": [
              "                                                chat  message_id  \\\n",
              "0  {\\n    \"_\": \"Chat\",\\n    \"id\": -1001269328727,...         247   \n",
              "1  {\\n    \"_\": \"Chat\",\\n    \"id\": -1001269328727,...         246   \n",
              "\n",
              "                 date                                               text  \\\n",
              "0 2022-04-28 15:16:54  Стажировка Ozon Camp (продакт, проджект, анали...   \n",
              "1 2022-04-22 19:10:28  вакансия #аналитик #BigData #МастерДанные #Про...   \n",
              "\n",
              "                                            entities        chat_id  \\\n",
              "0  [\\n    {\\n        \"_\": \"MessageEntity\",\\n     ... -1001269328727   \n",
              "1  [\\n    {\\n        \"_\": \"MessageEntity\",\\n     ... -1001269328727   \n",
              "\n",
              "                 title  \n",
              "0  Data Analytics Jobs  \n",
              "1  Data Analytics Jobs  "
            ],
            "text/html": [
              "\n",
              "  <div id=\"df-bb0b3117-24e1-4121-9322-c87509f056e4\">\n",
              "    <div class=\"colab-df-container\">\n",
              "      <div>\n",
              "<style scoped>\n",
              "    .dataframe tbody tr th:only-of-type {\n",
              "        vertical-align: middle;\n",
              "    }\n",
              "\n",
              "    .dataframe tbody tr th {\n",
              "        vertical-align: top;\n",
              "    }\n",
              "\n",
              "    .dataframe thead th {\n",
              "        text-align: right;\n",
              "    }\n",
              "</style>\n",
              "<table border=\"1\" class=\"dataframe\">\n",
              "  <thead>\n",
              "    <tr style=\"text-align: right;\">\n",
              "      <th></th>\n",
              "      <th>chat</th>\n",
              "      <th>message_id</th>\n",
              "      <th>date</th>\n",
              "      <th>text</th>\n",
              "      <th>entities</th>\n",
              "      <th>chat_id</th>\n",
              "      <th>title</th>\n",
              "    </tr>\n",
              "  </thead>\n",
              "  <tbody>\n",
              "    <tr>\n",
              "      <th>0</th>\n",
              "      <td>{\\n    \"_\": \"Chat\",\\n    \"id\": -1001269328727,...</td>\n",
              "      <td>247</td>\n",
              "      <td>2022-04-28 15:16:54</td>\n",
              "      <td>Стажировка Ozon Camp (продакт, проджект, анали...</td>\n",
              "      <td>[\\n    {\\n        \"_\": \"MessageEntity\",\\n     ...</td>\n",
              "      <td>-1001269328727</td>\n",
              "      <td>Data Analytics Jobs</td>\n",
              "    </tr>\n",
              "    <tr>\n",
              "      <th>1</th>\n",
              "      <td>{\\n    \"_\": \"Chat\",\\n    \"id\": -1001269328727,...</td>\n",
              "      <td>246</td>\n",
              "      <td>2022-04-22 19:10:28</td>\n",
              "      <td>вакансия #аналитик #BigData #МастерДанные #Про...</td>\n",
              "      <td>[\\n    {\\n        \"_\": \"MessageEntity\",\\n     ...</td>\n",
              "      <td>-1001269328727</td>\n",
              "      <td>Data Analytics Jobs</td>\n",
              "    </tr>\n",
              "  </tbody>\n",
              "</table>\n",
              "</div>\n",
              "      <button class=\"colab-df-convert\" onclick=\"convertToInteractive('df-bb0b3117-24e1-4121-9322-c87509f056e4')\"\n",
              "              title=\"Convert this dataframe to an interactive table.\"\n",
              "              style=\"display:none;\">\n",
              "        \n",
              "  <svg xmlns=\"http://www.w3.org/2000/svg\" height=\"24px\"viewBox=\"0 0 24 24\"\n",
              "       width=\"24px\">\n",
              "    <path d=\"M0 0h24v24H0V0z\" fill=\"none\"/>\n",
              "    <path d=\"M18.56 5.44l.94 2.06.94-2.06 2.06-.94-2.06-.94-.94-2.06-.94 2.06-2.06.94zm-11 1L8.5 8.5l.94-2.06 2.06-.94-2.06-.94L8.5 2.5l-.94 2.06-2.06.94zm10 10l.94 2.06.94-2.06 2.06-.94-2.06-.94-.94-2.06-.94 2.06-2.06.94z\"/><path d=\"M17.41 7.96l-1.37-1.37c-.4-.4-.92-.59-1.43-.59-.52 0-1.04.2-1.43.59L10.3 9.45l-7.72 7.72c-.78.78-.78 2.05 0 2.83L4 21.41c.39.39.9.59 1.41.59.51 0 1.02-.2 1.41-.59l7.78-7.78 2.81-2.81c.8-.78.8-2.07 0-2.86zM5.41 20L4 18.59l7.72-7.72 1.47 1.35L5.41 20z\"/>\n",
              "  </svg>\n",
              "      </button>\n",
              "      \n",
              "  <style>\n",
              "    .colab-df-container {\n",
              "      display:flex;\n",
              "      flex-wrap:wrap;\n",
              "      gap: 12px;\n",
              "    }\n",
              "\n",
              "    .colab-df-convert {\n",
              "      background-color: #E8F0FE;\n",
              "      border: none;\n",
              "      border-radius: 50%;\n",
              "      cursor: pointer;\n",
              "      display: none;\n",
              "      fill: #1967D2;\n",
              "      height: 32px;\n",
              "      padding: 0 0 0 0;\n",
              "      width: 32px;\n",
              "    }\n",
              "\n",
              "    .colab-df-convert:hover {\n",
              "      background-color: #E2EBFA;\n",
              "      box-shadow: 0px 1px 2px rgba(60, 64, 67, 0.3), 0px 1px 3px 1px rgba(60, 64, 67, 0.15);\n",
              "      fill: #174EA6;\n",
              "    }\n",
              "\n",
              "    [theme=dark] .colab-df-convert {\n",
              "      background-color: #3B4455;\n",
              "      fill: #D2E3FC;\n",
              "    }\n",
              "\n",
              "    [theme=dark] .colab-df-convert:hover {\n",
              "      background-color: #434B5C;\n",
              "      box-shadow: 0px 1px 3px 1px rgba(0, 0, 0, 0.15);\n",
              "      filter: drop-shadow(0px 1px 2px rgba(0, 0, 0, 0.3));\n",
              "      fill: #FFFFFF;\n",
              "    }\n",
              "  </style>\n",
              "\n",
              "      <script>\n",
              "        const buttonEl =\n",
              "          document.querySelector('#df-bb0b3117-24e1-4121-9322-c87509f056e4 button.colab-df-convert');\n",
              "        buttonEl.style.display =\n",
              "          google.colab.kernel.accessAllowed ? 'block' : 'none';\n",
              "\n",
              "        async function convertToInteractive(key) {\n",
              "          const element = document.querySelector('#df-bb0b3117-24e1-4121-9322-c87509f056e4');\n",
              "          const dataTable =\n",
              "            await google.colab.kernel.invokeFunction('convertToInteractive',\n",
              "                                                     [key], {});\n",
              "          if (!dataTable) return;\n",
              "\n",
              "          const docLinkHtml = 'Like what you see? Visit the ' +\n",
              "            '<a target=\"_blank\" href=https://colab.research.google.com/notebooks/data_table.ipynb>data table notebook</a>'\n",
              "            + ' to learn more about interactive tables.';\n",
              "          element.innerHTML = '';\n",
              "          dataTable['output_type'] = 'display_data';\n",
              "          await google.colab.output.renderOutput(dataTable, element);\n",
              "          const docLink = document.createElement('div');\n",
              "          docLink.innerHTML = docLinkHtml;\n",
              "          element.appendChild(docLink);\n",
              "        }\n",
              "      </script>\n",
              "    </div>\n",
              "  </div>\n",
              "  "
            ]
          },
          "metadata": {},
          "execution_count": 170
        }
      ],
      "source": [
        "telegram.head(2)"
      ]
    },
    {
      "cell_type": "markdown",
      "source": [
        "###<b>Проверка на дубли</b>\\\n",
        "\n",
        "Логика поика: искать обсолютно идентичные текстовые описания вакансия в разных каналах. Таким образом исключим ситуации, когда одна ваканчия публикуется в нескольких каналах"
      ],
      "metadata": {
        "id": "a62MrdpHuFm8"
      }
    },
    {
      "cell_type": "code",
      "source": [
        "telegram.shape"
      ],
      "metadata": {
        "colab": {
          "base_uri": "https://localhost:8080/"
        },
        "id": "qFfObrp9wd_U",
        "outputId": "d6b8a2d2-88c5-4600-f85f-d74763b9a6f5"
      },
      "execution_count": 171,
      "outputs": [
        {
          "output_type": "execute_result",
          "data": {
            "text/plain": [
              "(4830, 7)"
            ]
          },
          "metadata": {},
          "execution_count": 171
        }
      ]
    },
    {
      "cell_type": "code",
      "source": [
        "telegram = telegram[~telegram['text'].duplicated()].sort_values(by='text')"
      ],
      "metadata": {
        "id": "0pVUdy9IuFGy"
      },
      "execution_count": 172,
      "outputs": []
    },
    {
      "cell_type": "code",
      "source": [
        "telegram.sort_values(by = 'text', ascending = False).head(20)"
      ],
      "metadata": {
        "colab": {
          "base_uri": "https://localhost:8080/",
          "height": 0
        },
        "id": "L9-QkrPVvFPZ",
        "outputId": "e4b37226-bb35-41b2-9481-045606383137"
      },
      "execution_count": 173,
      "outputs": [
        {
          "output_type": "execute_result",
          "data": {
            "text/plain": [
              "                                                   chat  message_id  \\\n",
              "4531  {\\n    \"_\": \"Chat\",\\n    \"id\": -1001321264581,...         294   \n",
              "1012  {\\n    \"_\": \"Chat\",\\n    \"id\": -1001269377842,...        1037   \n",
              "210   {\\n    \"_\": \"Chat\",\\n    \"id\": -1001269328727,...           4   \n",
              "200   {\\n    \"_\": \"Chat\",\\n    \"id\": -1001269328727,...          17   \n",
              "3633  {\\n    \"_\": \"Chat\",\\n    \"id\": -1001164864072,...         435   \n",
              "524   {\\n    \"_\": \"Chat\",\\n    \"id\": -1001291755040,...         194   \n",
              "984   {\\n    \"_\": \"Chat\",\\n    \"id\": -1001269377842,...        1069   \n",
              "58    {\\n    \"_\": \"Chat\",\\n    \"id\": -1001269328727,...         179   \n",
              "198   {\\n    \"_\": \"Chat\",\\n    \"id\": -1001269328727,...          20   \n",
              "2185  {\\n    \"_\": \"Chat\",\\n    \"id\": -1001483488834,...         341   \n",
              "1421  {\\n    \"_\": \"Chat\",\\n    \"id\": -1001269377842,...         590   \n",
              "3426  {\\n    \"_\": \"Chat\",\\n    \"id\": -1001164864072,...         654   \n",
              "3434  {\\n    \"_\": \"Chat\",\\n    \"id\": -1001164864072,...         645   \n",
              "3462  {\\n    \"_\": \"Chat\",\\n    \"id\": -1001164864072,...         615   \n",
              "3751  {\\n    \"_\": \"Chat\",\\n    \"id\": -1001164864072,...         315   \n",
              "506   {\\n    \"_\": \"Chat\",\\n    \"id\": -1001291755040,...         214   \n",
              "205   {\\n    \"_\": \"Chat\",\\n    \"id\": -1001269328727,...          10   \n",
              "207   {\\n    \"_\": \"Chat\",\\n    \"id\": -1001269328727,...           8   \n",
              "3665  {\\n    \"_\": \"Chat\",\\n    \"id\": -1001164864072,...         403   \n",
              "3698  {\\n    \"_\": \"Chat\",\\n    \"id\": -1001164864072,...         369   \n",
              "\n",
              "                    date                                               text  \\\n",
              "4531 2020-11-16 14:12:08  🧮 Практические навыки в математике — основное ...   \n",
              "1012 2021-11-08 22:47:38  🧑‍💻Вакансия#HadoopDevOps\\n📍Компания: Самокат\\n...   \n",
              "210  2020-07-29 22:27:44  🧑‍💻ВКонтакте в поиске аналитика-разработчика в...   \n",
              "200  2020-09-01 13:38:28  🦙eLama, бренд международной IT-компании, работ...   \n",
              "3633 2021-09-07 13:23:18  🦉OTUS – образовательная платформа🦉\\n\\nOTUS не ...   \n",
              "524  2020-08-19 22:36:57  🤓Компания AnyClass.com ищет в команду веб-анал...   \n",
              "984  2021-11-16 23:19:58  🟣ПРОДУКТОВЫЙ АНАЛИТИК🟣\\nКомпания: Х5 Retail Gr...   \n",
              "58   2021-12-22 15:01:38  🟣 Системный аналитик 🟣   \\n   \\n📌Компания: рос...   \n",
              "198  2020-10-07 18:11:12  🟢Компания СИБУР в поисках Архитектора/Аналитик...   \n",
              "2185 2022-03-20 22:00:01  🛠 Как за 3 простых шага создать свой VPN и про...   \n",
              "1421 2021-03-18 16:59:15  🚨Классные вакансии в X5 Retail Group (подразде...   \n",
              "3426 2022-03-04 16:38:07  🚕Ситимобил — IT-компания, которая движется в с...   \n",
              "3434 2022-02-16 19:20:01  🚕Ситимобил — IT-компания, которая движется в с...   \n",
              "3462 2022-01-14 21:23:13  🚕Ситимобил — IT-компания, которая движется в с...   \n",
              "3751 2021-07-05 15:30:51  🚕: СитиМобил ищет Middle/ Senior Data Science ...   \n",
              "506  2020-09-14 19:15:55  🚕 inDriver — международный сервис пассажирских...   \n",
              "205  2020-08-13 17:41:24  🚅Продуктовая студия Railsware ищет Data Analys...   \n",
              "207  2020-08-10 16:48:40  🚂«Первая Грузовая Компания» (ПГК) — крупнейший...   \n",
              "3665 2021-08-18 23:22:03  🚀Компания ATF Media (https://t.me/atflife ) ре...   \n",
              "3698 2021-08-04 13:46:26  🚀Вакансия: Data Scientist🚀\\nКомпания: Центр ма...   \n",
              "\n",
              "                                               entities        chat_id  \\\n",
              "4531  [\\n    {\\n        \"_\": \"MessageEntity\",\\n     ... -1001321264581   \n",
              "1012  [\\n    {\\n        \"_\": \"MessageEntity\",\\n     ... -1001269377842   \n",
              "210   [\\n    {\\n        \"_\": \"MessageEntity\",\\n     ... -1001269328727   \n",
              "200   [\\n    {\\n        \"_\": \"MessageEntity\",\\n     ... -1001269328727   \n",
              "3633  [\\n    {\\n        \"_\": \"MessageEntity\",\\n     ... -1001164864072   \n",
              "524   [\\n    {\\n        \"_\": \"MessageEntity\",\\n     ... -1001291755040   \n",
              "984   [\\n    {\\n        \"_\": \"MessageEntity\",\\n     ... -1001269377842   \n",
              "58    [\\n    {\\n        \"_\": \"MessageEntity\",\\n     ... -1001269328727   \n",
              "198   [\\n    {\\n        \"_\": \"MessageEntity\",\\n     ... -1001269328727   \n",
              "2185  [\\n    {\\n        \"_\": \"MessageEntity\",\\n     ... -1001483488834   \n",
              "1421  [\\n    {\\n        \"_\": \"MessageEntity\",\\n     ... -1001269377842   \n",
              "3426  [\\n    {\\n        \"_\": \"MessageEntity\",\\n     ... -1001164864072   \n",
              "3434  [\\n    {\\n        \"_\": \"MessageEntity\",\\n     ... -1001164864072   \n",
              "3462  [\\n    {\\n        \"_\": \"MessageEntity\",\\n     ... -1001164864072   \n",
              "3751  [\\n    {\\n        \"_\": \"MessageEntity\",\\n     ... -1001164864072   \n",
              "506   [\\n    {\\n        \"_\": \"MessageEntity\",\\n     ... -1001291755040   \n",
              "205   [\\n    {\\n        \"_\": \"MessageEntity\",\\n     ... -1001269328727   \n",
              "207   [\\n    {\\n        \"_\": \"MessageEntity\",\\n     ... -1001269328727   \n",
              "3665  [\\n    {\\n        \"_\": \"MessageEntity\",\\n     ... -1001164864072   \n",
              "3698  [\\n    {\\n        \"_\": \"MessageEntity\",\\n     ... -1001164864072   \n",
              "\n",
              "                                                  title  \n",
              "4531        Data Science Jobs / AI / NN / ML / DL / NLP  \n",
              "1012                                     Data jobs feed  \n",
              "210                                 Data Analytics Jobs  \n",
              "200                                 Data Analytics Jobs  \n",
              "3633                               Big Data Science job  \n",
              "524                    Business Intelligence HeadHunter  \n",
              "984                                      Data jobs feed  \n",
              "58                                  Data Analytics Jobs  \n",
              "198                                 Data Analytics Jobs  \n",
              "2185  Data jobs — вакансии по data science, анализу ...  \n",
              "1421                                     Data jobs feed  \n",
              "3426                               Big Data Science job  \n",
              "3434                               Big Data Science job  \n",
              "3462                               Big Data Science job  \n",
              "3751                               Big Data Science job  \n",
              "506                    Business Intelligence HeadHunter  \n",
              "205                                 Data Analytics Jobs  \n",
              "207                                 Data Analytics Jobs  \n",
              "3665                               Big Data Science job  \n",
              "3698                               Big Data Science job  "
            ],
            "text/html": [
              "\n",
              "  <div id=\"df-23ba6349-3344-485e-a35b-5e0e36ba1854\">\n",
              "    <div class=\"colab-df-container\">\n",
              "      <div>\n",
              "<style scoped>\n",
              "    .dataframe tbody tr th:only-of-type {\n",
              "        vertical-align: middle;\n",
              "    }\n",
              "\n",
              "    .dataframe tbody tr th {\n",
              "        vertical-align: top;\n",
              "    }\n",
              "\n",
              "    .dataframe thead th {\n",
              "        text-align: right;\n",
              "    }\n",
              "</style>\n",
              "<table border=\"1\" class=\"dataframe\">\n",
              "  <thead>\n",
              "    <tr style=\"text-align: right;\">\n",
              "      <th></th>\n",
              "      <th>chat</th>\n",
              "      <th>message_id</th>\n",
              "      <th>date</th>\n",
              "      <th>text</th>\n",
              "      <th>entities</th>\n",
              "      <th>chat_id</th>\n",
              "      <th>title</th>\n",
              "    </tr>\n",
              "  </thead>\n",
              "  <tbody>\n",
              "    <tr>\n",
              "      <th>4531</th>\n",
              "      <td>{\\n    \"_\": \"Chat\",\\n    \"id\": -1001321264581,...</td>\n",
              "      <td>294</td>\n",
              "      <td>2020-11-16 14:12:08</td>\n",
              "      <td>🧮 Практические навыки в математике — основное ...</td>\n",
              "      <td>[\\n    {\\n        \"_\": \"MessageEntity\",\\n     ...</td>\n",
              "      <td>-1001321264581</td>\n",
              "      <td>Data Science Jobs / AI / NN / ML / DL / NLP</td>\n",
              "    </tr>\n",
              "    <tr>\n",
              "      <th>1012</th>\n",
              "      <td>{\\n    \"_\": \"Chat\",\\n    \"id\": -1001269377842,...</td>\n",
              "      <td>1037</td>\n",
              "      <td>2021-11-08 22:47:38</td>\n",
              "      <td>🧑‍💻Вакансия#HadoopDevOps\\n📍Компания: Самокат\\n...</td>\n",
              "      <td>[\\n    {\\n        \"_\": \"MessageEntity\",\\n     ...</td>\n",
              "      <td>-1001269377842</td>\n",
              "      <td>Data jobs feed</td>\n",
              "    </tr>\n",
              "    <tr>\n",
              "      <th>210</th>\n",
              "      <td>{\\n    \"_\": \"Chat\",\\n    \"id\": -1001269328727,...</td>\n",
              "      <td>4</td>\n",
              "      <td>2020-07-29 22:27:44</td>\n",
              "      <td>🧑‍💻ВКонтакте в поиске аналитика-разработчика в...</td>\n",
              "      <td>[\\n    {\\n        \"_\": \"MessageEntity\",\\n     ...</td>\n",
              "      <td>-1001269328727</td>\n",
              "      <td>Data Analytics Jobs</td>\n",
              "    </tr>\n",
              "    <tr>\n",
              "      <th>200</th>\n",
              "      <td>{\\n    \"_\": \"Chat\",\\n    \"id\": -1001269328727,...</td>\n",
              "      <td>17</td>\n",
              "      <td>2020-09-01 13:38:28</td>\n",
              "      <td>🦙eLama, бренд международной IT-компании, работ...</td>\n",
              "      <td>[\\n    {\\n        \"_\": \"MessageEntity\",\\n     ...</td>\n",
              "      <td>-1001269328727</td>\n",
              "      <td>Data Analytics Jobs</td>\n",
              "    </tr>\n",
              "    <tr>\n",
              "      <th>3633</th>\n",
              "      <td>{\\n    \"_\": \"Chat\",\\n    \"id\": -1001164864072,...</td>\n",
              "      <td>435</td>\n",
              "      <td>2021-09-07 13:23:18</td>\n",
              "      <td>🦉OTUS – образовательная платформа🦉\\n\\nOTUS не ...</td>\n",
              "      <td>[\\n    {\\n        \"_\": \"MessageEntity\",\\n     ...</td>\n",
              "      <td>-1001164864072</td>\n",
              "      <td>Big Data Science job</td>\n",
              "    </tr>\n",
              "    <tr>\n",
              "      <th>524</th>\n",
              "      <td>{\\n    \"_\": \"Chat\",\\n    \"id\": -1001291755040,...</td>\n",
              "      <td>194</td>\n",
              "      <td>2020-08-19 22:36:57</td>\n",
              "      <td>🤓Компания AnyClass.com ищет в команду веб-анал...</td>\n",
              "      <td>[\\n    {\\n        \"_\": \"MessageEntity\",\\n     ...</td>\n",
              "      <td>-1001291755040</td>\n",
              "      <td>Business Intelligence HeadHunter</td>\n",
              "    </tr>\n",
              "    <tr>\n",
              "      <th>984</th>\n",
              "      <td>{\\n    \"_\": \"Chat\",\\n    \"id\": -1001269377842,...</td>\n",
              "      <td>1069</td>\n",
              "      <td>2021-11-16 23:19:58</td>\n",
              "      <td>🟣ПРОДУКТОВЫЙ АНАЛИТИК🟣\\nКомпания: Х5 Retail Gr...</td>\n",
              "      <td>[\\n    {\\n        \"_\": \"MessageEntity\",\\n     ...</td>\n",
              "      <td>-1001269377842</td>\n",
              "      <td>Data jobs feed</td>\n",
              "    </tr>\n",
              "    <tr>\n",
              "      <th>58</th>\n",
              "      <td>{\\n    \"_\": \"Chat\",\\n    \"id\": -1001269328727,...</td>\n",
              "      <td>179</td>\n",
              "      <td>2021-12-22 15:01:38</td>\n",
              "      <td>🟣 Системный аналитик 🟣   \\n   \\n📌Компания: рос...</td>\n",
              "      <td>[\\n    {\\n        \"_\": \"MessageEntity\",\\n     ...</td>\n",
              "      <td>-1001269328727</td>\n",
              "      <td>Data Analytics Jobs</td>\n",
              "    </tr>\n",
              "    <tr>\n",
              "      <th>198</th>\n",
              "      <td>{\\n    \"_\": \"Chat\",\\n    \"id\": -1001269328727,...</td>\n",
              "      <td>20</td>\n",
              "      <td>2020-10-07 18:11:12</td>\n",
              "      <td>🟢Компания СИБУР в поисках Архитектора/Аналитик...</td>\n",
              "      <td>[\\n    {\\n        \"_\": \"MessageEntity\",\\n     ...</td>\n",
              "      <td>-1001269328727</td>\n",
              "      <td>Data Analytics Jobs</td>\n",
              "    </tr>\n",
              "    <tr>\n",
              "      <th>2185</th>\n",
              "      <td>{\\n    \"_\": \"Chat\",\\n    \"id\": -1001483488834,...</td>\n",
              "      <td>341</td>\n",
              "      <td>2022-03-20 22:00:01</td>\n",
              "      <td>🛠 Как за 3 простых шага создать свой VPN и про...</td>\n",
              "      <td>[\\n    {\\n        \"_\": \"MessageEntity\",\\n     ...</td>\n",
              "      <td>-1001483488834</td>\n",
              "      <td>Data jobs — вакансии по data science, анализу ...</td>\n",
              "    </tr>\n",
              "    <tr>\n",
              "      <th>1421</th>\n",
              "      <td>{\\n    \"_\": \"Chat\",\\n    \"id\": -1001269377842,...</td>\n",
              "      <td>590</td>\n",
              "      <td>2021-03-18 16:59:15</td>\n",
              "      <td>🚨Классные вакансии в X5 Retail Group (подразде...</td>\n",
              "      <td>[\\n    {\\n        \"_\": \"MessageEntity\",\\n     ...</td>\n",
              "      <td>-1001269377842</td>\n",
              "      <td>Data jobs feed</td>\n",
              "    </tr>\n",
              "    <tr>\n",
              "      <th>3426</th>\n",
              "      <td>{\\n    \"_\": \"Chat\",\\n    \"id\": -1001164864072,...</td>\n",
              "      <td>654</td>\n",
              "      <td>2022-03-04 16:38:07</td>\n",
              "      <td>🚕Ситимобил — IT-компания, которая движется в с...</td>\n",
              "      <td>[\\n    {\\n        \"_\": \"MessageEntity\",\\n     ...</td>\n",
              "      <td>-1001164864072</td>\n",
              "      <td>Big Data Science job</td>\n",
              "    </tr>\n",
              "    <tr>\n",
              "      <th>3434</th>\n",
              "      <td>{\\n    \"_\": \"Chat\",\\n    \"id\": -1001164864072,...</td>\n",
              "      <td>645</td>\n",
              "      <td>2022-02-16 19:20:01</td>\n",
              "      <td>🚕Ситимобил — IT-компания, которая движется в с...</td>\n",
              "      <td>[\\n    {\\n        \"_\": \"MessageEntity\",\\n     ...</td>\n",
              "      <td>-1001164864072</td>\n",
              "      <td>Big Data Science job</td>\n",
              "    </tr>\n",
              "    <tr>\n",
              "      <th>3462</th>\n",
              "      <td>{\\n    \"_\": \"Chat\",\\n    \"id\": -1001164864072,...</td>\n",
              "      <td>615</td>\n",
              "      <td>2022-01-14 21:23:13</td>\n",
              "      <td>🚕Ситимобил — IT-компания, которая движется в с...</td>\n",
              "      <td>[\\n    {\\n        \"_\": \"MessageEntity\",\\n     ...</td>\n",
              "      <td>-1001164864072</td>\n",
              "      <td>Big Data Science job</td>\n",
              "    </tr>\n",
              "    <tr>\n",
              "      <th>3751</th>\n",
              "      <td>{\\n    \"_\": \"Chat\",\\n    \"id\": -1001164864072,...</td>\n",
              "      <td>315</td>\n",
              "      <td>2021-07-05 15:30:51</td>\n",
              "      <td>🚕: СитиМобил ищет Middle/ Senior Data Science ...</td>\n",
              "      <td>[\\n    {\\n        \"_\": \"MessageEntity\",\\n     ...</td>\n",
              "      <td>-1001164864072</td>\n",
              "      <td>Big Data Science job</td>\n",
              "    </tr>\n",
              "    <tr>\n",
              "      <th>506</th>\n",
              "      <td>{\\n    \"_\": \"Chat\",\\n    \"id\": -1001291755040,...</td>\n",
              "      <td>214</td>\n",
              "      <td>2020-09-14 19:15:55</td>\n",
              "      <td>🚕 inDriver — международный сервис пассажирских...</td>\n",
              "      <td>[\\n    {\\n        \"_\": \"MessageEntity\",\\n     ...</td>\n",
              "      <td>-1001291755040</td>\n",
              "      <td>Business Intelligence HeadHunter</td>\n",
              "    </tr>\n",
              "    <tr>\n",
              "      <th>205</th>\n",
              "      <td>{\\n    \"_\": \"Chat\",\\n    \"id\": -1001269328727,...</td>\n",
              "      <td>10</td>\n",
              "      <td>2020-08-13 17:41:24</td>\n",
              "      <td>🚅Продуктовая студия Railsware ищет Data Analys...</td>\n",
              "      <td>[\\n    {\\n        \"_\": \"MessageEntity\",\\n     ...</td>\n",
              "      <td>-1001269328727</td>\n",
              "      <td>Data Analytics Jobs</td>\n",
              "    </tr>\n",
              "    <tr>\n",
              "      <th>207</th>\n",
              "      <td>{\\n    \"_\": \"Chat\",\\n    \"id\": -1001269328727,...</td>\n",
              "      <td>8</td>\n",
              "      <td>2020-08-10 16:48:40</td>\n",
              "      <td>🚂«Первая Грузовая Компания» (ПГК) — крупнейший...</td>\n",
              "      <td>[\\n    {\\n        \"_\": \"MessageEntity\",\\n     ...</td>\n",
              "      <td>-1001269328727</td>\n",
              "      <td>Data Analytics Jobs</td>\n",
              "    </tr>\n",
              "    <tr>\n",
              "      <th>3665</th>\n",
              "      <td>{\\n    \"_\": \"Chat\",\\n    \"id\": -1001164864072,...</td>\n",
              "      <td>403</td>\n",
              "      <td>2021-08-18 23:22:03</td>\n",
              "      <td>🚀Компания ATF Media (https://t.me/atflife ) ре...</td>\n",
              "      <td>[\\n    {\\n        \"_\": \"MessageEntity\",\\n     ...</td>\n",
              "      <td>-1001164864072</td>\n",
              "      <td>Big Data Science job</td>\n",
              "    </tr>\n",
              "    <tr>\n",
              "      <th>3698</th>\n",
              "      <td>{\\n    \"_\": \"Chat\",\\n    \"id\": -1001164864072,...</td>\n",
              "      <td>369</td>\n",
              "      <td>2021-08-04 13:46:26</td>\n",
              "      <td>🚀Вакансия: Data Scientist🚀\\nКомпания: Центр ма...</td>\n",
              "      <td>[\\n    {\\n        \"_\": \"MessageEntity\",\\n     ...</td>\n",
              "      <td>-1001164864072</td>\n",
              "      <td>Big Data Science job</td>\n",
              "    </tr>\n",
              "  </tbody>\n",
              "</table>\n",
              "</div>\n",
              "      <button class=\"colab-df-convert\" onclick=\"convertToInteractive('df-23ba6349-3344-485e-a35b-5e0e36ba1854')\"\n",
              "              title=\"Convert this dataframe to an interactive table.\"\n",
              "              style=\"display:none;\">\n",
              "        \n",
              "  <svg xmlns=\"http://www.w3.org/2000/svg\" height=\"24px\"viewBox=\"0 0 24 24\"\n",
              "       width=\"24px\">\n",
              "    <path d=\"M0 0h24v24H0V0z\" fill=\"none\"/>\n",
              "    <path d=\"M18.56 5.44l.94 2.06.94-2.06 2.06-.94-2.06-.94-.94-2.06-.94 2.06-2.06.94zm-11 1L8.5 8.5l.94-2.06 2.06-.94-2.06-.94L8.5 2.5l-.94 2.06-2.06.94zm10 10l.94 2.06.94-2.06 2.06-.94-2.06-.94-.94-2.06-.94 2.06-2.06.94z\"/><path d=\"M17.41 7.96l-1.37-1.37c-.4-.4-.92-.59-1.43-.59-.52 0-1.04.2-1.43.59L10.3 9.45l-7.72 7.72c-.78.78-.78 2.05 0 2.83L4 21.41c.39.39.9.59 1.41.59.51 0 1.02-.2 1.41-.59l7.78-7.78 2.81-2.81c.8-.78.8-2.07 0-2.86zM5.41 20L4 18.59l7.72-7.72 1.47 1.35L5.41 20z\"/>\n",
              "  </svg>\n",
              "      </button>\n",
              "      \n",
              "  <style>\n",
              "    .colab-df-container {\n",
              "      display:flex;\n",
              "      flex-wrap:wrap;\n",
              "      gap: 12px;\n",
              "    }\n",
              "\n",
              "    .colab-df-convert {\n",
              "      background-color: #E8F0FE;\n",
              "      border: none;\n",
              "      border-radius: 50%;\n",
              "      cursor: pointer;\n",
              "      display: none;\n",
              "      fill: #1967D2;\n",
              "      height: 32px;\n",
              "      padding: 0 0 0 0;\n",
              "      width: 32px;\n",
              "    }\n",
              "\n",
              "    .colab-df-convert:hover {\n",
              "      background-color: #E2EBFA;\n",
              "      box-shadow: 0px 1px 2px rgba(60, 64, 67, 0.3), 0px 1px 3px 1px rgba(60, 64, 67, 0.15);\n",
              "      fill: #174EA6;\n",
              "    }\n",
              "\n",
              "    [theme=dark] .colab-df-convert {\n",
              "      background-color: #3B4455;\n",
              "      fill: #D2E3FC;\n",
              "    }\n",
              "\n",
              "    [theme=dark] .colab-df-convert:hover {\n",
              "      background-color: #434B5C;\n",
              "      box-shadow: 0px 1px 3px 1px rgba(0, 0, 0, 0.15);\n",
              "      filter: drop-shadow(0px 1px 2px rgba(0, 0, 0, 0.3));\n",
              "      fill: #FFFFFF;\n",
              "    }\n",
              "  </style>\n",
              "\n",
              "      <script>\n",
              "        const buttonEl =\n",
              "          document.querySelector('#df-23ba6349-3344-485e-a35b-5e0e36ba1854 button.colab-df-convert');\n",
              "        buttonEl.style.display =\n",
              "          google.colab.kernel.accessAllowed ? 'block' : 'none';\n",
              "\n",
              "        async function convertToInteractive(key) {\n",
              "          const element = document.querySelector('#df-23ba6349-3344-485e-a35b-5e0e36ba1854');\n",
              "          const dataTable =\n",
              "            await google.colab.kernel.invokeFunction('convertToInteractive',\n",
              "                                                     [key], {});\n",
              "          if (!dataTable) return;\n",
              "\n",
              "          const docLinkHtml = 'Like what you see? Visit the ' +\n",
              "            '<a target=\"_blank\" href=https://colab.research.google.com/notebooks/data_table.ipynb>data table notebook</a>'\n",
              "            + ' to learn more about interactive tables.';\n",
              "          element.innerHTML = '';\n",
              "          dataTable['output_type'] = 'display_data';\n",
              "          await google.colab.output.renderOutput(dataTable, element);\n",
              "          const docLink = document.createElement('div');\n",
              "          docLink.innerHTML = docLinkHtml;\n",
              "          element.appendChild(docLink);\n",
              "        }\n",
              "      </script>\n",
              "    </div>\n",
              "  </div>\n",
              "  "
            ]
          },
          "metadata": {},
          "execution_count": 173
        }
      ]
    },
    {
      "cell_type": "code",
      "source": [
        "telegram.shape"
      ],
      "metadata": {
        "colab": {
          "base_uri": "https://localhost:8080/"
        },
        "id": "PtmF6NUfu511",
        "outputId": "53b91721-0a86-4955-e523-888a8c4e127c"
      },
      "execution_count": 174,
      "outputs": [
        {
          "output_type": "execute_result",
          "data": {
            "text/plain": [
              "(3887, 7)"
            ]
          },
          "metadata": {},
          "execution_count": 174
        }
      ]
    },
    {
      "cell_type": "markdown",
      "source": [
        "Вывод: избавились практически от 1000 строк дублей"
      ],
      "metadata": {
        "id": "LhFGTIbiwoIl"
      }
    },
    {
      "cell_type": "markdown",
      "metadata": {
        "id": "6_YkFi3IG08J"
      },
      "source": [
        "###<b>Используем регулярные выражения, чтобы получить нужное в сообщениях</b>\\\n",
        "https://docs.python.org/3/library/re.html \\\n",
        "https://regex101.com/\n",
        "\n",
        "\n",
        "Что выьягиваем на первом этапе:\n",
        "\n",
        "Категорию вакансии: \n",
        "\n",
        "\n",
        "*   Дата Сайнс (ds)\n",
        "*   Дата Аналтик (da)\n",
        "*  Дата Инженер (de)\n",
        "\n",
        "\n",
        "\n"
      ]
    },
    {
      "cell_type": "code",
      "execution_count": 175,
      "metadata": {
        "id": "b41MZ6mrG08K"
      },
      "outputs": [],
      "source": [
        "ds = r'ds|scien|дс|cаен|tensorflow|pytorch|сай?е?нтист|исследовател|researcher|science|\\Wds\\W|\\Wml\\W'\n",
        "da = r'analyst|analysis|аналитик|bi|business intelligence|биай|tableau'\n",
        "de = r'engineer|инженер|spark|airflow|architect|архитектор'\n",
        "\n"
      ]
    },
    {
      "cell_type": "markdown",
      "metadata": {
        "id": "Uq-HXFHLG08K"
      },
      "source": [
        "#### Пометим True или False там где у нас совпадение"
      ]
    },
    {
      "cell_type": "code",
      "execution_count": 176,
      "metadata": {
        "id": "2d4MBcb5G08K"
      },
      "outputs": [],
      "source": [
        "telegram['ds'] = telegram['text'].apply(lambda x: True if re.search(ds, x.lower()) else False)\n",
        "telegram['da'] = telegram['text'].apply(lambda x: True if re.search(da, x.lower()) else False)\n",
        "telegram['de'] = telegram['text'].apply(lambda x: True if re.search(de, x.lower()) else False)\n"
      ]
    },
    {
      "cell_type": "code",
      "execution_count": 177,
      "metadata": {
        "id": "qNnrlXDmG08K"
      },
      "outputs": [],
      "source": [
        "#print(telegram.iloc[60]['text'])"
      ]
    },
    {
      "cell_type": "markdown",
      "metadata": {
        "id": "bOUHJXzvHPSq"
      },
      "source": [
        "**Посмотрим перечесение по всем трем категориям профессий** "
      ]
    },
    {
      "cell_type": "code",
      "execution_count": 178,
      "metadata": {
        "id": "aMmNk0I8G08K",
        "colab": {
          "base_uri": "https://localhost:8080/",
          "height": 0
        },
        "outputId": "f67e04c3-df3b-412f-bacb-3468c8e15c64"
      },
      "outputs": [
        {
          "output_type": "execute_result",
          "data": {
            "text/plain": [
              "                                                   chat  message_id  \\\n",
              "1294  {\\n    \"_\": \"Chat\",\\n    \"id\": -1001269377842,...         725   \n",
              "839   {\\n    \"_\": \"Chat\",\\n    \"id\": -1001269377842,...        1223   \n",
              "314   {\\n    \"_\": \"Chat\",\\n    \"id\": -1001291755040,...         485   \n",
              "1713  {\\n    \"_\": \"Chat\",\\n    \"id\": -1001269377842,...         248   \n",
              "732   {\\n    \"_\": \"Chat\",\\n    \"id\": -1001269377842,...        1346   \n",
              "...                                                 ...         ...   \n",
              "3781  {\\n    \"_\": \"Chat\",\\n    \"id\": -1001164864072,...         283   \n",
              "4738  {\\n    \"_\": \"Chat\",\\n    \"id\": -1001321264581,...          43   \n",
              "1421  {\\n    \"_\": \"Chat\",\\n    \"id\": -1001269377842,...         590   \n",
              "198   {\\n    \"_\": \"Chat\",\\n    \"id\": -1001269328727,...          20   \n",
              "210   {\\n    \"_\": \"Chat\",\\n    \"id\": -1001269328727,...           4   \n",
              "\n",
              "                    date                                               text  \\\n",
              "1294 2021-06-01 18:59:52  # BigData #Python    #вакансия  #работа \\n\\nНа...   \n",
              "839  2022-01-24 19:32:51  # Data scientist #DS #вакансия #Junior  \\n\\nКо...   \n",
              "314  2021-07-07 15:42:10  #BI #BusinessIntelligence #PowerBI #SQL #SQLSe...   \n",
              "1713 2020-03-02 20:10:43  #BIanalyst #BIdeveloper #PowerBI #Azure #Table...   \n",
              "732  2022-03-14 20:09:03  #Berlin #релокация #BigData #DataEngineer\\n\\n📍...   \n",
              "...                  ...                                                ...   \n",
              "3781 2021-06-22 17:13:46  🔝Middle/ Senior Data analyst в Ситимобил\\nСити...   \n",
              "4738 2020-01-26 22:42:10  🔥Ищем в команду: “Senior Big Data Engineer”\\n🗺...   \n",
              "1421 2021-03-18 16:59:15  🚨Классные вакансии в X5 Retail Group (подразде...   \n",
              "198  2020-10-07 18:11:12  🟢Компания СИБУР в поисках Архитектора/Аналитик...   \n",
              "210  2020-07-29 22:27:44  🧑‍💻ВКонтакте в поиске аналитика-разработчика в...   \n",
              "\n",
              "                                               entities        chat_id  \\\n",
              "1294  [\\n    {\\n        \"_\": \"MessageEntity\",\\n     ... -1001269377842   \n",
              "839   [\\n    {\\n        \"_\": \"MessageEntity\",\\n     ... -1001269377842   \n",
              "314   [\\n    {\\n        \"_\": \"MessageEntity\",\\n     ... -1001291755040   \n",
              "1713  [\\n    {\\n        \"_\": \"MessageEntity\",\\n     ... -1001269377842   \n",
              "732   [\\n    {\\n        \"_\": \"MessageEntity\",\\n     ... -1001269377842   \n",
              "...                                                 ...            ...   \n",
              "3781  [\\n    {\\n        \"_\": \"MessageEntity\",\\n     ... -1001164864072   \n",
              "4738  [\\n    {\\n        \"_\": \"MessageEntity\",\\n     ... -1001321264581   \n",
              "1421  [\\n    {\\n        \"_\": \"MessageEntity\",\\n     ... -1001269377842   \n",
              "198   [\\n    {\\n        \"_\": \"MessageEntity\",\\n     ... -1001269328727   \n",
              "210   [\\n    {\\n        \"_\": \"MessageEntity\",\\n     ... -1001269328727   \n",
              "\n",
              "                                            title    ds    da    de  \n",
              "1294                               Data jobs feed  True  True  True  \n",
              "839                                Data jobs feed  True  True  True  \n",
              "314              Business Intelligence HeadHunter  True  True  True  \n",
              "1713                               Data jobs feed  True  True  True  \n",
              "732                                Data jobs feed  True  True  True  \n",
              "...                                           ...   ...   ...   ...  \n",
              "3781                         Big Data Science job  True  True  True  \n",
              "4738  Data Science Jobs / AI / NN / ML / DL / NLP  True  True  True  \n",
              "1421                               Data jobs feed  True  True  True  \n",
              "198                           Data Analytics Jobs  True  True  True  \n",
              "210                           Data Analytics Jobs  True  True  True  \n",
              "\n",
              "[694 rows x 10 columns]"
            ],
            "text/html": [
              "\n",
              "  <div id=\"df-22035bf1-1f41-4e88-ba33-bd433728da7b\">\n",
              "    <div class=\"colab-df-container\">\n",
              "      <div>\n",
              "<style scoped>\n",
              "    .dataframe tbody tr th:only-of-type {\n",
              "        vertical-align: middle;\n",
              "    }\n",
              "\n",
              "    .dataframe tbody tr th {\n",
              "        vertical-align: top;\n",
              "    }\n",
              "\n",
              "    .dataframe thead th {\n",
              "        text-align: right;\n",
              "    }\n",
              "</style>\n",
              "<table border=\"1\" class=\"dataframe\">\n",
              "  <thead>\n",
              "    <tr style=\"text-align: right;\">\n",
              "      <th></th>\n",
              "      <th>chat</th>\n",
              "      <th>message_id</th>\n",
              "      <th>date</th>\n",
              "      <th>text</th>\n",
              "      <th>entities</th>\n",
              "      <th>chat_id</th>\n",
              "      <th>title</th>\n",
              "      <th>ds</th>\n",
              "      <th>da</th>\n",
              "      <th>de</th>\n",
              "    </tr>\n",
              "  </thead>\n",
              "  <tbody>\n",
              "    <tr>\n",
              "      <th>1294</th>\n",
              "      <td>{\\n    \"_\": \"Chat\",\\n    \"id\": -1001269377842,...</td>\n",
              "      <td>725</td>\n",
              "      <td>2021-06-01 18:59:52</td>\n",
              "      <td># BigData #Python    #вакансия  #работа \\n\\nНа...</td>\n",
              "      <td>[\\n    {\\n        \"_\": \"MessageEntity\",\\n     ...</td>\n",
              "      <td>-1001269377842</td>\n",
              "      <td>Data jobs feed</td>\n",
              "      <td>True</td>\n",
              "      <td>True</td>\n",
              "      <td>True</td>\n",
              "    </tr>\n",
              "    <tr>\n",
              "      <th>839</th>\n",
              "      <td>{\\n    \"_\": \"Chat\",\\n    \"id\": -1001269377842,...</td>\n",
              "      <td>1223</td>\n",
              "      <td>2022-01-24 19:32:51</td>\n",
              "      <td># Data scientist #DS #вакансия #Junior  \\n\\nКо...</td>\n",
              "      <td>[\\n    {\\n        \"_\": \"MessageEntity\",\\n     ...</td>\n",
              "      <td>-1001269377842</td>\n",
              "      <td>Data jobs feed</td>\n",
              "      <td>True</td>\n",
              "      <td>True</td>\n",
              "      <td>True</td>\n",
              "    </tr>\n",
              "    <tr>\n",
              "      <th>314</th>\n",
              "      <td>{\\n    \"_\": \"Chat\",\\n    \"id\": -1001291755040,...</td>\n",
              "      <td>485</td>\n",
              "      <td>2021-07-07 15:42:10</td>\n",
              "      <td>#BI #BusinessIntelligence #PowerBI #SQL #SQLSe...</td>\n",
              "      <td>[\\n    {\\n        \"_\": \"MessageEntity\",\\n     ...</td>\n",
              "      <td>-1001291755040</td>\n",
              "      <td>Business Intelligence HeadHunter</td>\n",
              "      <td>True</td>\n",
              "      <td>True</td>\n",
              "      <td>True</td>\n",
              "    </tr>\n",
              "    <tr>\n",
              "      <th>1713</th>\n",
              "      <td>{\\n    \"_\": \"Chat\",\\n    \"id\": -1001269377842,...</td>\n",
              "      <td>248</td>\n",
              "      <td>2020-03-02 20:10:43</td>\n",
              "      <td>#BIanalyst #BIdeveloper #PowerBI #Azure #Table...</td>\n",
              "      <td>[\\n    {\\n        \"_\": \"MessageEntity\",\\n     ...</td>\n",
              "      <td>-1001269377842</td>\n",
              "      <td>Data jobs feed</td>\n",
              "      <td>True</td>\n",
              "      <td>True</td>\n",
              "      <td>True</td>\n",
              "    </tr>\n",
              "    <tr>\n",
              "      <th>732</th>\n",
              "      <td>{\\n    \"_\": \"Chat\",\\n    \"id\": -1001269377842,...</td>\n",
              "      <td>1346</td>\n",
              "      <td>2022-03-14 20:09:03</td>\n",
              "      <td>#Berlin #релокация #BigData #DataEngineer\\n\\n📍...</td>\n",
              "      <td>[\\n    {\\n        \"_\": \"MessageEntity\",\\n     ...</td>\n",
              "      <td>-1001269377842</td>\n",
              "      <td>Data jobs feed</td>\n",
              "      <td>True</td>\n",
              "      <td>True</td>\n",
              "      <td>True</td>\n",
              "    </tr>\n",
              "    <tr>\n",
              "      <th>...</th>\n",
              "      <td>...</td>\n",
              "      <td>...</td>\n",
              "      <td>...</td>\n",
              "      <td>...</td>\n",
              "      <td>...</td>\n",
              "      <td>...</td>\n",
              "      <td>...</td>\n",
              "      <td>...</td>\n",
              "      <td>...</td>\n",
              "      <td>...</td>\n",
              "    </tr>\n",
              "    <tr>\n",
              "      <th>3781</th>\n",
              "      <td>{\\n    \"_\": \"Chat\",\\n    \"id\": -1001164864072,...</td>\n",
              "      <td>283</td>\n",
              "      <td>2021-06-22 17:13:46</td>\n",
              "      <td>🔝Middle/ Senior Data analyst в Ситимобил\\nСити...</td>\n",
              "      <td>[\\n    {\\n        \"_\": \"MessageEntity\",\\n     ...</td>\n",
              "      <td>-1001164864072</td>\n",
              "      <td>Big Data Science job</td>\n",
              "      <td>True</td>\n",
              "      <td>True</td>\n",
              "      <td>True</td>\n",
              "    </tr>\n",
              "    <tr>\n",
              "      <th>4738</th>\n",
              "      <td>{\\n    \"_\": \"Chat\",\\n    \"id\": -1001321264581,...</td>\n",
              "      <td>43</td>\n",
              "      <td>2020-01-26 22:42:10</td>\n",
              "      <td>🔥Ищем в команду: “Senior Big Data Engineer”\\n🗺...</td>\n",
              "      <td>[\\n    {\\n        \"_\": \"MessageEntity\",\\n     ...</td>\n",
              "      <td>-1001321264581</td>\n",
              "      <td>Data Science Jobs / AI / NN / ML / DL / NLP</td>\n",
              "      <td>True</td>\n",
              "      <td>True</td>\n",
              "      <td>True</td>\n",
              "    </tr>\n",
              "    <tr>\n",
              "      <th>1421</th>\n",
              "      <td>{\\n    \"_\": \"Chat\",\\n    \"id\": -1001269377842,...</td>\n",
              "      <td>590</td>\n",
              "      <td>2021-03-18 16:59:15</td>\n",
              "      <td>🚨Классные вакансии в X5 Retail Group (подразде...</td>\n",
              "      <td>[\\n    {\\n        \"_\": \"MessageEntity\",\\n     ...</td>\n",
              "      <td>-1001269377842</td>\n",
              "      <td>Data jobs feed</td>\n",
              "      <td>True</td>\n",
              "      <td>True</td>\n",
              "      <td>True</td>\n",
              "    </tr>\n",
              "    <tr>\n",
              "      <th>198</th>\n",
              "      <td>{\\n    \"_\": \"Chat\",\\n    \"id\": -1001269328727,...</td>\n",
              "      <td>20</td>\n",
              "      <td>2020-10-07 18:11:12</td>\n",
              "      <td>🟢Компания СИБУР в поисках Архитектора/Аналитик...</td>\n",
              "      <td>[\\n    {\\n        \"_\": \"MessageEntity\",\\n     ...</td>\n",
              "      <td>-1001269328727</td>\n",
              "      <td>Data Analytics Jobs</td>\n",
              "      <td>True</td>\n",
              "      <td>True</td>\n",
              "      <td>True</td>\n",
              "    </tr>\n",
              "    <tr>\n",
              "      <th>210</th>\n",
              "      <td>{\\n    \"_\": \"Chat\",\\n    \"id\": -1001269328727,...</td>\n",
              "      <td>4</td>\n",
              "      <td>2020-07-29 22:27:44</td>\n",
              "      <td>🧑‍💻ВКонтакте в поиске аналитика-разработчика в...</td>\n",
              "      <td>[\\n    {\\n        \"_\": \"MessageEntity\",\\n     ...</td>\n",
              "      <td>-1001269328727</td>\n",
              "      <td>Data Analytics Jobs</td>\n",
              "      <td>True</td>\n",
              "      <td>True</td>\n",
              "      <td>True</td>\n",
              "    </tr>\n",
              "  </tbody>\n",
              "</table>\n",
              "<p>694 rows × 10 columns</p>\n",
              "</div>\n",
              "      <button class=\"colab-df-convert\" onclick=\"convertToInteractive('df-22035bf1-1f41-4e88-ba33-bd433728da7b')\"\n",
              "              title=\"Convert this dataframe to an interactive table.\"\n",
              "              style=\"display:none;\">\n",
              "        \n",
              "  <svg xmlns=\"http://www.w3.org/2000/svg\" height=\"24px\"viewBox=\"0 0 24 24\"\n",
              "       width=\"24px\">\n",
              "    <path d=\"M0 0h24v24H0V0z\" fill=\"none\"/>\n",
              "    <path d=\"M18.56 5.44l.94 2.06.94-2.06 2.06-.94-2.06-.94-.94-2.06-.94 2.06-2.06.94zm-11 1L8.5 8.5l.94-2.06 2.06-.94-2.06-.94L8.5 2.5l-.94 2.06-2.06.94zm10 10l.94 2.06.94-2.06 2.06-.94-2.06-.94-.94-2.06-.94 2.06-2.06.94z\"/><path d=\"M17.41 7.96l-1.37-1.37c-.4-.4-.92-.59-1.43-.59-.52 0-1.04.2-1.43.59L10.3 9.45l-7.72 7.72c-.78.78-.78 2.05 0 2.83L4 21.41c.39.39.9.59 1.41.59.51 0 1.02-.2 1.41-.59l7.78-7.78 2.81-2.81c.8-.78.8-2.07 0-2.86zM5.41 20L4 18.59l7.72-7.72 1.47 1.35L5.41 20z\"/>\n",
              "  </svg>\n",
              "      </button>\n",
              "      \n",
              "  <style>\n",
              "    .colab-df-container {\n",
              "      display:flex;\n",
              "      flex-wrap:wrap;\n",
              "      gap: 12px;\n",
              "    }\n",
              "\n",
              "    .colab-df-convert {\n",
              "      background-color: #E8F0FE;\n",
              "      border: none;\n",
              "      border-radius: 50%;\n",
              "      cursor: pointer;\n",
              "      display: none;\n",
              "      fill: #1967D2;\n",
              "      height: 32px;\n",
              "      padding: 0 0 0 0;\n",
              "      width: 32px;\n",
              "    }\n",
              "\n",
              "    .colab-df-convert:hover {\n",
              "      background-color: #E2EBFA;\n",
              "      box-shadow: 0px 1px 2px rgba(60, 64, 67, 0.3), 0px 1px 3px 1px rgba(60, 64, 67, 0.15);\n",
              "      fill: #174EA6;\n",
              "    }\n",
              "\n",
              "    [theme=dark] .colab-df-convert {\n",
              "      background-color: #3B4455;\n",
              "      fill: #D2E3FC;\n",
              "    }\n",
              "\n",
              "    [theme=dark] .colab-df-convert:hover {\n",
              "      background-color: #434B5C;\n",
              "      box-shadow: 0px 1px 3px 1px rgba(0, 0, 0, 0.15);\n",
              "      filter: drop-shadow(0px 1px 2px rgba(0, 0, 0, 0.3));\n",
              "      fill: #FFFFFF;\n",
              "    }\n",
              "  </style>\n",
              "\n",
              "      <script>\n",
              "        const buttonEl =\n",
              "          document.querySelector('#df-22035bf1-1f41-4e88-ba33-bd433728da7b button.colab-df-convert');\n",
              "        buttonEl.style.display =\n",
              "          google.colab.kernel.accessAllowed ? 'block' : 'none';\n",
              "\n",
              "        async function convertToInteractive(key) {\n",
              "          const element = document.querySelector('#df-22035bf1-1f41-4e88-ba33-bd433728da7b');\n",
              "          const dataTable =\n",
              "            await google.colab.kernel.invokeFunction('convertToInteractive',\n",
              "                                                     [key], {});\n",
              "          if (!dataTable) return;\n",
              "\n",
              "          const docLinkHtml = 'Like what you see? Visit the ' +\n",
              "            '<a target=\"_blank\" href=https://colab.research.google.com/notebooks/data_table.ipynb>data table notebook</a>'\n",
              "            + ' to learn more about interactive tables.';\n",
              "          element.innerHTML = '';\n",
              "          dataTable['output_type'] = 'display_data';\n",
              "          await google.colab.output.renderOutput(dataTable, element);\n",
              "          const docLink = document.createElement('div');\n",
              "          docLink.innerHTML = docLinkHtml;\n",
              "          element.appendChild(docLink);\n",
              "        }\n",
              "      </script>\n",
              "    </div>\n",
              "  </div>\n",
              "  "
            ]
          },
          "metadata": {},
          "execution_count": 178
        }
      ],
      "source": [
        "telegram[(telegram['da']) & (telegram['ds']) & (telegram['de'])]"
      ]
    },
    {
      "cell_type": "markdown",
      "metadata": {
        "id": "SUOq1ayKoM93"
      },
      "source": [
        "Вывод: 604 вакансия входит во все три группы, что мы определили"
      ]
    },
    {
      "cell_type": "markdown",
      "metadata": {
        "id": "Snu2a9-vHfBV"
      },
      "source": [
        "**308  вакансии не имеют категории. Нужно с ними отдельно разбираться\n",
        "Возможно, это мусорные сообщения или реклама  и их стоит удалить **\n",
        "\n",
        "Для ответа на этот вопрос просмотрим 30 текстовых сообщений в ручном режиме с шагом в 10 сообщений \n",
        "Сделаем для этого временнуб таблицу "
      ]
    },
    {
      "cell_type": "code",
      "execution_count": 179,
      "metadata": {
        "id": "4m3huw1ml1O5"
      },
      "outputs": [],
      "source": [
        "temple = telegram[~(telegram['da']) & (~telegram['ds']) & (~telegram['de'])]"
      ]
    },
    {
      "cell_type": "code",
      "source": [
        "temple.reset_index()"
      ],
      "metadata": {
        "colab": {
          "base_uri": "https://localhost:8080/",
          "height": 0
        },
        "id": "0QFvBoajx-HR",
        "outputId": "525f5a9d-7794-4374-85b0-2ce344ff181d"
      },
      "execution_count": 180,
      "outputs": [
        {
          "output_type": "execute_result",
          "data": {
            "text/plain": [
              "     index                                               chat  message_id  \\\n",
              "0     1024  {\\n    \"_\": \"Chat\",\\n    \"id\": -1001269377842,...        1022   \n",
              "1      472  {\\n    \"_\": \"Chat\",\\n    \"id\": -1001291755040,...         272   \n",
              "2      458  {\\n    \"_\": \"Chat\",\\n    \"id\": -1001291755040,...         294   \n",
              "3      498  {\\n    \"_\": \"Chat\",\\n    \"id\": -1001291755040,...         235   \n",
              "4     1802  {\\n    \"_\": \"Chat\",\\n    \"id\": -1001269377842,...         140   \n",
              "..     ...                                                ...         ...   \n",
              "303   2209  {\\n    \"_\": \"Chat\",\\n    \"id\": -1001483488834,...         315   \n",
              "304   2324  {\\n    \"_\": \"Chat\",\\n    \"id\": -1001483488834,...         182   \n",
              "305   2188  {\\n    \"_\": \"Chat\",\\n    \"id\": -1001483488834,...         338   \n",
              "306   2164  {\\n    \"_\": \"Chat\",\\n    \"id\": -1001483488834,...         367   \n",
              "307   2539  {\\n    \"_\": \"Chat\",\\n    \"id\": -1001137236002,...        4251   \n",
              "\n",
              "                   date                                               text  \\\n",
              "0   2021-11-01 19:47:08  #Consultant #Вакансия #Job #Работа #Гибридный_...   \n",
              "1   2020-10-22 19:41:30  #Qlik #Москва #вакансия #удаленка \\nКрупная фа...   \n",
              "2   2020-11-05 16:43:31  #Qlik #Москва #вакансия #удаленка В компанию S...   \n",
              "3   2020-09-27 01:15:15  #Qlik #Москва #вакансия #удаленка В консорциум...   \n",
              "4   2019-09-20 16:37:55  #hadoop #teradata #oracle #datalake\\n\\nВсем до...   \n",
              "..                  ...                                                ...   \n",
              "303 2022-02-12 23:00:07  👔 Специалист Computer Vision\\n⛳️ Медицинские С...   \n",
              "304 2021-07-09 23:01:27  👔 Специалист Computer Vision\\n⛳️ Медицинские С...   \n",
              "305 2022-03-18 22:00:10  👨‍💻«Библиотека программиста» открывает набор в...   \n",
              "306 2022-04-15 18:46:26  👨‍💻🏠 Как стать фрилансером и где найти первый ...   \n",
              "307 2022-04-07 21:30:09  🔔 Вчера провели горячую линию в новом формате ...   \n",
              "\n",
              "                                              entities        chat_id  \\\n",
              "0    [\\n    {\\n        \"_\": \"MessageEntity\",\\n     ... -1001269377842   \n",
              "1    [\\n    {\\n        \"_\": \"MessageEntity\",\\n     ... -1001291755040   \n",
              "2    [\\n    {\\n        \"_\": \"MessageEntity\",\\n     ... -1001291755040   \n",
              "3    [\\n    {\\n        \"_\": \"MessageEntity\",\\n     ... -1001291755040   \n",
              "4    [\\n    {\\n        \"_\": \"MessageEntity\",\\n     ... -1001269377842   \n",
              "..                                                 ...            ...   \n",
              "303  [\\n    {\\n        \"_\": \"MessageEntity\",\\n     ... -1001483488834   \n",
              "304  [\\n    {\\n        \"_\": \"MessageEntity\",\\n     ... -1001483488834   \n",
              "305  [\\n    {\\n        \"_\": \"MessageEntity\",\\n     ... -1001483488834   \n",
              "306  [\\n    {\\n        \"_\": \"MessageEntity\",\\n     ... -1001483488834   \n",
              "307  [\\n    {\\n        \"_\": \"MessageEntity\",\\n     ... -1001137236002   \n",
              "\n",
              "                                                 title     ds     da     de  \n",
              "0                                       Data jobs feed  False  False  False  \n",
              "1                     Business Intelligence HeadHunter  False  False  False  \n",
              "2                     Business Intelligence HeadHunter  False  False  False  \n",
              "3                     Business Intelligence HeadHunter  False  False  False  \n",
              "4                                       Data jobs feed  False  False  False  \n",
              "..                                                 ...    ...    ...    ...  \n",
              "303  Data jobs — вакансии по data science, анализу ...  False  False  False  \n",
              "304  Data jobs — вакансии по data science, анализу ...  False  False  False  \n",
              "305  Data jobs — вакансии по data science, анализу ...  False  False  False  \n",
              "306  Data jobs — вакансии по data science, анализу ...  False  False  False  \n",
              "307                 Job for Analysts & Data Scientists  False  False  False  \n",
              "\n",
              "[308 rows x 11 columns]"
            ],
            "text/html": [
              "\n",
              "  <div id=\"df-256b570e-6500-4472-8ba4-68ed1de8169d\">\n",
              "    <div class=\"colab-df-container\">\n",
              "      <div>\n",
              "<style scoped>\n",
              "    .dataframe tbody tr th:only-of-type {\n",
              "        vertical-align: middle;\n",
              "    }\n",
              "\n",
              "    .dataframe tbody tr th {\n",
              "        vertical-align: top;\n",
              "    }\n",
              "\n",
              "    .dataframe thead th {\n",
              "        text-align: right;\n",
              "    }\n",
              "</style>\n",
              "<table border=\"1\" class=\"dataframe\">\n",
              "  <thead>\n",
              "    <tr style=\"text-align: right;\">\n",
              "      <th></th>\n",
              "      <th>index</th>\n",
              "      <th>chat</th>\n",
              "      <th>message_id</th>\n",
              "      <th>date</th>\n",
              "      <th>text</th>\n",
              "      <th>entities</th>\n",
              "      <th>chat_id</th>\n",
              "      <th>title</th>\n",
              "      <th>ds</th>\n",
              "      <th>da</th>\n",
              "      <th>de</th>\n",
              "    </tr>\n",
              "  </thead>\n",
              "  <tbody>\n",
              "    <tr>\n",
              "      <th>0</th>\n",
              "      <td>1024</td>\n",
              "      <td>{\\n    \"_\": \"Chat\",\\n    \"id\": -1001269377842,...</td>\n",
              "      <td>1022</td>\n",
              "      <td>2021-11-01 19:47:08</td>\n",
              "      <td>#Consultant #Вакансия #Job #Работа #Гибридный_...</td>\n",
              "      <td>[\\n    {\\n        \"_\": \"MessageEntity\",\\n     ...</td>\n",
              "      <td>-1001269377842</td>\n",
              "      <td>Data jobs feed</td>\n",
              "      <td>False</td>\n",
              "      <td>False</td>\n",
              "      <td>False</td>\n",
              "    </tr>\n",
              "    <tr>\n",
              "      <th>1</th>\n",
              "      <td>472</td>\n",
              "      <td>{\\n    \"_\": \"Chat\",\\n    \"id\": -1001291755040,...</td>\n",
              "      <td>272</td>\n",
              "      <td>2020-10-22 19:41:30</td>\n",
              "      <td>#Qlik #Москва #вакансия #удаленка \\nКрупная фа...</td>\n",
              "      <td>[\\n    {\\n        \"_\": \"MessageEntity\",\\n     ...</td>\n",
              "      <td>-1001291755040</td>\n",
              "      <td>Business Intelligence HeadHunter</td>\n",
              "      <td>False</td>\n",
              "      <td>False</td>\n",
              "      <td>False</td>\n",
              "    </tr>\n",
              "    <tr>\n",
              "      <th>2</th>\n",
              "      <td>458</td>\n",
              "      <td>{\\n    \"_\": \"Chat\",\\n    \"id\": -1001291755040,...</td>\n",
              "      <td>294</td>\n",
              "      <td>2020-11-05 16:43:31</td>\n",
              "      <td>#Qlik #Москва #вакансия #удаленка В компанию S...</td>\n",
              "      <td>[\\n    {\\n        \"_\": \"MessageEntity\",\\n     ...</td>\n",
              "      <td>-1001291755040</td>\n",
              "      <td>Business Intelligence HeadHunter</td>\n",
              "      <td>False</td>\n",
              "      <td>False</td>\n",
              "      <td>False</td>\n",
              "    </tr>\n",
              "    <tr>\n",
              "      <th>3</th>\n",
              "      <td>498</td>\n",
              "      <td>{\\n    \"_\": \"Chat\",\\n    \"id\": -1001291755040,...</td>\n",
              "      <td>235</td>\n",
              "      <td>2020-09-27 01:15:15</td>\n",
              "      <td>#Qlik #Москва #вакансия #удаленка В консорциум...</td>\n",
              "      <td>[\\n    {\\n        \"_\": \"MessageEntity\",\\n     ...</td>\n",
              "      <td>-1001291755040</td>\n",
              "      <td>Business Intelligence HeadHunter</td>\n",
              "      <td>False</td>\n",
              "      <td>False</td>\n",
              "      <td>False</td>\n",
              "    </tr>\n",
              "    <tr>\n",
              "      <th>4</th>\n",
              "      <td>1802</td>\n",
              "      <td>{\\n    \"_\": \"Chat\",\\n    \"id\": -1001269377842,...</td>\n",
              "      <td>140</td>\n",
              "      <td>2019-09-20 16:37:55</td>\n",
              "      <td>#hadoop #teradata #oracle #datalake\\n\\nВсем до...</td>\n",
              "      <td>[\\n    {\\n        \"_\": \"MessageEntity\",\\n     ...</td>\n",
              "      <td>-1001269377842</td>\n",
              "      <td>Data jobs feed</td>\n",
              "      <td>False</td>\n",
              "      <td>False</td>\n",
              "      <td>False</td>\n",
              "    </tr>\n",
              "    <tr>\n",
              "      <th>...</th>\n",
              "      <td>...</td>\n",
              "      <td>...</td>\n",
              "      <td>...</td>\n",
              "      <td>...</td>\n",
              "      <td>...</td>\n",
              "      <td>...</td>\n",
              "      <td>...</td>\n",
              "      <td>...</td>\n",
              "      <td>...</td>\n",
              "      <td>...</td>\n",
              "      <td>...</td>\n",
              "    </tr>\n",
              "    <tr>\n",
              "      <th>303</th>\n",
              "      <td>2209</td>\n",
              "      <td>{\\n    \"_\": \"Chat\",\\n    \"id\": -1001483488834,...</td>\n",
              "      <td>315</td>\n",
              "      <td>2022-02-12 23:00:07</td>\n",
              "      <td>👔 Специалист Computer Vision\\n⛳️ Медицинские С...</td>\n",
              "      <td>[\\n    {\\n        \"_\": \"MessageEntity\",\\n     ...</td>\n",
              "      <td>-1001483488834</td>\n",
              "      <td>Data jobs — вакансии по data science, анализу ...</td>\n",
              "      <td>False</td>\n",
              "      <td>False</td>\n",
              "      <td>False</td>\n",
              "    </tr>\n",
              "    <tr>\n",
              "      <th>304</th>\n",
              "      <td>2324</td>\n",
              "      <td>{\\n    \"_\": \"Chat\",\\n    \"id\": -1001483488834,...</td>\n",
              "      <td>182</td>\n",
              "      <td>2021-07-09 23:01:27</td>\n",
              "      <td>👔 Специалист Computer Vision\\n⛳️ Медицинские С...</td>\n",
              "      <td>[\\n    {\\n        \"_\": \"MessageEntity\",\\n     ...</td>\n",
              "      <td>-1001483488834</td>\n",
              "      <td>Data jobs — вакансии по data science, анализу ...</td>\n",
              "      <td>False</td>\n",
              "      <td>False</td>\n",
              "      <td>False</td>\n",
              "    </tr>\n",
              "    <tr>\n",
              "      <th>305</th>\n",
              "      <td>2188</td>\n",
              "      <td>{\\n    \"_\": \"Chat\",\\n    \"id\": -1001483488834,...</td>\n",
              "      <td>338</td>\n",
              "      <td>2022-03-18 22:00:10</td>\n",
              "      <td>👨‍💻«Библиотека программиста» открывает набор в...</td>\n",
              "      <td>[\\n    {\\n        \"_\": \"MessageEntity\",\\n     ...</td>\n",
              "      <td>-1001483488834</td>\n",
              "      <td>Data jobs — вакансии по data science, анализу ...</td>\n",
              "      <td>False</td>\n",
              "      <td>False</td>\n",
              "      <td>False</td>\n",
              "    </tr>\n",
              "    <tr>\n",
              "      <th>306</th>\n",
              "      <td>2164</td>\n",
              "      <td>{\\n    \"_\": \"Chat\",\\n    \"id\": -1001483488834,...</td>\n",
              "      <td>367</td>\n",
              "      <td>2022-04-15 18:46:26</td>\n",
              "      <td>👨‍💻🏠 Как стать фрилансером и где найти первый ...</td>\n",
              "      <td>[\\n    {\\n        \"_\": \"MessageEntity\",\\n     ...</td>\n",
              "      <td>-1001483488834</td>\n",
              "      <td>Data jobs — вакансии по data science, анализу ...</td>\n",
              "      <td>False</td>\n",
              "      <td>False</td>\n",
              "      <td>False</td>\n",
              "    </tr>\n",
              "    <tr>\n",
              "      <th>307</th>\n",
              "      <td>2539</td>\n",
              "      <td>{\\n    \"_\": \"Chat\",\\n    \"id\": -1001137236002,...</td>\n",
              "      <td>4251</td>\n",
              "      <td>2022-04-07 21:30:09</td>\n",
              "      <td>🔔 Вчера провели горячую линию в новом формате ...</td>\n",
              "      <td>[\\n    {\\n        \"_\": \"MessageEntity\",\\n     ...</td>\n",
              "      <td>-1001137236002</td>\n",
              "      <td>Job for Analysts &amp; Data Scientists</td>\n",
              "      <td>False</td>\n",
              "      <td>False</td>\n",
              "      <td>False</td>\n",
              "    </tr>\n",
              "  </tbody>\n",
              "</table>\n",
              "<p>308 rows × 11 columns</p>\n",
              "</div>\n",
              "      <button class=\"colab-df-convert\" onclick=\"convertToInteractive('df-256b570e-6500-4472-8ba4-68ed1de8169d')\"\n",
              "              title=\"Convert this dataframe to an interactive table.\"\n",
              "              style=\"display:none;\">\n",
              "        \n",
              "  <svg xmlns=\"http://www.w3.org/2000/svg\" height=\"24px\"viewBox=\"0 0 24 24\"\n",
              "       width=\"24px\">\n",
              "    <path d=\"M0 0h24v24H0V0z\" fill=\"none\"/>\n",
              "    <path d=\"M18.56 5.44l.94 2.06.94-2.06 2.06-.94-2.06-.94-.94-2.06-.94 2.06-2.06.94zm-11 1L8.5 8.5l.94-2.06 2.06-.94-2.06-.94L8.5 2.5l-.94 2.06-2.06.94zm10 10l.94 2.06.94-2.06 2.06-.94-2.06-.94-.94-2.06-.94 2.06-2.06.94z\"/><path d=\"M17.41 7.96l-1.37-1.37c-.4-.4-.92-.59-1.43-.59-.52 0-1.04.2-1.43.59L10.3 9.45l-7.72 7.72c-.78.78-.78 2.05 0 2.83L4 21.41c.39.39.9.59 1.41.59.51 0 1.02-.2 1.41-.59l7.78-7.78 2.81-2.81c.8-.78.8-2.07 0-2.86zM5.41 20L4 18.59l7.72-7.72 1.47 1.35L5.41 20z\"/>\n",
              "  </svg>\n",
              "      </button>\n",
              "      \n",
              "  <style>\n",
              "    .colab-df-container {\n",
              "      display:flex;\n",
              "      flex-wrap:wrap;\n",
              "      gap: 12px;\n",
              "    }\n",
              "\n",
              "    .colab-df-convert {\n",
              "      background-color: #E8F0FE;\n",
              "      border: none;\n",
              "      border-radius: 50%;\n",
              "      cursor: pointer;\n",
              "      display: none;\n",
              "      fill: #1967D2;\n",
              "      height: 32px;\n",
              "      padding: 0 0 0 0;\n",
              "      width: 32px;\n",
              "    }\n",
              "\n",
              "    .colab-df-convert:hover {\n",
              "      background-color: #E2EBFA;\n",
              "      box-shadow: 0px 1px 2px rgba(60, 64, 67, 0.3), 0px 1px 3px 1px rgba(60, 64, 67, 0.15);\n",
              "      fill: #174EA6;\n",
              "    }\n",
              "\n",
              "    [theme=dark] .colab-df-convert {\n",
              "      background-color: #3B4455;\n",
              "      fill: #D2E3FC;\n",
              "    }\n",
              "\n",
              "    [theme=dark] .colab-df-convert:hover {\n",
              "      background-color: #434B5C;\n",
              "      box-shadow: 0px 1px 3px 1px rgba(0, 0, 0, 0.15);\n",
              "      filter: drop-shadow(0px 1px 2px rgba(0, 0, 0, 0.3));\n",
              "      fill: #FFFFFF;\n",
              "    }\n",
              "  </style>\n",
              "\n",
              "      <script>\n",
              "        const buttonEl =\n",
              "          document.querySelector('#df-256b570e-6500-4472-8ba4-68ed1de8169d button.colab-df-convert');\n",
              "        buttonEl.style.display =\n",
              "          google.colab.kernel.accessAllowed ? 'block' : 'none';\n",
              "\n",
              "        async function convertToInteractive(key) {\n",
              "          const element = document.querySelector('#df-256b570e-6500-4472-8ba4-68ed1de8169d');\n",
              "          const dataTable =\n",
              "            await google.colab.kernel.invokeFunction('convertToInteractive',\n",
              "                                                     [key], {});\n",
              "          if (!dataTable) return;\n",
              "\n",
              "          const docLinkHtml = 'Like what you see? Visit the ' +\n",
              "            '<a target=\"_blank\" href=https://colab.research.google.com/notebooks/data_table.ipynb>data table notebook</a>'\n",
              "            + ' to learn more about interactive tables.';\n",
              "          element.innerHTML = '';\n",
              "          dataTable['output_type'] = 'display_data';\n",
              "          await google.colab.output.renderOutput(dataTable, element);\n",
              "          const docLink = document.createElement('div');\n",
              "          docLink.innerHTML = docLinkHtml;\n",
              "          element.appendChild(docLink);\n",
              "        }\n",
              "      </script>\n",
              "    </div>\n",
              "  </div>\n",
              "  "
            ]
          },
          "metadata": {},
          "execution_count": 180
        }
      ]
    },
    {
      "cell_type": "code",
      "source": [
        "temple.iloc[1]['text']"
      ],
      "metadata": {
        "colab": {
          "base_uri": "https://localhost:8080/",
          "height": 0
        },
        "id": "wD73AROLyESm",
        "outputId": "617d7eb2-78e1-4b79-9821-d4c6c5243438"
      },
      "execution_count": 181,
      "outputs": [
        {
          "output_type": "execute_result",
          "data": {
            "text/plain": [
              "'#Qlik #Москва #вакансия #удаленка \\nКрупная фармацевтическая компания сейчас в поиске разработчика QlikView.\\n\\nВилка: 150-230 на руки (штат/ИП)\\n\\nОбязанности:\\n\\nРазработка и сопровождение решений в системе QlikView\\nКонтроль выполнения текущих процедур сбора данных\\nПоддержка и обучение пользователей\\nНаписание технической документации\\n\\nТребования:\\n\\nВысшее образование, желательно техническое\\nПрактический опыт разработки моделей данных любой сложности, дашбордов и отчетных форм на платформе QlikView.\\nПрактический опыт сопровождения инфраструктуры QlikView, настройки прав доступа пользователей.\\nБазовые знания по архитектуре реляционных СУБД. Приветствуется опыт написания SQL-запросов.\\nПриветствуются навыки разработки скриптов на языках powershell, python и т.п., а также опыт написания макросов VBA.\\nХорошее знание MS Excel.\\n\\nУсловия:\\n\\nОформление в соответствии ТК РФ в штат Компании или по ИП;\\nКонкурентоспособная заработная плата;\\nБонусы по итогам успешного выполнения плановых показателей;\\nДМС, страхование жизни;\\nОбучение и повышение квалификации;\\nУдаленная работа/частичная удаленная работа\\n👇\\nКонтакты: \\n@Arixx (Telegram)'"
            ],
            "application/vnd.google.colaboratory.intrinsic+json": {
              "type": "string"
            }
          },
          "metadata": {},
          "execution_count": 181
        }
      ]
    },
    {
      "cell_type": "code",
      "source": [
        "temple.iloc[10]['text']"
      ],
      "metadata": {
        "colab": {
          "base_uri": "https://localhost:8080/",
          "height": 0
        },
        "id": "61XiSOtZyYzU",
        "outputId": "8cb99854-0a51-4153-9161-026b74087f3e"
      },
      "execution_count": 182,
      "outputs": [
        {
          "output_type": "execute_result",
          "data": {
            "text/plain": [
              "'#СПБ #Газпромнефть #fulltime\\nЗП от 60 тыс.рублей до 150 тыс.рублей\\nВ поисках разработчика QlikView:                                                                                                         Разработка аналитических приложений на базе платформы QlikView.\\nРазработка процедур загрузки данных из внешних источников для приложений на платформе QlikView.\\nКонсультации и поддержка пользователей аналитических приложений на базе платформы QlikView.\\nДокументация разработанных и находящихся на поддержке решений на базе платформы QlikView.\\nУчастие в процессе тестирования и передачи заказчику разработанных решений (анализ тестовых сценариев, подготовка сценариев демонстрации решений заказчику)                                            Контакты: @GoncharovaIT'"
            ],
            "application/vnd.google.colaboratory.intrinsic+json": {
              "type": "string"
            }
          },
          "metadata": {},
          "execution_count": 182
        }
      ]
    },
    {
      "cell_type": "code",
      "source": [
        "temple.iloc[20]['text']"
      ],
      "metadata": {
        "colab": {
          "base_uri": "https://localhost:8080/",
          "height": 0
        },
        "id": "f2K545KWydIA",
        "outputId": "02b3542f-d376-4cca-abbc-16d9f02b1414"
      },
      "execution_count": 183,
      "outputs": [
        {
          "output_type": "execute_result",
          "data": {
            "text/plain": [
              "'#вакансия #ozon #спб\\nРазработчик MS SQL (OLTP), опыт 2-3 года\\nвилка: 120-180+ net (но можно обсуждать)\\nофис: пл. Ал. Невского (пока удаленка или частичная удаленка)\\nзадачи: разработка нового бизнес функционала + сервисы\\nрезюме и вопросы: @WizarD51 \\nпочта: niproskuryakov@ozon.ru\\n\\nЕсть также позиции в Мск, вилка по ним иная. (не моя команда)\\nЗа информацией можно также ко мне.'"
            ],
            "application/vnd.google.colaboratory.intrinsic+json": {
              "type": "string"
            }
          },
          "metadata": {},
          "execution_count": 183
        }
      ]
    },
    {
      "cell_type": "code",
      "source": [
        "temple.iloc[30]['text']"
      ],
      "metadata": {
        "colab": {
          "base_uri": "https://localhost:8080/",
          "height": 0
        },
        "id": "cu9WMnjdyiE3",
        "outputId": "b916abf6-a6fd-4a06-8e2e-b113f2a08410"
      },
      "execution_count": 184,
      "outputs": [
        {
          "output_type": "execute_result",
          "data": {
            "text/plain": [
              "'#вакансия #технолог #дбо #россия #удаленно\\n\\nВакансия: Технолог ДБО (Банк)\\nКомпания Код Подбора\\nЛокация #россия \\nЗ/п: 200 – 240k gross\\n\\n\\nОбязанности:\\nсбор и анализ требований\\nпроведение предварительного анализа и проектирование интеграционного решения\\nразработка FSD\\nпроработка архитектуры решения в рамках проекта создания интернет банка корпоративных клиентов\\nпроектирование кросс-системных взаимодействий\\nсогласование тест-кейсов\\nкоординация команды разработчиков\\nучастие в процессе приемки и внедрения задач \\nучастие в процессах сопровождения системы (3-я линия)\\n\\nТребования: \\nопыт командной разработки\\nопыт проектирования бизнес-процессов \\nопыт проектирования web-приложений \\nопыт проектирования моделей данных \\nопыт проектирования кросс-системных взаимодействий \\nзнание XML, XSD, JSON \\nзнание SQL \\nзнание UML – желательно\\n\\nКонтакты: dashikin88'"
            ],
            "application/vnd.google.colaboratory.intrinsic+json": {
              "type": "string"
            }
          },
          "metadata": {},
          "execution_count": 184
        }
      ]
    },
    {
      "cell_type": "code",
      "source": [
        "temple.iloc[40]['text']"
      ],
      "metadata": {
        "colab": {
          "base_uri": "https://localhost:8080/",
          "height": 0
        },
        "id": "jEwBB2OFyq7w",
        "outputId": "f4924465-94b5-4bf7-d71b-66cdd404b558"
      },
      "execution_count": 185,
      "outputs": [
        {
          "output_type": "execute_result",
          "data": {
            "text/plain": [
              "'(Тимир (@usualreptiloid) оч оч классный, всем писать #2)'"
            ],
            "application/vnd.google.colaboratory.intrinsic+json": {
              "type": "string"
            }
          },
          "metadata": {},
          "execution_count": 185
        }
      ]
    },
    {
      "cell_type": "code",
      "source": [
        "temple.iloc[50]['text']"
      ],
      "metadata": {
        "colab": {
          "base_uri": "https://localhost:8080/",
          "height": 0
        },
        "id": "PzpiiaBsyux9",
        "outputId": "77198dae-75aa-430b-f9f6-7519a72b6752"
      },
      "execution_count": 186,
      "outputs": [
        {
          "output_type": "execute_result",
          "data": {
            "text/plain": [
              "'@helen09977'"
            ],
            "application/vnd.google.colaboratory.intrinsic+json": {
              "type": "string"
            }
          },
          "metadata": {},
          "execution_count": 186
        }
      ]
    },
    {
      "cell_type": "code",
      "source": [
        "temple.iloc[60]['text']"
      ],
      "metadata": {
        "colab": {
          "base_uri": "https://localhost:8080/",
          "height": 0
        },
        "id": "ZamoX1LQy-FD",
        "outputId": "c3ca7045-ee9d-48b6-e512-5f9389aa392b"
      },
      "execution_count": 187,
      "outputs": [
        {
          "output_type": "execute_result",
          "data": {
            "text/plain": [
              "'Frontend-разработчик (Angular) ⌨️\\nВ Тинькофф большое angular-комьюнити — у нас работают более 100 разработчиков. Мы разрабатываем десятки SPA приложений: Тинькофф Бизнес, Тинькофф.CRM, наш внутренний мессенджер, различные HR-проекты, BPM и многое другое. Так что нам нужно еще больше профессионалов! Ищем сильного frontend-разработка (Angular). \\n\\n➡️ Как работается фронтендерам в Тинькофф можно почитать здесь: https://l.tinkoff.ru/frontend-tinkoff\\n\\nЧто вам точно понадобится:\\n— уверенное знание основ JavaScript;\\n— опыт работы с Angular;\\n— опыт работы в agile команде;\\n— понимание работы веб-приложений (http протокол, Rest API);\\n— умение проводить качественное код-ревью.\\n\\nЧем вы будете заниматься: \\n— разрабатывать SPA приложения для проектов Тинькофф;\\n— участвовать в командной разработке;\\n— совершенствовать технические инструментов;\\n— внедрять новые технологии и практики.\\n\\nМесто жительства не принципиально: можно работать в одном из наших офисов, можно удаленно.\\n\\nБольше подробностей и форма для резюме здесь: https://l.tinkoff.ru/frontend-dev-angular\\n\\n\\n#frontend #javascript'"
            ],
            "application/vnd.google.colaboratory.intrinsic+json": {
              "type": "string"
            }
          },
          "metadata": {},
          "execution_count": 187
        }
      ]
    },
    {
      "cell_type": "markdown",
      "source": [
        "Вывод: просмотренные выборочно из таблицы выше тексты позваоляют сделать выод, что это не про аналитиков данных. \n",
        "Это про разработчиков и прочие професссии\n",
        "\n",
        "Можно удалить эти строки из датасета как не профильные вакансии\n",
        "## Разобраться с этим!!! "
      ],
      "metadata": {
        "id": "AtiH67nsCOME"
      }
    },
    {
      "cell_type": "code",
      "source": [
        "#data = telegram.query('da == False & ds == False & de == False')"
      ],
      "metadata": {
        "id": "f46xRHIm2OIC"
      },
      "execution_count": 31,
      "outputs": []
    },
    {
      "cell_type": "markdown",
      "metadata": {
        "id": "XcfLB35IG08L"
      },
      "source": [
        "### Достанем все ссылки"
      ]
    },
    {
      "cell_type": "code",
      "execution_count": 188,
      "metadata": {
        "id": "k1iZNG-2GpDl"
      },
      "outputs": [],
      "source": [
        "def get_links(x, regexp='http\\S+'): ###\n",
        "    try:\n",
        "        for i in json.loads(x['entities']):\n",
        "            if i['type'] == 'MessageEntityType.TEXT_LINK':\n",
        "                return i['url']\n",
        "            elif i['type'] == 'MessageEntityType.URL':\n",
        "                url = re.findall(regexp, x['text'])[0]\n",
        "                return url\n",
        "    except:\n",
        "        return None"
      ]
    },
    {
      "cell_type": "code",
      "execution_count": 189,
      "metadata": {
        "id": "hEZWBQ56G08L"
      },
      "outputs": [],
      "source": [
        "telegram['url'] = telegram.apply(get_links, axis=1)"
      ]
    },
    {
      "cell_type": "code",
      "execution_count": 190,
      "metadata": {
        "colab": {
          "base_uri": "https://localhost:8080/",
          "height": 0
        },
        "id": "MQAgXpd6jhcA",
        "outputId": "0af951c3-097e-4320-920f-d406900257d9"
      },
      "outputs": [
        {
          "output_type": "execute_result",
          "data": {
            "text/plain": [
              "                                                   chat  message_id  \\\n",
              "276   {\\n    \"_\": \"Chat\",\\n    \"id\": -1001291755040,...         536   \n",
              "1294  {\\n    \"_\": \"Chat\",\\n    \"id\": -1001269377842,...         725   \n",
              "839   {\\n    \"_\": \"Chat\",\\n    \"id\": -1001269377842,...        1223   \n",
              "314   {\\n    \"_\": \"Chat\",\\n    \"id\": -1001291755040,...         485   \n",
              "1738  {\\n    \"_\": \"Chat\",\\n    \"id\": -1001269377842,...         219   \n",
              "\n",
              "                    date                                               text  \\\n",
              "276  2021-10-14 13:47:31  \"#вакансия #web #webanalyst \\n\\nВакансия: Web ...   \n",
              "1294 2021-06-01 18:59:52  # BigData #Python    #вакансия  #работа \\n\\nНа...   \n",
              "839  2022-01-24 19:32:51  # Data scientist #DS #вакансия #Junior  \\n\\nКо...   \n",
              "314  2021-07-07 15:42:10  #BI #BusinessIntelligence #PowerBI #SQL #SQLSe...   \n",
              "1738 2020-01-27 13:54:50  #BI #Greenplum #ClickHouse #Apache #ETL #Terad...   \n",
              "\n",
              "                                               entities        chat_id  \\\n",
              "276   [\\n    {\\n        \"_\": \"MessageEntity\",\\n     ... -1001291755040   \n",
              "1294  [\\n    {\\n        \"_\": \"MessageEntity\",\\n     ... -1001269377842   \n",
              "839   [\\n    {\\n        \"_\": \"MessageEntity\",\\n     ... -1001269377842   \n",
              "314   [\\n    {\\n        \"_\": \"MessageEntity\",\\n     ... -1001291755040   \n",
              "1738  [\\n    {\\n        \"_\": \"MessageEntity\",\\n     ... -1001269377842   \n",
              "\n",
              "                                 title     ds    da     de  \\\n",
              "276   Business Intelligence HeadHunter  False  True  False   \n",
              "1294                    Data jobs feed   True  True   True   \n",
              "839                     Data jobs feed   True  True   True   \n",
              "314   Business Intelligence HeadHunter   True  True   True   \n",
              "1738                    Data jobs feed  False  True  False   \n",
              "\n",
              "                                                    url  \n",
              "276                                                None  \n",
              "1294                                               None  \n",
              "839   https://engels.hh.ru/vacancy/51632135?hhtmFrom...  \n",
              "314                                                None  \n",
              "1738                                               None  "
            ],
            "text/html": [
              "\n",
              "  <div id=\"df-6dd8e399-7f52-4ccc-844c-b111b492d23d\">\n",
              "    <div class=\"colab-df-container\">\n",
              "      <div>\n",
              "<style scoped>\n",
              "    .dataframe tbody tr th:only-of-type {\n",
              "        vertical-align: middle;\n",
              "    }\n",
              "\n",
              "    .dataframe tbody tr th {\n",
              "        vertical-align: top;\n",
              "    }\n",
              "\n",
              "    .dataframe thead th {\n",
              "        text-align: right;\n",
              "    }\n",
              "</style>\n",
              "<table border=\"1\" class=\"dataframe\">\n",
              "  <thead>\n",
              "    <tr style=\"text-align: right;\">\n",
              "      <th></th>\n",
              "      <th>chat</th>\n",
              "      <th>message_id</th>\n",
              "      <th>date</th>\n",
              "      <th>text</th>\n",
              "      <th>entities</th>\n",
              "      <th>chat_id</th>\n",
              "      <th>title</th>\n",
              "      <th>ds</th>\n",
              "      <th>da</th>\n",
              "      <th>de</th>\n",
              "      <th>url</th>\n",
              "    </tr>\n",
              "  </thead>\n",
              "  <tbody>\n",
              "    <tr>\n",
              "      <th>276</th>\n",
              "      <td>{\\n    \"_\": \"Chat\",\\n    \"id\": -1001291755040,...</td>\n",
              "      <td>536</td>\n",
              "      <td>2021-10-14 13:47:31</td>\n",
              "      <td>\"#вакансия #web #webanalyst \\n\\nВакансия: Web ...</td>\n",
              "      <td>[\\n    {\\n        \"_\": \"MessageEntity\",\\n     ...</td>\n",
              "      <td>-1001291755040</td>\n",
              "      <td>Business Intelligence HeadHunter</td>\n",
              "      <td>False</td>\n",
              "      <td>True</td>\n",
              "      <td>False</td>\n",
              "      <td>None</td>\n",
              "    </tr>\n",
              "    <tr>\n",
              "      <th>1294</th>\n",
              "      <td>{\\n    \"_\": \"Chat\",\\n    \"id\": -1001269377842,...</td>\n",
              "      <td>725</td>\n",
              "      <td>2021-06-01 18:59:52</td>\n",
              "      <td># BigData #Python    #вакансия  #работа \\n\\nНа...</td>\n",
              "      <td>[\\n    {\\n        \"_\": \"MessageEntity\",\\n     ...</td>\n",
              "      <td>-1001269377842</td>\n",
              "      <td>Data jobs feed</td>\n",
              "      <td>True</td>\n",
              "      <td>True</td>\n",
              "      <td>True</td>\n",
              "      <td>None</td>\n",
              "    </tr>\n",
              "    <tr>\n",
              "      <th>839</th>\n",
              "      <td>{\\n    \"_\": \"Chat\",\\n    \"id\": -1001269377842,...</td>\n",
              "      <td>1223</td>\n",
              "      <td>2022-01-24 19:32:51</td>\n",
              "      <td># Data scientist #DS #вакансия #Junior  \\n\\nКо...</td>\n",
              "      <td>[\\n    {\\n        \"_\": \"MessageEntity\",\\n     ...</td>\n",
              "      <td>-1001269377842</td>\n",
              "      <td>Data jobs feed</td>\n",
              "      <td>True</td>\n",
              "      <td>True</td>\n",
              "      <td>True</td>\n",
              "      <td>https://engels.hh.ru/vacancy/51632135?hhtmFrom...</td>\n",
              "    </tr>\n",
              "    <tr>\n",
              "      <th>314</th>\n",
              "      <td>{\\n    \"_\": \"Chat\",\\n    \"id\": -1001291755040,...</td>\n",
              "      <td>485</td>\n",
              "      <td>2021-07-07 15:42:10</td>\n",
              "      <td>#BI #BusinessIntelligence #PowerBI #SQL #SQLSe...</td>\n",
              "      <td>[\\n    {\\n        \"_\": \"MessageEntity\",\\n     ...</td>\n",
              "      <td>-1001291755040</td>\n",
              "      <td>Business Intelligence HeadHunter</td>\n",
              "      <td>True</td>\n",
              "      <td>True</td>\n",
              "      <td>True</td>\n",
              "      <td>None</td>\n",
              "    </tr>\n",
              "    <tr>\n",
              "      <th>1738</th>\n",
              "      <td>{\\n    \"_\": \"Chat\",\\n    \"id\": -1001269377842,...</td>\n",
              "      <td>219</td>\n",
              "      <td>2020-01-27 13:54:50</td>\n",
              "      <td>#BI #Greenplum #ClickHouse #Apache #ETL #Terad...</td>\n",
              "      <td>[\\n    {\\n        \"_\": \"MessageEntity\",\\n     ...</td>\n",
              "      <td>-1001269377842</td>\n",
              "      <td>Data jobs feed</td>\n",
              "      <td>False</td>\n",
              "      <td>True</td>\n",
              "      <td>False</td>\n",
              "      <td>None</td>\n",
              "    </tr>\n",
              "  </tbody>\n",
              "</table>\n",
              "</div>\n",
              "      <button class=\"colab-df-convert\" onclick=\"convertToInteractive('df-6dd8e399-7f52-4ccc-844c-b111b492d23d')\"\n",
              "              title=\"Convert this dataframe to an interactive table.\"\n",
              "              style=\"display:none;\">\n",
              "        \n",
              "  <svg xmlns=\"http://www.w3.org/2000/svg\" height=\"24px\"viewBox=\"0 0 24 24\"\n",
              "       width=\"24px\">\n",
              "    <path d=\"M0 0h24v24H0V0z\" fill=\"none\"/>\n",
              "    <path d=\"M18.56 5.44l.94 2.06.94-2.06 2.06-.94-2.06-.94-.94-2.06-.94 2.06-2.06.94zm-11 1L8.5 8.5l.94-2.06 2.06-.94-2.06-.94L8.5 2.5l-.94 2.06-2.06.94zm10 10l.94 2.06.94-2.06 2.06-.94-2.06-.94-.94-2.06-.94 2.06-2.06.94z\"/><path d=\"M17.41 7.96l-1.37-1.37c-.4-.4-.92-.59-1.43-.59-.52 0-1.04.2-1.43.59L10.3 9.45l-7.72 7.72c-.78.78-.78 2.05 0 2.83L4 21.41c.39.39.9.59 1.41.59.51 0 1.02-.2 1.41-.59l7.78-7.78 2.81-2.81c.8-.78.8-2.07 0-2.86zM5.41 20L4 18.59l7.72-7.72 1.47 1.35L5.41 20z\"/>\n",
              "  </svg>\n",
              "      </button>\n",
              "      \n",
              "  <style>\n",
              "    .colab-df-container {\n",
              "      display:flex;\n",
              "      flex-wrap:wrap;\n",
              "      gap: 12px;\n",
              "    }\n",
              "\n",
              "    .colab-df-convert {\n",
              "      background-color: #E8F0FE;\n",
              "      border: none;\n",
              "      border-radius: 50%;\n",
              "      cursor: pointer;\n",
              "      display: none;\n",
              "      fill: #1967D2;\n",
              "      height: 32px;\n",
              "      padding: 0 0 0 0;\n",
              "      width: 32px;\n",
              "    }\n",
              "\n",
              "    .colab-df-convert:hover {\n",
              "      background-color: #E2EBFA;\n",
              "      box-shadow: 0px 1px 2px rgba(60, 64, 67, 0.3), 0px 1px 3px 1px rgba(60, 64, 67, 0.15);\n",
              "      fill: #174EA6;\n",
              "    }\n",
              "\n",
              "    [theme=dark] .colab-df-convert {\n",
              "      background-color: #3B4455;\n",
              "      fill: #D2E3FC;\n",
              "    }\n",
              "\n",
              "    [theme=dark] .colab-df-convert:hover {\n",
              "      background-color: #434B5C;\n",
              "      box-shadow: 0px 1px 3px 1px rgba(0, 0, 0, 0.15);\n",
              "      filter: drop-shadow(0px 1px 2px rgba(0, 0, 0, 0.3));\n",
              "      fill: #FFFFFF;\n",
              "    }\n",
              "  </style>\n",
              "\n",
              "      <script>\n",
              "        const buttonEl =\n",
              "          document.querySelector('#df-6dd8e399-7f52-4ccc-844c-b111b492d23d button.colab-df-convert');\n",
              "        buttonEl.style.display =\n",
              "          google.colab.kernel.accessAllowed ? 'block' : 'none';\n",
              "\n",
              "        async function convertToInteractive(key) {\n",
              "          const element = document.querySelector('#df-6dd8e399-7f52-4ccc-844c-b111b492d23d');\n",
              "          const dataTable =\n",
              "            await google.colab.kernel.invokeFunction('convertToInteractive',\n",
              "                                                     [key], {});\n",
              "          if (!dataTable) return;\n",
              "\n",
              "          const docLinkHtml = 'Like what you see? Visit the ' +\n",
              "            '<a target=\"_blank\" href=https://colab.research.google.com/notebooks/data_table.ipynb>data table notebook</a>'\n",
              "            + ' to learn more about interactive tables.';\n",
              "          element.innerHTML = '';\n",
              "          dataTable['output_type'] = 'display_data';\n",
              "          await google.colab.output.renderOutput(dataTable, element);\n",
              "          const docLink = document.createElement('div');\n",
              "          docLink.innerHTML = docLinkHtml;\n",
              "          element.appendChild(docLink);\n",
              "        }\n",
              "      </script>\n",
              "    </div>\n",
              "  </div>\n",
              "  "
            ]
          },
          "metadata": {},
          "execution_count": 190
        }
      ],
      "source": [
        "telegram.head()"
      ]
    },
    {
      "cell_type": "markdown",
      "source": [
        "Вывод: В базе осталост 2 487 строк, из которых ссылка на описание вакансий есть только у половины. \n",
        "\n"
      ],
      "metadata": {
        "id": "Gfhos4pTC4gk"
      }
    },
    {
      "cell_type": "markdown",
      "metadata": {
        "id": "DFsstSc4G08M"
      },
      "source": [
        "###! Часть 2. Обогащение данныъ\n",
        "Так как Парсинг ссылок занимает около 2х часов - то код закоминтен!\n",
        "Ссылки спаршены и загружены как отдельный датасет!!!!!!!\n",
        "# Не запускать код ниже!"
      ]
    },
    {
      "cell_type": "markdown",
      "metadata": {
        "id": "6j7oEn35G08M"
      },
      "source": [
        "### Парсим ссылки"
      ]
    },
    {
      "cell_type": "markdown",
      "metadata": {
        "id": "wczNgcMHG08M"
      },
      "source": [
        "Документация BeautifulSoup: https://www.crummy.com/software/BeautifulSoup/bs4/doc/ \n",
        "      "
      ]
    },
    {
      "cell_type": "code",
      "execution_count": 58,
      "metadata": {
        "id": "20eTJohyG08M"
      },
      "outputs": [],
      "source": [
        "def parse_site(url, element='div', extra_info=None):\n",
        "    try:\n",
        "        data = requests.get(url).text ###\n",
        "        soup = BeautifulSoup(data)\n",
        "        elements = []\n",
        "        for extra in extra_info:\n",
        "            elements += soup.find_all(element, extra)\n",
        "        html = ''\n",
        "        for i in elements:\n",
        "            html += str(i)\n",
        "        return html\n",
        "    except Exception as e:\n",
        "        return '<p>Не удалось получить элемент</p>'"
      ]
    },
    {
      "cell_type": "markdown",
      "metadata": {
        "id": "QoLpzW1GG08M"
      },
      "source": [
        "Проверим содержимое"
      ]
    },
    {
      "cell_type": "code",
      "execution_count": 60,
      "metadata": {
        "colab": {
          "base_uri": "https://localhost:8080/",
          "height": 169
        },
        "id": "qJzyDCsMG08M",
        "outputId": "09031ab4-c362-4316-8b3c-d9be4c9f5f50"
      },
      "outputs": [
        {
          "output_type": "error",
          "ename": "NameError",
          "evalue": "ignored",
          "traceback": [
            "\u001b[0;31m---------------------------------------------------------------------------\u001b[0m",
            "\u001b[0;31mNameError\u001b[0m                                 Traceback (most recent call last)",
            "\u001b[0;32m<ipython-input-60-72f9fd5a1bed>\u001b[0m in \u001b[0;36m<module>\u001b[0;34m\u001b[0m\n\u001b[0;32m----> 1\u001b[0;31m \u001b[0mHTML\u001b[0m\u001b[0;34m(\u001b[0m\u001b[0mparse_site\u001b[0m\u001b[0;34m(\u001b[0m\u001b[0mdata\u001b[0m\u001b[0;34m[\u001b[0m\u001b[0;34m'url'\u001b[0m\u001b[0;34m]\u001b[0m\u001b[0;34m[\u001b[0m\u001b[0;36m1\u001b[0m\u001b[0;34m]\u001b[0m\u001b[0;34m,\u001b[0m \u001b[0mextra_info\u001b[0m\u001b[0;34m=\u001b[0m\u001b[0;34m[\u001b[0m\u001b[0;34m{\u001b[0m\u001b[0;34m'class'\u001b[0m\u001b[0;34m:\u001b[0m \u001b[0;34m'list-parent vacancy-desc'\u001b[0m\u001b[0;34m}\u001b[0m\u001b[0;34m]\u001b[0m\u001b[0;34m)\u001b[0m\u001b[0;34m)\u001b[0m\u001b[0;34m\u001b[0m\u001b[0;34m\u001b[0m\u001b[0m\n\u001b[0m",
            "\u001b[0;31mNameError\u001b[0m: name 'data' is not defined"
          ]
        }
      ],
      "source": [
        "HTML(parse_site(data['url'][1], extra_info=[{'class': 'list-parent vacancy-desc'}]))"
      ]
    },
    {
      "cell_type": "markdown",
      "metadata": {
        "id": "8seeikBMG08M"
      },
      "source": [
        "Нужно перебрать все варианты блоков, где отображена информация о вакансиях.\\\n",
        "Если у нас часто встречаются одни и те же сайты, можно взять доп информацию о блоке и указать ее "
      ]
    },
    {
      "cell_type": "code",
      "execution_count": null,
      "metadata": {
        "id": "VEcY_nwMG08N"
      },
      "outputs": [],
      "source": [
        "#заранее добавили какие есть классы на рассматриваемых сайтах\n",
        "\n",
        "extra_infos = [{'class': 'list-parent vacancy-desc'}, \n",
        "               {'class': 'bp-Vacancy__description bp-VacancyDescription'}, \n",
        "               {'id': 'vacancy-description'},\n",
        "               {'class': 'section__block panel js-show'},\n",
        "               {'class': 'mb-4'},\n",
        "               {'class': 'tags'},\n",
        "               {'class': 'category'},\n",
        "               {'class': 'location'},\n",
        "               {'class': 'jobinfo'} ]\n",
        "\n",
        "###\n"
      ]
    },
    {
      "cell_type": "code",
      "source": [
        "#telegram['parsed_text'] = telegram['url'].apply(lambda x: parse_site(x, extra_info=extra_infos))\n"
      ],
      "metadata": {
        "id": "kStdORDwiw3x"
      },
      "execution_count": null,
      "outputs": []
    },
    {
      "cell_type": "markdown",
      "source": [
        "Так как в результате парсинга (2 часа времен + спарсилось не больше 30% текстов ссылок, то ценности в этих данных нет. Продолжим работать с исходным файлом"
      ],
      "metadata": {
        "id": "ngWrtuMc0oZ0"
      }
    },
    {
      "cell_type": "markdown",
      "source": [
        "### Часть 3. Обогащщаем данные "
      ],
      "metadata": {
        "id": "wg-4HkZwEHBq"
      }
    },
    {
      "cell_type": "code",
      "source": [
        "df = telegram"
      ],
      "metadata": {
        "id": "PPYtiJnGjruj"
      },
      "execution_count": 191,
      "outputs": []
    },
    {
      "cell_type": "code",
      "execution_count": 192,
      "metadata": {
        "id": "-k1cPgwmlCRP",
        "colab": {
          "base_uri": "https://localhost:8080/"
        },
        "outputId": "d08efed1-bcfb-4e58-d5a6-bfbf37287882"
      },
      "outputs": [
        {
          "output_type": "stream",
          "name": "stdout",
          "text": [
            "<class 'pandas.core.frame.DataFrame'>\n",
            "Int64Index: 3887 entries, 276 to 4531\n",
            "Data columns (total 11 columns):\n",
            " #   Column      Non-Null Count  Dtype         \n",
            "---  ------      --------------  -----         \n",
            " 0   chat        3887 non-null   object        \n",
            " 1   message_id  3887 non-null   int64         \n",
            " 2   date        3887 non-null   datetime64[ns]\n",
            " 3   text        3887 non-null   object        \n",
            " 4   entities    3887 non-null   object        \n",
            " 5   chat_id     3887 non-null   int64         \n",
            " 6   title       3887 non-null   object        \n",
            " 7   ds          3887 non-null   bool          \n",
            " 8   da          3887 non-null   bool          \n",
            " 9   de          3887 non-null   bool          \n",
            " 10  url         2059 non-null   object        \n",
            "dtypes: bool(3), datetime64[ns](1), int64(2), object(5)\n",
            "memory usage: 284.7+ KB\n"
          ]
        }
      ],
      "source": [
        "df.info()"
      ]
    },
    {
      "cell_type": "markdown",
      "source": [
        "## Начнем обогащать датасет категориями данных через регулярные выражения"
      ],
      "metadata": {
        "id": "1lVdcAAHdyqU"
      }
    },
    {
      "cell_type": "markdown",
      "source": [
        "### Вытащим информацию о\n",
        "\n",
        "* грейдах: джун, мидл, синиор, лид\n",
        "* тип, удаленка или офис"
      ],
      "metadata": {
        "id": "pNzjFvPwd6lU"
      }
    },
    {
      "cell_type": "code",
      "source": [
        "rel =  r'relocate|reloc|релокац|релокация|Релокейт|релокейт'\n",
        "jun =  r'junior|Junior|джун|начинающ|стаж[её]р'\n",
        "middle = r'Middle|middle|\\Wмидл|миддл|2-х лет'\n",
        "senior =  r'Senior|senior|синьор|сеньор|\\Wстарш|5 лет'\n",
        "lead = r'senior|синьор|сеньор|\\Wстарш|Руководител|руководител'\n",
        "remote = r'Удалёнка|удалёнка|Удаленка|удален|remote|Remote|удалённо|Удалён'\n",
        "gibrid = r'гибрид|Гибрид|gibrid|Gibrid'\n",
        "office = r'офис|Офис'\t"
      ],
      "metadata": {
        "id": "jOke_HMjd5c8"
      },
      "execution_count": 193,
      "outputs": []
    },
    {
      "cell_type": "code",
      "source": [
        "# грейд \n",
        "df['junior'] = df['text'].apply(lambda x: True if re.search(jun, x.lower()) else False)\n",
        "df['middle'] = df['text'].apply(lambda x: True if re.search(middle, x.lower()) else False)\n",
        "df['senior'] = df['text'].apply(lambda x: True if re.search(senior, x.lower()) else False)\n",
        "df['lead'] = df['text'].apply(lambda x: True if re.search(lead, x.lower()) else False)\n",
        "\n",
        "\n",
        "\n",
        "# Тип занятости\n",
        "\n",
        "df['remote'] = df['text'].apply(lambda x: True if re.search(remote, x.lower()) else False)\n",
        "df['gibrid'] = df['text'].apply(lambda x: True if re.search(gibrid, x.lower()) else False)\n",
        "df['office'] = df['text'].apply(lambda x: True if re.search(office, x.lower()) else False)\n",
        "\n",
        "\n"
      ],
      "metadata": {
        "id": "7dLTLc0pfNL2"
      },
      "execution_count": 194,
      "outputs": []
    },
    {
      "cell_type": "code",
      "source": [
        "df.head()"
      ],
      "metadata": {
        "colab": {
          "base_uri": "https://localhost:8080/",
          "height": 0
        },
        "id": "eMVbDfvWfYVw",
        "outputId": "bc39928c-d6d8-4130-921f-a77fbbf13c33"
      },
      "execution_count": 195,
      "outputs": [
        {
          "output_type": "execute_result",
          "data": {
            "text/plain": [
              "                                                   chat  message_id  \\\n",
              "276   {\\n    \"_\": \"Chat\",\\n    \"id\": -1001291755040,...         536   \n",
              "1294  {\\n    \"_\": \"Chat\",\\n    \"id\": -1001269377842,...         725   \n",
              "839   {\\n    \"_\": \"Chat\",\\n    \"id\": -1001269377842,...        1223   \n",
              "314   {\\n    \"_\": \"Chat\",\\n    \"id\": -1001291755040,...         485   \n",
              "1738  {\\n    \"_\": \"Chat\",\\n    \"id\": -1001269377842,...         219   \n",
              "\n",
              "                    date                                               text  \\\n",
              "276  2021-10-14 13:47:31  \"#вакансия #web #webanalyst \\n\\nВакансия: Web ...   \n",
              "1294 2021-06-01 18:59:52  # BigData #Python    #вакансия  #работа \\n\\nНа...   \n",
              "839  2022-01-24 19:32:51  # Data scientist #DS #вакансия #Junior  \\n\\nКо...   \n",
              "314  2021-07-07 15:42:10  #BI #BusinessIntelligence #PowerBI #SQL #SQLSe...   \n",
              "1738 2020-01-27 13:54:50  #BI #Greenplum #ClickHouse #Apache #ETL #Terad...   \n",
              "\n",
              "                                               entities        chat_id  \\\n",
              "276   [\\n    {\\n        \"_\": \"MessageEntity\",\\n     ... -1001291755040   \n",
              "1294  [\\n    {\\n        \"_\": \"MessageEntity\",\\n     ... -1001269377842   \n",
              "839   [\\n    {\\n        \"_\": \"MessageEntity\",\\n     ... -1001269377842   \n",
              "314   [\\n    {\\n        \"_\": \"MessageEntity\",\\n     ... -1001291755040   \n",
              "1738  [\\n    {\\n        \"_\": \"MessageEntity\",\\n     ... -1001269377842   \n",
              "\n",
              "                                 title     ds    da     de  \\\n",
              "276   Business Intelligence HeadHunter  False  True  False   \n",
              "1294                    Data jobs feed   True  True   True   \n",
              "839                     Data jobs feed   True  True   True   \n",
              "314   Business Intelligence HeadHunter   True  True   True   \n",
              "1738                    Data jobs feed  False  True  False   \n",
              "\n",
              "                                                    url  junior  middle  \\\n",
              "276                                                None   False   False   \n",
              "1294                                               None   False   False   \n",
              "839   https://engels.hh.ru/vacancy/51632135?hhtmFrom...    True   False   \n",
              "314                                                None   False    True   \n",
              "1738                                               None   False   False   \n",
              "\n",
              "      senior   lead  remote  gibrid  office  \n",
              "276    False  False   False   False   False  \n",
              "1294    True   True    True   False   False  \n",
              "839    False  False    True   False    True  \n",
              "314    False  False    True   False    True  \n",
              "1738   False  False   False   False   False  "
            ],
            "text/html": [
              "\n",
              "  <div id=\"df-4ed5cb9b-3845-48e6-8a5d-9b5ba5f8ef1b\">\n",
              "    <div class=\"colab-df-container\">\n",
              "      <div>\n",
              "<style scoped>\n",
              "    .dataframe tbody tr th:only-of-type {\n",
              "        vertical-align: middle;\n",
              "    }\n",
              "\n",
              "    .dataframe tbody tr th {\n",
              "        vertical-align: top;\n",
              "    }\n",
              "\n",
              "    .dataframe thead th {\n",
              "        text-align: right;\n",
              "    }\n",
              "</style>\n",
              "<table border=\"1\" class=\"dataframe\">\n",
              "  <thead>\n",
              "    <tr style=\"text-align: right;\">\n",
              "      <th></th>\n",
              "      <th>chat</th>\n",
              "      <th>message_id</th>\n",
              "      <th>date</th>\n",
              "      <th>text</th>\n",
              "      <th>entities</th>\n",
              "      <th>chat_id</th>\n",
              "      <th>title</th>\n",
              "      <th>ds</th>\n",
              "      <th>da</th>\n",
              "      <th>de</th>\n",
              "      <th>url</th>\n",
              "      <th>junior</th>\n",
              "      <th>middle</th>\n",
              "      <th>senior</th>\n",
              "      <th>lead</th>\n",
              "      <th>remote</th>\n",
              "      <th>gibrid</th>\n",
              "      <th>office</th>\n",
              "    </tr>\n",
              "  </thead>\n",
              "  <tbody>\n",
              "    <tr>\n",
              "      <th>276</th>\n",
              "      <td>{\\n    \"_\": \"Chat\",\\n    \"id\": -1001291755040,...</td>\n",
              "      <td>536</td>\n",
              "      <td>2021-10-14 13:47:31</td>\n",
              "      <td>\"#вакансия #web #webanalyst \\n\\nВакансия: Web ...</td>\n",
              "      <td>[\\n    {\\n        \"_\": \"MessageEntity\",\\n     ...</td>\n",
              "      <td>-1001291755040</td>\n",
              "      <td>Business Intelligence HeadHunter</td>\n",
              "      <td>False</td>\n",
              "      <td>True</td>\n",
              "      <td>False</td>\n",
              "      <td>None</td>\n",
              "      <td>False</td>\n",
              "      <td>False</td>\n",
              "      <td>False</td>\n",
              "      <td>False</td>\n",
              "      <td>False</td>\n",
              "      <td>False</td>\n",
              "      <td>False</td>\n",
              "    </tr>\n",
              "    <tr>\n",
              "      <th>1294</th>\n",
              "      <td>{\\n    \"_\": \"Chat\",\\n    \"id\": -1001269377842,...</td>\n",
              "      <td>725</td>\n",
              "      <td>2021-06-01 18:59:52</td>\n",
              "      <td># BigData #Python    #вакансия  #работа \\n\\nНа...</td>\n",
              "      <td>[\\n    {\\n        \"_\": \"MessageEntity\",\\n     ...</td>\n",
              "      <td>-1001269377842</td>\n",
              "      <td>Data jobs feed</td>\n",
              "      <td>True</td>\n",
              "      <td>True</td>\n",
              "      <td>True</td>\n",
              "      <td>None</td>\n",
              "      <td>False</td>\n",
              "      <td>False</td>\n",
              "      <td>True</td>\n",
              "      <td>True</td>\n",
              "      <td>True</td>\n",
              "      <td>False</td>\n",
              "      <td>False</td>\n",
              "    </tr>\n",
              "    <tr>\n",
              "      <th>839</th>\n",
              "      <td>{\\n    \"_\": \"Chat\",\\n    \"id\": -1001269377842,...</td>\n",
              "      <td>1223</td>\n",
              "      <td>2022-01-24 19:32:51</td>\n",
              "      <td># Data scientist #DS #вакансия #Junior  \\n\\nКо...</td>\n",
              "      <td>[\\n    {\\n        \"_\": \"MessageEntity\",\\n     ...</td>\n",
              "      <td>-1001269377842</td>\n",
              "      <td>Data jobs feed</td>\n",
              "      <td>True</td>\n",
              "      <td>True</td>\n",
              "      <td>True</td>\n",
              "      <td>https://engels.hh.ru/vacancy/51632135?hhtmFrom...</td>\n",
              "      <td>True</td>\n",
              "      <td>False</td>\n",
              "      <td>False</td>\n",
              "      <td>False</td>\n",
              "      <td>True</td>\n",
              "      <td>False</td>\n",
              "      <td>True</td>\n",
              "    </tr>\n",
              "    <tr>\n",
              "      <th>314</th>\n",
              "      <td>{\\n    \"_\": \"Chat\",\\n    \"id\": -1001291755040,...</td>\n",
              "      <td>485</td>\n",
              "      <td>2021-07-07 15:42:10</td>\n",
              "      <td>#BI #BusinessIntelligence #PowerBI #SQL #SQLSe...</td>\n",
              "      <td>[\\n    {\\n        \"_\": \"MessageEntity\",\\n     ...</td>\n",
              "      <td>-1001291755040</td>\n",
              "      <td>Business Intelligence HeadHunter</td>\n",
              "      <td>True</td>\n",
              "      <td>True</td>\n",
              "      <td>True</td>\n",
              "      <td>None</td>\n",
              "      <td>False</td>\n",
              "      <td>True</td>\n",
              "      <td>False</td>\n",
              "      <td>False</td>\n",
              "      <td>True</td>\n",
              "      <td>False</td>\n",
              "      <td>True</td>\n",
              "    </tr>\n",
              "    <tr>\n",
              "      <th>1738</th>\n",
              "      <td>{\\n    \"_\": \"Chat\",\\n    \"id\": -1001269377842,...</td>\n",
              "      <td>219</td>\n",
              "      <td>2020-01-27 13:54:50</td>\n",
              "      <td>#BI #Greenplum #ClickHouse #Apache #ETL #Terad...</td>\n",
              "      <td>[\\n    {\\n        \"_\": \"MessageEntity\",\\n     ...</td>\n",
              "      <td>-1001269377842</td>\n",
              "      <td>Data jobs feed</td>\n",
              "      <td>False</td>\n",
              "      <td>True</td>\n",
              "      <td>False</td>\n",
              "      <td>None</td>\n",
              "      <td>False</td>\n",
              "      <td>False</td>\n",
              "      <td>False</td>\n",
              "      <td>False</td>\n",
              "      <td>False</td>\n",
              "      <td>False</td>\n",
              "      <td>False</td>\n",
              "    </tr>\n",
              "  </tbody>\n",
              "</table>\n",
              "</div>\n",
              "      <button class=\"colab-df-convert\" onclick=\"convertToInteractive('df-4ed5cb9b-3845-48e6-8a5d-9b5ba5f8ef1b')\"\n",
              "              title=\"Convert this dataframe to an interactive table.\"\n",
              "              style=\"display:none;\">\n",
              "        \n",
              "  <svg xmlns=\"http://www.w3.org/2000/svg\" height=\"24px\"viewBox=\"0 0 24 24\"\n",
              "       width=\"24px\">\n",
              "    <path d=\"M0 0h24v24H0V0z\" fill=\"none\"/>\n",
              "    <path d=\"M18.56 5.44l.94 2.06.94-2.06 2.06-.94-2.06-.94-.94-2.06-.94 2.06-2.06.94zm-11 1L8.5 8.5l.94-2.06 2.06-.94-2.06-.94L8.5 2.5l-.94 2.06-2.06.94zm10 10l.94 2.06.94-2.06 2.06-.94-2.06-.94-.94-2.06-.94 2.06-2.06.94z\"/><path d=\"M17.41 7.96l-1.37-1.37c-.4-.4-.92-.59-1.43-.59-.52 0-1.04.2-1.43.59L10.3 9.45l-7.72 7.72c-.78.78-.78 2.05 0 2.83L4 21.41c.39.39.9.59 1.41.59.51 0 1.02-.2 1.41-.59l7.78-7.78 2.81-2.81c.8-.78.8-2.07 0-2.86zM5.41 20L4 18.59l7.72-7.72 1.47 1.35L5.41 20z\"/>\n",
              "  </svg>\n",
              "      </button>\n",
              "      \n",
              "  <style>\n",
              "    .colab-df-container {\n",
              "      display:flex;\n",
              "      flex-wrap:wrap;\n",
              "      gap: 12px;\n",
              "    }\n",
              "\n",
              "    .colab-df-convert {\n",
              "      background-color: #E8F0FE;\n",
              "      border: none;\n",
              "      border-radius: 50%;\n",
              "      cursor: pointer;\n",
              "      display: none;\n",
              "      fill: #1967D2;\n",
              "      height: 32px;\n",
              "      padding: 0 0 0 0;\n",
              "      width: 32px;\n",
              "    }\n",
              "\n",
              "    .colab-df-convert:hover {\n",
              "      background-color: #E2EBFA;\n",
              "      box-shadow: 0px 1px 2px rgba(60, 64, 67, 0.3), 0px 1px 3px 1px rgba(60, 64, 67, 0.15);\n",
              "      fill: #174EA6;\n",
              "    }\n",
              "\n",
              "    [theme=dark] .colab-df-convert {\n",
              "      background-color: #3B4455;\n",
              "      fill: #D2E3FC;\n",
              "    }\n",
              "\n",
              "    [theme=dark] .colab-df-convert:hover {\n",
              "      background-color: #434B5C;\n",
              "      box-shadow: 0px 1px 3px 1px rgba(0, 0, 0, 0.15);\n",
              "      filter: drop-shadow(0px 1px 2px rgba(0, 0, 0, 0.3));\n",
              "      fill: #FFFFFF;\n",
              "    }\n",
              "  </style>\n",
              "\n",
              "      <script>\n",
              "        const buttonEl =\n",
              "          document.querySelector('#df-4ed5cb9b-3845-48e6-8a5d-9b5ba5f8ef1b button.colab-df-convert');\n",
              "        buttonEl.style.display =\n",
              "          google.colab.kernel.accessAllowed ? 'block' : 'none';\n",
              "\n",
              "        async function convertToInteractive(key) {\n",
              "          const element = document.querySelector('#df-4ed5cb9b-3845-48e6-8a5d-9b5ba5f8ef1b');\n",
              "          const dataTable =\n",
              "            await google.colab.kernel.invokeFunction('convertToInteractive',\n",
              "                                                     [key], {});\n",
              "          if (!dataTable) return;\n",
              "\n",
              "          const docLinkHtml = 'Like what you see? Visit the ' +\n",
              "            '<a target=\"_blank\" href=https://colab.research.google.com/notebooks/data_table.ipynb>data table notebook</a>'\n",
              "            + ' to learn more about interactive tables.';\n",
              "          element.innerHTML = '';\n",
              "          dataTable['output_type'] = 'display_data';\n",
              "          await google.colab.output.renderOutput(dataTable, element);\n",
              "          const docLink = document.createElement('div');\n",
              "          docLink.innerHTML = docLinkHtml;\n",
              "          element.appendChild(docLink);\n",
              "        }\n",
              "      </script>\n",
              "    </div>\n",
              "  </div>\n",
              "  "
            ]
          },
          "metadata": {},
          "execution_count": 195
        }
      ]
    },
    {
      "cell_type": "markdown",
      "source": [
        "Вывод: у нас получилась куча столбцоы, приведем их к единообразицю\n",
        "Лямбда фунцию в спаршенному тексту применяли на случай проверки отсутствующей информации из описания (если нет данных)"
      ],
      "metadata": {
        "id": "P-vx0x2zguG8"
      }
    },
    {
      "cell_type": "markdown",
      "source": [
        "### Выведем все Грейдф в одну колонку"
      ],
      "metadata": {
        "id": "LhqFUXz3hIi1"
      }
    },
    {
      "cell_type": "code",
      "source": [
        "df['grade'] = \"\"\n",
        "df['grade'].astype('str')\n",
        "\n",
        "for index, row in df.iterrows():\n",
        "  if df['junior'][index] == True:\n",
        "    df['grade'][index] = 'junior'\n",
        "  elif df['middle'][index] == True:\n",
        "    df['grade'][index] = 'middle'\n",
        "  elif df['senior'][index] == True:\n",
        "    df['grade'][index] = 'senior'\n",
        "  elif df['lead'][index] == True:\n",
        "    df['grade'][index] = 'lead'\n",
        "  else:\n",
        "    df['grade'][index] = 'not_defined'\n",
        "         \n",
        "\n",
        "\n"
      ],
      "metadata": {
        "colab": {
          "base_uri": "https://localhost:8080/"
        },
        "id": "_-RhqnFmhN7I",
        "outputId": "c18e51bb-b258-45aa-a69e-4e867bbb221d"
      },
      "execution_count": 196,
      "outputs": [
        {
          "output_type": "stream",
          "name": "stderr",
          "text": [
            "/usr/local/lib/python3.7/dist-packages/ipykernel_launcher.py:14: SettingWithCopyWarning: \n",
            "A value is trying to be set on a copy of a slice from a DataFrame\n",
            "\n",
            "See the caveats in the documentation: https://pandas.pydata.org/pandas-docs/stable/user_guide/indexing.html#returning-a-view-versus-a-copy\n",
            "  \n",
            "/usr/local/lib/python3.7/dist-packages/ipykernel_launcher.py:10: SettingWithCopyWarning: \n",
            "A value is trying to be set on a copy of a slice from a DataFrame\n",
            "\n",
            "See the caveats in the documentation: https://pandas.pydata.org/pandas-docs/stable/user_guide/indexing.html#returning-a-view-versus-a-copy\n",
            "  # Remove the CWD from sys.path while we load stuff.\n",
            "/usr/local/lib/python3.7/dist-packages/ipykernel_launcher.py:6: SettingWithCopyWarning: \n",
            "A value is trying to be set on a copy of a slice from a DataFrame\n",
            "\n",
            "See the caveats in the documentation: https://pandas.pydata.org/pandas-docs/stable/user_guide/indexing.html#returning-a-view-versus-a-copy\n",
            "  \n",
            "/usr/local/lib/python3.7/dist-packages/ipykernel_launcher.py:8: SettingWithCopyWarning: \n",
            "A value is trying to be set on a copy of a slice from a DataFrame\n",
            "\n",
            "See the caveats in the documentation: https://pandas.pydata.org/pandas-docs/stable/user_guide/indexing.html#returning-a-view-versus-a-copy\n",
            "  \n",
            "/usr/local/lib/python3.7/dist-packages/ipykernel_launcher.py:12: SettingWithCopyWarning: \n",
            "A value is trying to be set on a copy of a slice from a DataFrame\n",
            "\n",
            "See the caveats in the documentation: https://pandas.pydata.org/pandas-docs/stable/user_guide/indexing.html#returning-a-view-versus-a-copy\n",
            "  if sys.path[0] == '':\n"
          ]
        }
      ]
    },
    {
      "cell_type": "code",
      "source": [
        "df = df.drop(columns = ['junior','middle', 'senior'])"
      ],
      "metadata": {
        "id": "dR_VFf4NkVaX"
      },
      "execution_count": 197,
      "outputs": []
    },
    {
      "cell_type": "markdown",
      "source": [
        "### Выведем все Типы занятости в одну колонку"
      ],
      "metadata": {
        "id": "qZC_kDuSi6gm"
      }
    },
    {
      "cell_type": "code",
      "source": [
        "df['type_office'] = \"\"\n",
        "df['type_office'].astype('str')\n",
        "\n",
        "for index, row in df.iterrows():\n",
        "  if df['remote'][index] == True:\n",
        "    df['type_office'][index] = 'remote'\n",
        "  elif df['gibrid'][index] == True:\n",
        "    df['type_office'][index] = 'gibrid'\n",
        "  elif df['office'][index] == True:\n",
        "    df['type_office'][index] = 'office'\n",
        "  else:\n",
        "    df['type_office'][index] = 'not_defined'\n",
        "         \n",
        "\n"
      ],
      "metadata": {
        "colab": {
          "base_uri": "https://localhost:8080/"
        },
        "id": "kwZc4-Q2jCtX",
        "outputId": "9d18d6fb-f580-4001-a693-6b6325b6cc56"
      },
      "execution_count": 198,
      "outputs": [
        {
          "output_type": "stream",
          "name": "stderr",
          "text": [
            "/usr/local/lib/python3.7/dist-packages/ipykernel_launcher.py:12: SettingWithCopyWarning: \n",
            "A value is trying to be set on a copy of a slice from a DataFrame\n",
            "\n",
            "See the caveats in the documentation: https://pandas.pydata.org/pandas-docs/stable/user_guide/indexing.html#returning-a-view-versus-a-copy\n",
            "  if sys.path[0] == '':\n",
            "/usr/local/lib/python3.7/dist-packages/ipykernel_launcher.py:6: SettingWithCopyWarning: \n",
            "A value is trying to be set on a copy of a slice from a DataFrame\n",
            "\n",
            "See the caveats in the documentation: https://pandas.pydata.org/pandas-docs/stable/user_guide/indexing.html#returning-a-view-versus-a-copy\n",
            "  \n",
            "/usr/local/lib/python3.7/dist-packages/ipykernel_launcher.py:10: SettingWithCopyWarning: \n",
            "A value is trying to be set on a copy of a slice from a DataFrame\n",
            "\n",
            "See the caveats in the documentation: https://pandas.pydata.org/pandas-docs/stable/user_guide/indexing.html#returning-a-view-versus-a-copy\n",
            "  # Remove the CWD from sys.path while we load stuff.\n",
            "/usr/local/lib/python3.7/dist-packages/ipykernel_launcher.py:8: SettingWithCopyWarning: \n",
            "A value is trying to be set on a copy of a slice from a DataFrame\n",
            "\n",
            "See the caveats in the documentation: https://pandas.pydata.org/pandas-docs/stable/user_guide/indexing.html#returning-a-view-versus-a-copy\n",
            "  \n"
          ]
        }
      ]
    },
    {
      "cell_type": "code",
      "source": [
        "df.head(1)"
      ],
      "metadata": {
        "colab": {
          "base_uri": "https://localhost:8080/",
          "height": 0
        },
        "id": "-Vz0xwBolTfL",
        "outputId": "b1f2a3c4-90b7-40a2-abdd-402630c94e38"
      },
      "execution_count": 199,
      "outputs": [
        {
          "output_type": "execute_result",
          "data": {
            "text/plain": [
              "                                                  chat  message_id  \\\n",
              "276  {\\n    \"_\": \"Chat\",\\n    \"id\": -1001291755040,...         536   \n",
              "\n",
              "                   date                                               text  \\\n",
              "276 2021-10-14 13:47:31  \"#вакансия #web #webanalyst \\n\\nВакансия: Web ...   \n",
              "\n",
              "                                              entities        chat_id  \\\n",
              "276  [\\n    {\\n        \"_\": \"MessageEntity\",\\n     ... -1001291755040   \n",
              "\n",
              "                                title     ds    da     de   url   lead  \\\n",
              "276  Business Intelligence HeadHunter  False  True  False  None  False   \n",
              "\n",
              "     remote  gibrid  office        grade  type_office  \n",
              "276   False   False   False  not_defined  not_defined  "
            ],
            "text/html": [
              "\n",
              "  <div id=\"df-974b1d61-b27b-4465-981b-a0f5e18e361e\">\n",
              "    <div class=\"colab-df-container\">\n",
              "      <div>\n",
              "<style scoped>\n",
              "    .dataframe tbody tr th:only-of-type {\n",
              "        vertical-align: middle;\n",
              "    }\n",
              "\n",
              "    .dataframe tbody tr th {\n",
              "        vertical-align: top;\n",
              "    }\n",
              "\n",
              "    .dataframe thead th {\n",
              "        text-align: right;\n",
              "    }\n",
              "</style>\n",
              "<table border=\"1\" class=\"dataframe\">\n",
              "  <thead>\n",
              "    <tr style=\"text-align: right;\">\n",
              "      <th></th>\n",
              "      <th>chat</th>\n",
              "      <th>message_id</th>\n",
              "      <th>date</th>\n",
              "      <th>text</th>\n",
              "      <th>entities</th>\n",
              "      <th>chat_id</th>\n",
              "      <th>title</th>\n",
              "      <th>ds</th>\n",
              "      <th>da</th>\n",
              "      <th>de</th>\n",
              "      <th>url</th>\n",
              "      <th>lead</th>\n",
              "      <th>remote</th>\n",
              "      <th>gibrid</th>\n",
              "      <th>office</th>\n",
              "      <th>grade</th>\n",
              "      <th>type_office</th>\n",
              "    </tr>\n",
              "  </thead>\n",
              "  <tbody>\n",
              "    <tr>\n",
              "      <th>276</th>\n",
              "      <td>{\\n    \"_\": \"Chat\",\\n    \"id\": -1001291755040,...</td>\n",
              "      <td>536</td>\n",
              "      <td>2021-10-14 13:47:31</td>\n",
              "      <td>\"#вакансия #web #webanalyst \\n\\nВакансия: Web ...</td>\n",
              "      <td>[\\n    {\\n        \"_\": \"MessageEntity\",\\n     ...</td>\n",
              "      <td>-1001291755040</td>\n",
              "      <td>Business Intelligence HeadHunter</td>\n",
              "      <td>False</td>\n",
              "      <td>True</td>\n",
              "      <td>False</td>\n",
              "      <td>None</td>\n",
              "      <td>False</td>\n",
              "      <td>False</td>\n",
              "      <td>False</td>\n",
              "      <td>False</td>\n",
              "      <td>not_defined</td>\n",
              "      <td>not_defined</td>\n",
              "    </tr>\n",
              "  </tbody>\n",
              "</table>\n",
              "</div>\n",
              "      <button class=\"colab-df-convert\" onclick=\"convertToInteractive('df-974b1d61-b27b-4465-981b-a0f5e18e361e')\"\n",
              "              title=\"Convert this dataframe to an interactive table.\"\n",
              "              style=\"display:none;\">\n",
              "        \n",
              "  <svg xmlns=\"http://www.w3.org/2000/svg\" height=\"24px\"viewBox=\"0 0 24 24\"\n",
              "       width=\"24px\">\n",
              "    <path d=\"M0 0h24v24H0V0z\" fill=\"none\"/>\n",
              "    <path d=\"M18.56 5.44l.94 2.06.94-2.06 2.06-.94-2.06-.94-.94-2.06-.94 2.06-2.06.94zm-11 1L8.5 8.5l.94-2.06 2.06-.94-2.06-.94L8.5 2.5l-.94 2.06-2.06.94zm10 10l.94 2.06.94-2.06 2.06-.94-2.06-.94-.94-2.06-.94 2.06-2.06.94z\"/><path d=\"M17.41 7.96l-1.37-1.37c-.4-.4-.92-.59-1.43-.59-.52 0-1.04.2-1.43.59L10.3 9.45l-7.72 7.72c-.78.78-.78 2.05 0 2.83L4 21.41c.39.39.9.59 1.41.59.51 0 1.02-.2 1.41-.59l7.78-7.78 2.81-2.81c.8-.78.8-2.07 0-2.86zM5.41 20L4 18.59l7.72-7.72 1.47 1.35L5.41 20z\"/>\n",
              "  </svg>\n",
              "      </button>\n",
              "      \n",
              "  <style>\n",
              "    .colab-df-container {\n",
              "      display:flex;\n",
              "      flex-wrap:wrap;\n",
              "      gap: 12px;\n",
              "    }\n",
              "\n",
              "    .colab-df-convert {\n",
              "      background-color: #E8F0FE;\n",
              "      border: none;\n",
              "      border-radius: 50%;\n",
              "      cursor: pointer;\n",
              "      display: none;\n",
              "      fill: #1967D2;\n",
              "      height: 32px;\n",
              "      padding: 0 0 0 0;\n",
              "      width: 32px;\n",
              "    }\n",
              "\n",
              "    .colab-df-convert:hover {\n",
              "      background-color: #E2EBFA;\n",
              "      box-shadow: 0px 1px 2px rgba(60, 64, 67, 0.3), 0px 1px 3px 1px rgba(60, 64, 67, 0.15);\n",
              "      fill: #174EA6;\n",
              "    }\n",
              "\n",
              "    [theme=dark] .colab-df-convert {\n",
              "      background-color: #3B4455;\n",
              "      fill: #D2E3FC;\n",
              "    }\n",
              "\n",
              "    [theme=dark] .colab-df-convert:hover {\n",
              "      background-color: #434B5C;\n",
              "      box-shadow: 0px 1px 3px 1px rgba(0, 0, 0, 0.15);\n",
              "      filter: drop-shadow(0px 1px 2px rgba(0, 0, 0, 0.3));\n",
              "      fill: #FFFFFF;\n",
              "    }\n",
              "  </style>\n",
              "\n",
              "      <script>\n",
              "        const buttonEl =\n",
              "          document.querySelector('#df-974b1d61-b27b-4465-981b-a0f5e18e361e button.colab-df-convert');\n",
              "        buttonEl.style.display =\n",
              "          google.colab.kernel.accessAllowed ? 'block' : 'none';\n",
              "\n",
              "        async function convertToInteractive(key) {\n",
              "          const element = document.querySelector('#df-974b1d61-b27b-4465-981b-a0f5e18e361e');\n",
              "          const dataTable =\n",
              "            await google.colab.kernel.invokeFunction('convertToInteractive',\n",
              "                                                     [key], {});\n",
              "          if (!dataTable) return;\n",
              "\n",
              "          const docLinkHtml = 'Like what you see? Visit the ' +\n",
              "            '<a target=\"_blank\" href=https://colab.research.google.com/notebooks/data_table.ipynb>data table notebook</a>'\n",
              "            + ' to learn more about interactive tables.';\n",
              "          element.innerHTML = '';\n",
              "          dataTable['output_type'] = 'display_data';\n",
              "          await google.colab.output.renderOutput(dataTable, element);\n",
              "          const docLink = document.createElement('div');\n",
              "          docLink.innerHTML = docLinkHtml;\n",
              "          element.appendChild(docLink);\n",
              "        }\n",
              "      </script>\n",
              "    </div>\n",
              "  </div>\n",
              "  "
            ]
          },
          "metadata": {},
          "execution_count": 199
        }
      ]
    },
    {
      "cell_type": "code",
      "source": [
        "df = df.drop(columns = ['remote', 'gibrid','office'])"
      ],
      "metadata": {
        "id": "hvhPSGmxlccM"
      },
      "execution_count": 200,
      "outputs": []
    },
    {
      "cell_type": "code",
      "source": [
        "df.head(2)"
      ],
      "metadata": {
        "colab": {
          "base_uri": "https://localhost:8080/",
          "height": 0
        },
        "id": "JB1-DgRvluEF",
        "outputId": "045b48c9-fcb0-42aa-b2a0-5a3c20a8df5d"
      },
      "execution_count": 201,
      "outputs": [
        {
          "output_type": "execute_result",
          "data": {
            "text/plain": [
              "                                                   chat  message_id  \\\n",
              "276   {\\n    \"_\": \"Chat\",\\n    \"id\": -1001291755040,...         536   \n",
              "1294  {\\n    \"_\": \"Chat\",\\n    \"id\": -1001269377842,...         725   \n",
              "\n",
              "                    date                                               text  \\\n",
              "276  2021-10-14 13:47:31  \"#вакансия #web #webanalyst \\n\\nВакансия: Web ...   \n",
              "1294 2021-06-01 18:59:52  # BigData #Python    #вакансия  #работа \\n\\nНа...   \n",
              "\n",
              "                                               entities        chat_id  \\\n",
              "276   [\\n    {\\n        \"_\": \"MessageEntity\",\\n     ... -1001291755040   \n",
              "1294  [\\n    {\\n        \"_\": \"MessageEntity\",\\n     ... -1001269377842   \n",
              "\n",
              "                                 title     ds    da     de   url   lead  \\\n",
              "276   Business Intelligence HeadHunter  False  True  False  None  False   \n",
              "1294                    Data jobs feed   True  True   True  None   True   \n",
              "\n",
              "            grade  type_office  \n",
              "276   not_defined  not_defined  \n",
              "1294       senior       remote  "
            ],
            "text/html": [
              "\n",
              "  <div id=\"df-012d795b-8311-42ca-a328-bad309bdb99c\">\n",
              "    <div class=\"colab-df-container\">\n",
              "      <div>\n",
              "<style scoped>\n",
              "    .dataframe tbody tr th:only-of-type {\n",
              "        vertical-align: middle;\n",
              "    }\n",
              "\n",
              "    .dataframe tbody tr th {\n",
              "        vertical-align: top;\n",
              "    }\n",
              "\n",
              "    .dataframe thead th {\n",
              "        text-align: right;\n",
              "    }\n",
              "</style>\n",
              "<table border=\"1\" class=\"dataframe\">\n",
              "  <thead>\n",
              "    <tr style=\"text-align: right;\">\n",
              "      <th></th>\n",
              "      <th>chat</th>\n",
              "      <th>message_id</th>\n",
              "      <th>date</th>\n",
              "      <th>text</th>\n",
              "      <th>entities</th>\n",
              "      <th>chat_id</th>\n",
              "      <th>title</th>\n",
              "      <th>ds</th>\n",
              "      <th>da</th>\n",
              "      <th>de</th>\n",
              "      <th>url</th>\n",
              "      <th>lead</th>\n",
              "      <th>grade</th>\n",
              "      <th>type_office</th>\n",
              "    </tr>\n",
              "  </thead>\n",
              "  <tbody>\n",
              "    <tr>\n",
              "      <th>276</th>\n",
              "      <td>{\\n    \"_\": \"Chat\",\\n    \"id\": -1001291755040,...</td>\n",
              "      <td>536</td>\n",
              "      <td>2021-10-14 13:47:31</td>\n",
              "      <td>\"#вакансия #web #webanalyst \\n\\nВакансия: Web ...</td>\n",
              "      <td>[\\n    {\\n        \"_\": \"MessageEntity\",\\n     ...</td>\n",
              "      <td>-1001291755040</td>\n",
              "      <td>Business Intelligence HeadHunter</td>\n",
              "      <td>False</td>\n",
              "      <td>True</td>\n",
              "      <td>False</td>\n",
              "      <td>None</td>\n",
              "      <td>False</td>\n",
              "      <td>not_defined</td>\n",
              "      <td>not_defined</td>\n",
              "    </tr>\n",
              "    <tr>\n",
              "      <th>1294</th>\n",
              "      <td>{\\n    \"_\": \"Chat\",\\n    \"id\": -1001269377842,...</td>\n",
              "      <td>725</td>\n",
              "      <td>2021-06-01 18:59:52</td>\n",
              "      <td># BigData #Python    #вакансия  #работа \\n\\nНа...</td>\n",
              "      <td>[\\n    {\\n        \"_\": \"MessageEntity\",\\n     ...</td>\n",
              "      <td>-1001269377842</td>\n",
              "      <td>Data jobs feed</td>\n",
              "      <td>True</td>\n",
              "      <td>True</td>\n",
              "      <td>True</td>\n",
              "      <td>None</td>\n",
              "      <td>True</td>\n",
              "      <td>senior</td>\n",
              "      <td>remote</td>\n",
              "    </tr>\n",
              "  </tbody>\n",
              "</table>\n",
              "</div>\n",
              "      <button class=\"colab-df-convert\" onclick=\"convertToInteractive('df-012d795b-8311-42ca-a328-bad309bdb99c')\"\n",
              "              title=\"Convert this dataframe to an interactive table.\"\n",
              "              style=\"display:none;\">\n",
              "        \n",
              "  <svg xmlns=\"http://www.w3.org/2000/svg\" height=\"24px\"viewBox=\"0 0 24 24\"\n",
              "       width=\"24px\">\n",
              "    <path d=\"M0 0h24v24H0V0z\" fill=\"none\"/>\n",
              "    <path d=\"M18.56 5.44l.94 2.06.94-2.06 2.06-.94-2.06-.94-.94-2.06-.94 2.06-2.06.94zm-11 1L8.5 8.5l.94-2.06 2.06-.94-2.06-.94L8.5 2.5l-.94 2.06-2.06.94zm10 10l.94 2.06.94-2.06 2.06-.94-2.06-.94-.94-2.06-.94 2.06-2.06.94z\"/><path d=\"M17.41 7.96l-1.37-1.37c-.4-.4-.92-.59-1.43-.59-.52 0-1.04.2-1.43.59L10.3 9.45l-7.72 7.72c-.78.78-.78 2.05 0 2.83L4 21.41c.39.39.9.59 1.41.59.51 0 1.02-.2 1.41-.59l7.78-7.78 2.81-2.81c.8-.78.8-2.07 0-2.86zM5.41 20L4 18.59l7.72-7.72 1.47 1.35L5.41 20z\"/>\n",
              "  </svg>\n",
              "      </button>\n",
              "      \n",
              "  <style>\n",
              "    .colab-df-container {\n",
              "      display:flex;\n",
              "      flex-wrap:wrap;\n",
              "      gap: 12px;\n",
              "    }\n",
              "\n",
              "    .colab-df-convert {\n",
              "      background-color: #E8F0FE;\n",
              "      border: none;\n",
              "      border-radius: 50%;\n",
              "      cursor: pointer;\n",
              "      display: none;\n",
              "      fill: #1967D2;\n",
              "      height: 32px;\n",
              "      padding: 0 0 0 0;\n",
              "      width: 32px;\n",
              "    }\n",
              "\n",
              "    .colab-df-convert:hover {\n",
              "      background-color: #E2EBFA;\n",
              "      box-shadow: 0px 1px 2px rgba(60, 64, 67, 0.3), 0px 1px 3px 1px rgba(60, 64, 67, 0.15);\n",
              "      fill: #174EA6;\n",
              "    }\n",
              "\n",
              "    [theme=dark] .colab-df-convert {\n",
              "      background-color: #3B4455;\n",
              "      fill: #D2E3FC;\n",
              "    }\n",
              "\n",
              "    [theme=dark] .colab-df-convert:hover {\n",
              "      background-color: #434B5C;\n",
              "      box-shadow: 0px 1px 3px 1px rgba(0, 0, 0, 0.15);\n",
              "      filter: drop-shadow(0px 1px 2px rgba(0, 0, 0, 0.3));\n",
              "      fill: #FFFFFF;\n",
              "    }\n",
              "  </style>\n",
              "\n",
              "      <script>\n",
              "        const buttonEl =\n",
              "          document.querySelector('#df-012d795b-8311-42ca-a328-bad309bdb99c button.colab-df-convert');\n",
              "        buttonEl.style.display =\n",
              "          google.colab.kernel.accessAllowed ? 'block' : 'none';\n",
              "\n",
              "        async function convertToInteractive(key) {\n",
              "          const element = document.querySelector('#df-012d795b-8311-42ca-a328-bad309bdb99c');\n",
              "          const dataTable =\n",
              "            await google.colab.kernel.invokeFunction('convertToInteractive',\n",
              "                                                     [key], {});\n",
              "          if (!dataTable) return;\n",
              "\n",
              "          const docLinkHtml = 'Like what you see? Visit the ' +\n",
              "            '<a target=\"_blank\" href=https://colab.research.google.com/notebooks/data_table.ipynb>data table notebook</a>'\n",
              "            + ' to learn more about interactive tables.';\n",
              "          element.innerHTML = '';\n",
              "          dataTable['output_type'] = 'display_data';\n",
              "          await google.colab.output.renderOutput(dataTable, element);\n",
              "          const docLink = document.createElement('div');\n",
              "          docLink.innerHTML = docLinkHtml;\n",
              "          element.appendChild(docLink);\n",
              "        }\n",
              "      </script>\n",
              "    </div>\n",
              "  </div>\n",
              "  "
            ]
          },
          "metadata": {},
          "execution_count": 201
        }
      ]
    },
    {
      "cell_type": "markdown",
      "source": [
        "### добавим  регулярки для самых крупных городов: Москва, СПБ, Новосибирск, Екатеринбург, Казань\n",
        "а также добавим вакансии с релокацией как город \"Релокация\""
      ],
      "metadata": {
        "id": "sGZdLhHql4Vb"
      }
    },
    {
      "cell_type": "code",
      "source": [
        "Mow = r'moscow|москв[аеы]|мск'\n",
        "Spb = r'saint\\Wpetersburg|санкт-петербург[ае]?|питер[ае]?|спб'\n",
        "Novosib = r'novosibirsk|новосибирск[ае]?'\n",
        "Ekat = r'y?ekaterinburg|екатеринбург[ае]'\n",
        "Kazan = r'\\Wkazan\\W|\\Wказан[ьи]'\n",
        "rel =  r'relocate|reloc|релокац|релокация|Релокейт|релокейт'\n"
      ],
      "metadata": {
        "id": "Vc3Oca9JmA9u"
      },
      "execution_count": 202,
      "outputs": []
    },
    {
      "cell_type": "code",
      "source": [
        "# применим для сообщений в канале\n",
        "df['Mow'] = df['text'].apply(lambda x: True if re.search(Mow, x.lower()) else False)\n",
        "df['Spb'] = df['text'].apply(lambda x: True if re.search(Spb, x.lower()) else False)\n",
        "df['Novosib'] = df['text'].apply(lambda x: True if re.search(Novosib, x.lower()) else False)\n",
        "df['Ekat'] = df['text'].apply(lambda x: True if re.search(Ekat, x.lower()) else False)\n",
        "df['Kazan'] = df['text'].apply(lambda x: True if re.search(Kazan, x.lower()) else False)\n",
        "df['relocation'] = df['text'].apply(lambda x: True if re.search(rel, x.lower()) else False)\n",
        "\n"
      ],
      "metadata": {
        "id": "zryB-xd1l3zB"
      },
      "execution_count": 203,
      "outputs": []
    },
    {
      "cell_type": "code",
      "source": [
        "# Соберем все города в одну колонку\n",
        "\n",
        "df['city'] = \"\"\n",
        "df['city'].astype('str')\n",
        "\n",
        "for index, row in df.iterrows():\n",
        "  if df['Mow'][index] == True:\n",
        "    df['city'][index] = 'Moscow'\n",
        "  elif df['Spb'][index] == True:\n",
        "    df['city'][index] = 'Spb'\n",
        "  elif df['Novosib'][index] == True:\n",
        "    df['city'][index] = 'Novosibirsk'\n",
        "  elif df['Ekat'][index] == True:\n",
        "    df['city'][index] = 'Ekatirinburg'\n",
        "  elif df['Kazan'][index] == True:\n",
        "    df['city'][index] = 'Kazan'\n",
        "  elif df['relocation'][index] == True:\n",
        "    df['city'][index] = 'relocation'\n",
        "  else:\n",
        "    df['city'][index] = 'not_defined'"
      ],
      "metadata": {
        "colab": {
          "base_uri": "https://localhost:8080/"
        },
        "id": "KMxVcCXPmmVf",
        "outputId": "c9909fb9-8206-4fb7-c023-e0991c3d5122"
      },
      "execution_count": 204,
      "outputs": [
        {
          "output_type": "stream",
          "name": "stderr",
          "text": [
            "/usr/local/lib/python3.7/dist-packages/ipykernel_launcher.py:20: SettingWithCopyWarning: \n",
            "A value is trying to be set on a copy of a slice from a DataFrame\n",
            "\n",
            "See the caveats in the documentation: https://pandas.pydata.org/pandas-docs/stable/user_guide/indexing.html#returning-a-view-versus-a-copy\n",
            "/usr/local/lib/python3.7/dist-packages/ipykernel_launcher.py:8: SettingWithCopyWarning: \n",
            "A value is trying to be set on a copy of a slice from a DataFrame\n",
            "\n",
            "See the caveats in the documentation: https://pandas.pydata.org/pandas-docs/stable/user_guide/indexing.html#returning-a-view-versus-a-copy\n",
            "  \n",
            "/usr/local/lib/python3.7/dist-packages/ipykernel_launcher.py:18: SettingWithCopyWarning: \n",
            "A value is trying to be set on a copy of a slice from a DataFrame\n",
            "\n",
            "See the caveats in the documentation: https://pandas.pydata.org/pandas-docs/stable/user_guide/indexing.html#returning-a-view-versus-a-copy\n",
            "/usr/local/lib/python3.7/dist-packages/ipykernel_launcher.py:10: SettingWithCopyWarning: \n",
            "A value is trying to be set on a copy of a slice from a DataFrame\n",
            "\n",
            "See the caveats in the documentation: https://pandas.pydata.org/pandas-docs/stable/user_guide/indexing.html#returning-a-view-versus-a-copy\n",
            "  # Remove the CWD from sys.path while we load stuff.\n",
            "/usr/local/lib/python3.7/dist-packages/ipykernel_launcher.py:16: SettingWithCopyWarning: \n",
            "A value is trying to be set on a copy of a slice from a DataFrame\n",
            "\n",
            "See the caveats in the documentation: https://pandas.pydata.org/pandas-docs/stable/user_guide/indexing.html#returning-a-view-versus-a-copy\n",
            "  app.launch_new_instance()\n",
            "/usr/local/lib/python3.7/dist-packages/ipykernel_launcher.py:14: SettingWithCopyWarning: \n",
            "A value is trying to be set on a copy of a slice from a DataFrame\n",
            "\n",
            "See the caveats in the documentation: https://pandas.pydata.org/pandas-docs/stable/user_guide/indexing.html#returning-a-view-versus-a-copy\n",
            "  \n",
            "/usr/local/lib/python3.7/dist-packages/ipykernel_launcher.py:12: SettingWithCopyWarning: \n",
            "A value is trying to be set on a copy of a slice from a DataFrame\n",
            "\n",
            "See the caveats in the documentation: https://pandas.pydata.org/pandas-docs/stable/user_guide/indexing.html#returning-a-view-versus-a-copy\n",
            "  if sys.path[0] == '':\n"
          ]
        }
      ]
    },
    {
      "cell_type": "code",
      "source": [
        "df.head(1)"
      ],
      "metadata": {
        "colab": {
          "base_uri": "https://localhost:8080/",
          "height": 0
        },
        "id": "EiQpSGqfnYMn",
        "outputId": "3f6b446c-686f-4231-9c7f-ac5c5ea34369"
      },
      "execution_count": 205,
      "outputs": [
        {
          "output_type": "execute_result",
          "data": {
            "text/plain": [
              "                                                  chat  message_id  \\\n",
              "276  {\\n    \"_\": \"Chat\",\\n    \"id\": -1001291755040,...         536   \n",
              "\n",
              "                   date                                               text  \\\n",
              "276 2021-10-14 13:47:31  \"#вакансия #web #webanalyst \\n\\nВакансия: Web ...   \n",
              "\n",
              "                                              entities        chat_id  \\\n",
              "276  [\\n    {\\n        \"_\": \"MessageEntity\",\\n     ... -1001291755040   \n",
              "\n",
              "                                title     ds    da     de  ...   lead  \\\n",
              "276  Business Intelligence HeadHunter  False  True  False  ...  False   \n",
              "\n",
              "           grade  type_office    Mow    Spb  Novosib   Ekat  Kazan  \\\n",
              "276  not_defined  not_defined  False  False    False  False  False   \n",
              "\n",
              "     relocation         city  \n",
              "276       False  not_defined  \n",
              "\n",
              "[1 rows x 21 columns]"
            ],
            "text/html": [
              "\n",
              "  <div id=\"df-f10fece1-51bf-4a0b-a7d4-00fd529fe107\">\n",
              "    <div class=\"colab-df-container\">\n",
              "      <div>\n",
              "<style scoped>\n",
              "    .dataframe tbody tr th:only-of-type {\n",
              "        vertical-align: middle;\n",
              "    }\n",
              "\n",
              "    .dataframe tbody tr th {\n",
              "        vertical-align: top;\n",
              "    }\n",
              "\n",
              "    .dataframe thead th {\n",
              "        text-align: right;\n",
              "    }\n",
              "</style>\n",
              "<table border=\"1\" class=\"dataframe\">\n",
              "  <thead>\n",
              "    <tr style=\"text-align: right;\">\n",
              "      <th></th>\n",
              "      <th>chat</th>\n",
              "      <th>message_id</th>\n",
              "      <th>date</th>\n",
              "      <th>text</th>\n",
              "      <th>entities</th>\n",
              "      <th>chat_id</th>\n",
              "      <th>title</th>\n",
              "      <th>ds</th>\n",
              "      <th>da</th>\n",
              "      <th>de</th>\n",
              "      <th>...</th>\n",
              "      <th>lead</th>\n",
              "      <th>grade</th>\n",
              "      <th>type_office</th>\n",
              "      <th>Mow</th>\n",
              "      <th>Spb</th>\n",
              "      <th>Novosib</th>\n",
              "      <th>Ekat</th>\n",
              "      <th>Kazan</th>\n",
              "      <th>relocation</th>\n",
              "      <th>city</th>\n",
              "    </tr>\n",
              "  </thead>\n",
              "  <tbody>\n",
              "    <tr>\n",
              "      <th>276</th>\n",
              "      <td>{\\n    \"_\": \"Chat\",\\n    \"id\": -1001291755040,...</td>\n",
              "      <td>536</td>\n",
              "      <td>2021-10-14 13:47:31</td>\n",
              "      <td>\"#вакансия #web #webanalyst \\n\\nВакансия: Web ...</td>\n",
              "      <td>[\\n    {\\n        \"_\": \"MessageEntity\",\\n     ...</td>\n",
              "      <td>-1001291755040</td>\n",
              "      <td>Business Intelligence HeadHunter</td>\n",
              "      <td>False</td>\n",
              "      <td>True</td>\n",
              "      <td>False</td>\n",
              "      <td>...</td>\n",
              "      <td>False</td>\n",
              "      <td>not_defined</td>\n",
              "      <td>not_defined</td>\n",
              "      <td>False</td>\n",
              "      <td>False</td>\n",
              "      <td>False</td>\n",
              "      <td>False</td>\n",
              "      <td>False</td>\n",
              "      <td>False</td>\n",
              "      <td>not_defined</td>\n",
              "    </tr>\n",
              "  </tbody>\n",
              "</table>\n",
              "<p>1 rows × 21 columns</p>\n",
              "</div>\n",
              "      <button class=\"colab-df-convert\" onclick=\"convertToInteractive('df-f10fece1-51bf-4a0b-a7d4-00fd529fe107')\"\n",
              "              title=\"Convert this dataframe to an interactive table.\"\n",
              "              style=\"display:none;\">\n",
              "        \n",
              "  <svg xmlns=\"http://www.w3.org/2000/svg\" height=\"24px\"viewBox=\"0 0 24 24\"\n",
              "       width=\"24px\">\n",
              "    <path d=\"M0 0h24v24H0V0z\" fill=\"none\"/>\n",
              "    <path d=\"M18.56 5.44l.94 2.06.94-2.06 2.06-.94-2.06-.94-.94-2.06-.94 2.06-2.06.94zm-11 1L8.5 8.5l.94-2.06 2.06-.94-2.06-.94L8.5 2.5l-.94 2.06-2.06.94zm10 10l.94 2.06.94-2.06 2.06-.94-2.06-.94-.94-2.06-.94 2.06-2.06.94z\"/><path d=\"M17.41 7.96l-1.37-1.37c-.4-.4-.92-.59-1.43-.59-.52 0-1.04.2-1.43.59L10.3 9.45l-7.72 7.72c-.78.78-.78 2.05 0 2.83L4 21.41c.39.39.9.59 1.41.59.51 0 1.02-.2 1.41-.59l7.78-7.78 2.81-2.81c.8-.78.8-2.07 0-2.86zM5.41 20L4 18.59l7.72-7.72 1.47 1.35L5.41 20z\"/>\n",
              "  </svg>\n",
              "      </button>\n",
              "      \n",
              "  <style>\n",
              "    .colab-df-container {\n",
              "      display:flex;\n",
              "      flex-wrap:wrap;\n",
              "      gap: 12px;\n",
              "    }\n",
              "\n",
              "    .colab-df-convert {\n",
              "      background-color: #E8F0FE;\n",
              "      border: none;\n",
              "      border-radius: 50%;\n",
              "      cursor: pointer;\n",
              "      display: none;\n",
              "      fill: #1967D2;\n",
              "      height: 32px;\n",
              "      padding: 0 0 0 0;\n",
              "      width: 32px;\n",
              "    }\n",
              "\n",
              "    .colab-df-convert:hover {\n",
              "      background-color: #E2EBFA;\n",
              "      box-shadow: 0px 1px 2px rgba(60, 64, 67, 0.3), 0px 1px 3px 1px rgba(60, 64, 67, 0.15);\n",
              "      fill: #174EA6;\n",
              "    }\n",
              "\n",
              "    [theme=dark] .colab-df-convert {\n",
              "      background-color: #3B4455;\n",
              "      fill: #D2E3FC;\n",
              "    }\n",
              "\n",
              "    [theme=dark] .colab-df-convert:hover {\n",
              "      background-color: #434B5C;\n",
              "      box-shadow: 0px 1px 3px 1px rgba(0, 0, 0, 0.15);\n",
              "      filter: drop-shadow(0px 1px 2px rgba(0, 0, 0, 0.3));\n",
              "      fill: #FFFFFF;\n",
              "    }\n",
              "  </style>\n",
              "\n",
              "      <script>\n",
              "        const buttonEl =\n",
              "          document.querySelector('#df-f10fece1-51bf-4a0b-a7d4-00fd529fe107 button.colab-df-convert');\n",
              "        buttonEl.style.display =\n",
              "          google.colab.kernel.accessAllowed ? 'block' : 'none';\n",
              "\n",
              "        async function convertToInteractive(key) {\n",
              "          const element = document.querySelector('#df-f10fece1-51bf-4a0b-a7d4-00fd529fe107');\n",
              "          const dataTable =\n",
              "            await google.colab.kernel.invokeFunction('convertToInteractive',\n",
              "                                                     [key], {});\n",
              "          if (!dataTable) return;\n",
              "\n",
              "          const docLinkHtml = 'Like what you see? Visit the ' +\n",
              "            '<a target=\"_blank\" href=https://colab.research.google.com/notebooks/data_table.ipynb>data table notebook</a>'\n",
              "            + ' to learn more about interactive tables.';\n",
              "          element.innerHTML = '';\n",
              "          dataTable['output_type'] = 'display_data';\n",
              "          await google.colab.output.renderOutput(dataTable, element);\n",
              "          const docLink = document.createElement('div');\n",
              "          docLink.innerHTML = docLinkHtml;\n",
              "          element.appendChild(docLink);\n",
              "        }\n",
              "      </script>\n",
              "    </div>\n",
              "  </div>\n",
              "  "
            ]
          },
          "metadata": {},
          "execution_count": 205
        }
      ]
    },
    {
      "cell_type": "code",
      "source": [
        "df = df.drop(columns = ['Mow', 'Spb','Novosib', 'Ekat','Kazan','relocation'])"
      ],
      "metadata": {
        "id": "dxXy965GndVO"
      },
      "execution_count": 206,
      "outputs": []
    },
    {
      "cell_type": "markdown",
      "source": [
        "# Попробуем разобраться с самыми популярными навыками через токенизацию и стемминг\n",
        "\n",
        "Сделаем копию колонки текста, иначе все может поломаться потом) "
      ],
      "metadata": {
        "id": "BH5KQSpV1mti"
      }
    },
    {
      "cell_type": "markdown",
      "source": [
        "## Токенизация"
      ],
      "metadata": {
        "id": "YGjTLtdkK8FW"
      }
    },
    {
      "cell_type": "code",
      "source": [
        "import nltk"
      ],
      "metadata": {
        "id": "ATU94pz21l4a"
      },
      "execution_count": 207,
      "outputs": []
    },
    {
      "cell_type": "code",
      "source": [
        "nltk.download('punkt')"
      ],
      "metadata": {
        "colab": {
          "base_uri": "https://localhost:8080/"
        },
        "id": "oI_24LVS1zRK",
        "outputId": "c0e601c7-889e-4911-f492-42fea95ab0c0"
      },
      "execution_count": 208,
      "outputs": [
        {
          "output_type": "stream",
          "name": "stderr",
          "text": [
            "[nltk_data] Downloading package punkt to /root/nltk_data...\n",
            "[nltk_data]   Package punkt is already up-to-date!\n"
          ]
        },
        {
          "output_type": "execute_result",
          "data": {
            "text/plain": [
              "True"
            ]
          },
          "metadata": {},
          "execution_count": 208
        }
      ]
    },
    {
      "cell_type": "code",
      "source": [
        "import string\n",
        "print(string.punctuation)"
      ],
      "metadata": {
        "colab": {
          "base_uri": "https://localhost:8080/"
        },
        "id": "5JJ00X9S4jMo",
        "outputId": "eced910b-edcc-4f94-c099-d7f2ddd41076"
      },
      "execution_count": 209,
      "outputs": [
        {
          "output_type": "stream",
          "name": "stdout",
          "text": [
            "!\"#$%&'()*+,-./:;<=>?@[\\]^_`{|}~\n"
          ]
        }
      ]
    },
    {
      "cell_type": "code",
      "source": [
        " #делаем копию колонки с текстом \n",
        "df['text_copy'] = df['text'].str.lower()"
      ],
      "metadata": {
        "id": "6xS_ULfX4LCE"
      },
      "execution_count": 210,
      "outputs": []
    },
    {
      "cell_type": "code",
      "source": [
        "df['text_copy'] = df['text_copy'].str.replace('[{}]'.format(string.punctuation), '')"
      ],
      "metadata": {
        "colab": {
          "base_uri": "https://localhost:8080/"
        },
        "id": "THonDETk4cOj",
        "outputId": "9070daa8-4e2b-489b-ed81-685fa990d5fb"
      },
      "execution_count": 211,
      "outputs": [
        {
          "output_type": "stream",
          "name": "stderr",
          "text": [
            "/usr/local/lib/python3.7/dist-packages/ipykernel_launcher.py:1: FutureWarning: The default value of regex will change from True to False in a future version.\n",
            "  \"\"\"Entry point for launching an IPython kernel.\n"
          ]
        }
      ]
    },
    {
      "cell_type": "code",
      "source": [
        "# сделали колонки с блоками, ее будем анализировать на предмет вакансий\n",
        "df = df.assign(blocks = lambda x: x['text_copy'].apply(lambda x: x.split(sep='\\n')[0]))\n",
        "'xxxx <strong> yyyyy <strong> zzzzz'. split(sep='\\n')[0]"
      ],
      "metadata": {
        "colab": {
          "base_uri": "https://localhost:8080/",
          "height": 0
        },
        "id": "ALOYwDAGgnbg",
        "outputId": "453f6ac4-589a-4d33-eaf2-309d1a4e7551"
      },
      "execution_count": 212,
      "outputs": [
        {
          "output_type": "execute_result",
          "data": {
            "text/plain": [
              "'xxxx <strong> yyyyy <strong> zzzzz'"
            ],
            "application/vnd.google.colaboratory.intrinsic+json": {
              "type": "string"
            }
          },
          "metadata": {},
          "execution_count": 212
        }
      ]
    },
    {
      "cell_type": "code",
      "source": [
        "df['blocks'][2422]"
      ],
      "metadata": {
        "colab": {
          "base_uri": "https://localhost:8080/",
          "height": 0
        },
        "id": "lUj4VS4mg1lM",
        "outputId": "9d3489c9-120f-4a5f-c1c8-b28d8d4163a7"
      },
      "execution_count": 213,
      "outputs": [
        {
          "output_type": "execute_result",
          "data": {
            "text/plain": [
              "'главный аналитикматематик data analyst  datascientist в москве'"
            ],
            "application/vnd.google.colaboratory.intrinsic+json": {
              "type": "string"
            }
          },
          "metadata": {},
          "execution_count": 213
        }
      ]
    },
    {
      "cell_type": "code",
      "source": [
        "#  сделаем токенизацию наших блоков текста\n",
        "tokenized = df['blocks'].apply(nltk.word_tokenize)"
      ],
      "metadata": {
        "id": "c-QtNPWL2DwY"
      },
      "execution_count": 214,
      "outputs": []
    },
    {
      "cell_type": "code",
      "source": [
        "#  привет ревьюер! вот тут не смогла побелить установку стоп-словчто не так? #\n",
        " \n",
        "#import nltk\n",
        "#nltk.download('stopwords')\n",
        "#print(stopwords.words('russian'))"
      ],
      "metadata": {
        "id": "f57-YTr9ML0E"
      },
      "execution_count": 215,
      "outputs": []
    },
    {
      "cell_type": "code",
      "source": [
        "#stop_words = stopwords.words('russian')\n",
        "#stop_words.extend(['что', 'это', 'так', 'вот', 'быть', 'как', 'в', '—', 'к', 'на'])"
      ],
      "metadata": {
        "id": "eWu6njacMUjN"
      },
      "execution_count": 216,
      "outputs": []
    },
    {
      "cell_type": "code",
      "source": [
        "tokenized.explode()"
      ],
      "metadata": {
        "colab": {
          "base_uri": "https://localhost:8080/"
        },
        "id": "WOlP9ACz12gU",
        "outputId": "e1183a60-d3e6-4785-a813-a0706b3ba750"
      },
      "execution_count": 217,
      "outputs": [
        {
          "output_type": "execute_result",
          "data": {
            "text/plain": [
              "276       вакансия\n",
              "276            web\n",
              "276     webanalyst\n",
              "1294       bigdata\n",
              "1294        python\n",
              "           ...    \n",
              "4531      открытых\n",
              "4531    источников\n",
              "4531            на\n",
              "4531       октябрь\n",
              "4531          2020\n",
              "Name: blocks, Length: 26556, dtype: object"
            ]
          },
          "metadata": {},
          "execution_count": 217
        }
      ]
    },
    {
      "cell_type": "markdown",
      "source": [
        "###Стемминг \n",
        "(чтобы избежать дублей)"
      ],
      "metadata": {
        "id": "gbSFxBUX2eyY"
      }
    },
    {
      "cell_type": "code",
      "source": [
        "stem = nltk.stem.snowball.RussianStemmer()"
      ],
      "metadata": {
        "id": "E_macV_S2izJ"
      },
      "execution_count": 218,
      "outputs": []
    },
    {
      "cell_type": "code",
      "source": [
        "stem.stem('требования')\n",
        "stem.stem('миддл')\n",
        "stem.stem('релокация')\n",
        "stem.stem('релоцироваться')"
      ],
      "metadata": {
        "colab": {
          "base_uri": "https://localhost:8080/",
          "height": 0
        },
        "id": "jHTXl99T2of1",
        "outputId": "5a100d9b-0bf3-40c8-d92b-4654c3a9ab3a"
      },
      "execution_count": 219,
      "outputs": [
        {
          "output_type": "execute_result",
          "data": {
            "text/plain": [
              "'релоцирова'"
            ],
            "application/vnd.google.colaboratory.intrinsic+json": {
              "type": "string"
            }
          },
          "metadata": {},
          "execution_count": 219
        }
      ]
    },
    {
      "cell_type": "code",
      "source": [
        "all_words = tokenized.explode().apply(stem.stem)"
      ],
      "metadata": {
        "id": "hRroj4Dx2wxF"
      },
      "execution_count": 220,
      "outputs": []
    },
    {
      "cell_type": "code",
      "source": [
        "all_words_st = str(all_words)"
      ],
      "metadata": {
        "id": "nMAv1qJeT81f"
      },
      "execution_count": 221,
      "outputs": []
    },
    {
      "cell_type": "code",
      "source": [
        "#  вот тут пыталась исключить стоп-слова, но программа зависала минут на 20 минумум!!!!\n",
        "# from nltk.corpus import stopwords\n",
        "\n",
        "# def remove_stopwords(word_list):\n",
        "        # processed_word_list = []\n",
        "        # for word in word_list:\n",
        "            # word = word.lower() # in case they arenet all lower cased\n",
        "            # if word not in stopwords.words(\"russian\"):\n",
        "               #processed_word_list.append(word)\n",
        "        # return processed_word_list"
      ],
      "metadata": {
        "id": "PySYfwJkTP4Z"
      },
      "execution_count": 222,
      "outputs": []
    },
    {
      "cell_type": "code",
      "source": [
        "# all_words_st.apply(remove_stopwords)"
      ],
      "metadata": {
        "id": "Y5MAGnloVGm6"
      },
      "execution_count": 223,
      "outputs": []
    },
    {
      "cell_type": "code",
      "source": [
        "all_words"
      ],
      "metadata": {
        "colab": {
          "base_uri": "https://localhost:8080/"
        },
        "id": "p89IlyPR4Eq0",
        "outputId": "c0b4bc3b-8520-4817-84b1-b2309589c12b"
      },
      "execution_count": 224,
      "outputs": [
        {
          "output_type": "execute_result",
          "data": {
            "text/plain": [
              "276         ваканс\n",
              "276            web\n",
              "276     webanalyst\n",
              "1294       bigdata\n",
              "1294        python\n",
              "           ...    \n",
              "4531        открыт\n",
              "4531      источник\n",
              "4531            на\n",
              "4531        октябр\n",
              "4531          2020\n",
              "Name: blocks, Length: 26556, dtype: object"
            ]
          },
          "metadata": {},
          "execution_count": 224
        }
      ]
    },
    {
      "cell_type": "code",
      "source": [
        "# Сделаем датафрейм для того, что б нарисовать облачко \n",
        "words_df = all_words.to_frame()"
      ],
      "metadata": {
        "id": "ZYqaUGyPtxL4"
      },
      "execution_count": 225,
      "outputs": []
    },
    {
      "cell_type": "code",
      "source": [
        "temple = words_df.reset_index()"
      ],
      "metadata": {
        "id": "9buUw4egucJh"
      },
      "execution_count": 226,
      "outputs": []
    },
    {
      "cell_type": "code",
      "source": [
        "temple"
      ],
      "metadata": {
        "colab": {
          "base_uri": "https://localhost:8080/",
          "height": 0
        },
        "id": "UQ_28N0QjJsb",
        "outputId": "2c34392b-fb50-4307-f5a9-2692feb971d1"
      },
      "execution_count": 227,
      "outputs": [
        {
          "output_type": "execute_result",
          "data": {
            "text/plain": [
              "       index      blocks\n",
              "0        276      ваканс\n",
              "1        276         web\n",
              "2        276  webanalyst\n",
              "3       1294     bigdata\n",
              "4       1294      python\n",
              "...      ...         ...\n",
              "26551   4531      открыт\n",
              "26552   4531    источник\n",
              "26553   4531          на\n",
              "26554   4531      октябр\n",
              "26555   4531        2020\n",
              "\n",
              "[26556 rows x 2 columns]"
            ],
            "text/html": [
              "\n",
              "  <div id=\"df-07c86c62-4a4b-438f-82c7-cbf4f2cac3fc\">\n",
              "    <div class=\"colab-df-container\">\n",
              "      <div>\n",
              "<style scoped>\n",
              "    .dataframe tbody tr th:only-of-type {\n",
              "        vertical-align: middle;\n",
              "    }\n",
              "\n",
              "    .dataframe tbody tr th {\n",
              "        vertical-align: top;\n",
              "    }\n",
              "\n",
              "    .dataframe thead th {\n",
              "        text-align: right;\n",
              "    }\n",
              "</style>\n",
              "<table border=\"1\" class=\"dataframe\">\n",
              "  <thead>\n",
              "    <tr style=\"text-align: right;\">\n",
              "      <th></th>\n",
              "      <th>index</th>\n",
              "      <th>blocks</th>\n",
              "    </tr>\n",
              "  </thead>\n",
              "  <tbody>\n",
              "    <tr>\n",
              "      <th>0</th>\n",
              "      <td>276</td>\n",
              "      <td>ваканс</td>\n",
              "    </tr>\n",
              "    <tr>\n",
              "      <th>1</th>\n",
              "      <td>276</td>\n",
              "      <td>web</td>\n",
              "    </tr>\n",
              "    <tr>\n",
              "      <th>2</th>\n",
              "      <td>276</td>\n",
              "      <td>webanalyst</td>\n",
              "    </tr>\n",
              "    <tr>\n",
              "      <th>3</th>\n",
              "      <td>1294</td>\n",
              "      <td>bigdata</td>\n",
              "    </tr>\n",
              "    <tr>\n",
              "      <th>4</th>\n",
              "      <td>1294</td>\n",
              "      <td>python</td>\n",
              "    </tr>\n",
              "    <tr>\n",
              "      <th>...</th>\n",
              "      <td>...</td>\n",
              "      <td>...</td>\n",
              "    </tr>\n",
              "    <tr>\n",
              "      <th>26551</th>\n",
              "      <td>4531</td>\n",
              "      <td>открыт</td>\n",
              "    </tr>\n",
              "    <tr>\n",
              "      <th>26552</th>\n",
              "      <td>4531</td>\n",
              "      <td>источник</td>\n",
              "    </tr>\n",
              "    <tr>\n",
              "      <th>26553</th>\n",
              "      <td>4531</td>\n",
              "      <td>на</td>\n",
              "    </tr>\n",
              "    <tr>\n",
              "      <th>26554</th>\n",
              "      <td>4531</td>\n",
              "      <td>октябр</td>\n",
              "    </tr>\n",
              "    <tr>\n",
              "      <th>26555</th>\n",
              "      <td>4531</td>\n",
              "      <td>2020</td>\n",
              "    </tr>\n",
              "  </tbody>\n",
              "</table>\n",
              "<p>26556 rows × 2 columns</p>\n",
              "</div>\n",
              "      <button class=\"colab-df-convert\" onclick=\"convertToInteractive('df-07c86c62-4a4b-438f-82c7-cbf4f2cac3fc')\"\n",
              "              title=\"Convert this dataframe to an interactive table.\"\n",
              "              style=\"display:none;\">\n",
              "        \n",
              "  <svg xmlns=\"http://www.w3.org/2000/svg\" height=\"24px\"viewBox=\"0 0 24 24\"\n",
              "       width=\"24px\">\n",
              "    <path d=\"M0 0h24v24H0V0z\" fill=\"none\"/>\n",
              "    <path d=\"M18.56 5.44l.94 2.06.94-2.06 2.06-.94-2.06-.94-.94-2.06-.94 2.06-2.06.94zm-11 1L8.5 8.5l.94-2.06 2.06-.94-2.06-.94L8.5 2.5l-.94 2.06-2.06.94zm10 10l.94 2.06.94-2.06 2.06-.94-2.06-.94-.94-2.06-.94 2.06-2.06.94z\"/><path d=\"M17.41 7.96l-1.37-1.37c-.4-.4-.92-.59-1.43-.59-.52 0-1.04.2-1.43.59L10.3 9.45l-7.72 7.72c-.78.78-.78 2.05 0 2.83L4 21.41c.39.39.9.59 1.41.59.51 0 1.02-.2 1.41-.59l7.78-7.78 2.81-2.81c.8-.78.8-2.07 0-2.86zM5.41 20L4 18.59l7.72-7.72 1.47 1.35L5.41 20z\"/>\n",
              "  </svg>\n",
              "      </button>\n",
              "      \n",
              "  <style>\n",
              "    .colab-df-container {\n",
              "      display:flex;\n",
              "      flex-wrap:wrap;\n",
              "      gap: 12px;\n",
              "    }\n",
              "\n",
              "    .colab-df-convert {\n",
              "      background-color: #E8F0FE;\n",
              "      border: none;\n",
              "      border-radius: 50%;\n",
              "      cursor: pointer;\n",
              "      display: none;\n",
              "      fill: #1967D2;\n",
              "      height: 32px;\n",
              "      padding: 0 0 0 0;\n",
              "      width: 32px;\n",
              "    }\n",
              "\n",
              "    .colab-df-convert:hover {\n",
              "      background-color: #E2EBFA;\n",
              "      box-shadow: 0px 1px 2px rgba(60, 64, 67, 0.3), 0px 1px 3px 1px rgba(60, 64, 67, 0.15);\n",
              "      fill: #174EA6;\n",
              "    }\n",
              "\n",
              "    [theme=dark] .colab-df-convert {\n",
              "      background-color: #3B4455;\n",
              "      fill: #D2E3FC;\n",
              "    }\n",
              "\n",
              "    [theme=dark] .colab-df-convert:hover {\n",
              "      background-color: #434B5C;\n",
              "      box-shadow: 0px 1px 3px 1px rgba(0, 0, 0, 0.15);\n",
              "      filter: drop-shadow(0px 1px 2px rgba(0, 0, 0, 0.3));\n",
              "      fill: #FFFFFF;\n",
              "    }\n",
              "  </style>\n",
              "\n",
              "      <script>\n",
              "        const buttonEl =\n",
              "          document.querySelector('#df-07c86c62-4a4b-438f-82c7-cbf4f2cac3fc button.colab-df-convert');\n",
              "        buttonEl.style.display =\n",
              "          google.colab.kernel.accessAllowed ? 'block' : 'none';\n",
              "\n",
              "        async function convertToInteractive(key) {\n",
              "          const element = document.querySelector('#df-07c86c62-4a4b-438f-82c7-cbf4f2cac3fc');\n",
              "          const dataTable =\n",
              "            await google.colab.kernel.invokeFunction('convertToInteractive',\n",
              "                                                     [key], {});\n",
              "          if (!dataTable) return;\n",
              "\n",
              "          const docLinkHtml = 'Like what you see? Visit the ' +\n",
              "            '<a target=\"_blank\" href=https://colab.research.google.com/notebooks/data_table.ipynb>data table notebook</a>'\n",
              "            + ' to learn more about interactive tables.';\n",
              "          element.innerHTML = '';\n",
              "          dataTable['output_type'] = 'display_data';\n",
              "          await google.colab.output.renderOutput(dataTable, element);\n",
              "          const docLink = document.createElement('div');\n",
              "          docLink.innerHTML = docLinkHtml;\n",
              "          element.appendChild(docLink);\n",
              "        }\n",
              "      </script>\n",
              "    </div>\n",
              "  </div>\n",
              "  "
            ]
          },
          "metadata": {},
          "execution_count": 227
        }
      ]
    },
    {
      "cell_type": "code",
      "source": [
        "temple.pivot_table(\n",
        "    index = 'blocks',\n",
        "    values = 'index',\n",
        "    aggfunc = 'count'\n",
        ").sort_values(by='index', ascending = False).head(30)"
      ],
      "metadata": {
        "colab": {
          "base_uri": "https://localhost:8080/",
          "height": 0
        },
        "id": "vUvxaFbtLBOG",
        "outputId": "78a1667f-0d73-4aef-babd-61dacdd7e3fb"
      },
      "execution_count": 228,
      "outputs": [
        {
          "output_type": "execute_result",
          "data": {
            "text/plain": [
              "              index\n",
              "blocks             \n",
              "ваканс         1452\n",
              "в               970\n",
              "data            775\n",
              "аналитик        552\n",
              "москв           523\n",
              "и               425\n",
              "fulltime        359\n",
              "python          291\n",
              "scientist       289\n",
              "удаленк         264\n",
              "dataengineer    263\n",
              "analyst         254\n",
              "engineer        245\n",
              "привет          234\n",
              "офис            230\n",
              "senior          226\n",
              "на              222\n",
              "remote          221\n",
              "разработчик     208\n",
              "всем            198\n",
              "работ           191\n",
              "middle          189\n",
              "дан             188\n",
              "👔               187\n",
              "по              185\n",
              "команд          181\n",
              "job             159\n",
              "компан          157\n",
              "bi              147\n",
              "с               146"
            ],
            "text/html": [
              "\n",
              "  <div id=\"df-28492f91-18de-4d0d-9631-1209eef5faeb\">\n",
              "    <div class=\"colab-df-container\">\n",
              "      <div>\n",
              "<style scoped>\n",
              "    .dataframe tbody tr th:only-of-type {\n",
              "        vertical-align: middle;\n",
              "    }\n",
              "\n",
              "    .dataframe tbody tr th {\n",
              "        vertical-align: top;\n",
              "    }\n",
              "\n",
              "    .dataframe thead th {\n",
              "        text-align: right;\n",
              "    }\n",
              "</style>\n",
              "<table border=\"1\" class=\"dataframe\">\n",
              "  <thead>\n",
              "    <tr style=\"text-align: right;\">\n",
              "      <th></th>\n",
              "      <th>index</th>\n",
              "    </tr>\n",
              "    <tr>\n",
              "      <th>blocks</th>\n",
              "      <th></th>\n",
              "    </tr>\n",
              "  </thead>\n",
              "  <tbody>\n",
              "    <tr>\n",
              "      <th>ваканс</th>\n",
              "      <td>1452</td>\n",
              "    </tr>\n",
              "    <tr>\n",
              "      <th>в</th>\n",
              "      <td>970</td>\n",
              "    </tr>\n",
              "    <tr>\n",
              "      <th>data</th>\n",
              "      <td>775</td>\n",
              "    </tr>\n",
              "    <tr>\n",
              "      <th>аналитик</th>\n",
              "      <td>552</td>\n",
              "    </tr>\n",
              "    <tr>\n",
              "      <th>москв</th>\n",
              "      <td>523</td>\n",
              "    </tr>\n",
              "    <tr>\n",
              "      <th>и</th>\n",
              "      <td>425</td>\n",
              "    </tr>\n",
              "    <tr>\n",
              "      <th>fulltime</th>\n",
              "      <td>359</td>\n",
              "    </tr>\n",
              "    <tr>\n",
              "      <th>python</th>\n",
              "      <td>291</td>\n",
              "    </tr>\n",
              "    <tr>\n",
              "      <th>scientist</th>\n",
              "      <td>289</td>\n",
              "    </tr>\n",
              "    <tr>\n",
              "      <th>удаленк</th>\n",
              "      <td>264</td>\n",
              "    </tr>\n",
              "    <tr>\n",
              "      <th>dataengineer</th>\n",
              "      <td>263</td>\n",
              "    </tr>\n",
              "    <tr>\n",
              "      <th>analyst</th>\n",
              "      <td>254</td>\n",
              "    </tr>\n",
              "    <tr>\n",
              "      <th>engineer</th>\n",
              "      <td>245</td>\n",
              "    </tr>\n",
              "    <tr>\n",
              "      <th>привет</th>\n",
              "      <td>234</td>\n",
              "    </tr>\n",
              "    <tr>\n",
              "      <th>офис</th>\n",
              "      <td>230</td>\n",
              "    </tr>\n",
              "    <tr>\n",
              "      <th>senior</th>\n",
              "      <td>226</td>\n",
              "    </tr>\n",
              "    <tr>\n",
              "      <th>на</th>\n",
              "      <td>222</td>\n",
              "    </tr>\n",
              "    <tr>\n",
              "      <th>remote</th>\n",
              "      <td>221</td>\n",
              "    </tr>\n",
              "    <tr>\n",
              "      <th>разработчик</th>\n",
              "      <td>208</td>\n",
              "    </tr>\n",
              "    <tr>\n",
              "      <th>всем</th>\n",
              "      <td>198</td>\n",
              "    </tr>\n",
              "    <tr>\n",
              "      <th>работ</th>\n",
              "      <td>191</td>\n",
              "    </tr>\n",
              "    <tr>\n",
              "      <th>middle</th>\n",
              "      <td>189</td>\n",
              "    </tr>\n",
              "    <tr>\n",
              "      <th>дан</th>\n",
              "      <td>188</td>\n",
              "    </tr>\n",
              "    <tr>\n",
              "      <th>👔</th>\n",
              "      <td>187</td>\n",
              "    </tr>\n",
              "    <tr>\n",
              "      <th>по</th>\n",
              "      <td>185</td>\n",
              "    </tr>\n",
              "    <tr>\n",
              "      <th>команд</th>\n",
              "      <td>181</td>\n",
              "    </tr>\n",
              "    <tr>\n",
              "      <th>job</th>\n",
              "      <td>159</td>\n",
              "    </tr>\n",
              "    <tr>\n",
              "      <th>компан</th>\n",
              "      <td>157</td>\n",
              "    </tr>\n",
              "    <tr>\n",
              "      <th>bi</th>\n",
              "      <td>147</td>\n",
              "    </tr>\n",
              "    <tr>\n",
              "      <th>с</th>\n",
              "      <td>146</td>\n",
              "    </tr>\n",
              "  </tbody>\n",
              "</table>\n",
              "</div>\n",
              "      <button class=\"colab-df-convert\" onclick=\"convertToInteractive('df-28492f91-18de-4d0d-9631-1209eef5faeb')\"\n",
              "              title=\"Convert this dataframe to an interactive table.\"\n",
              "              style=\"display:none;\">\n",
              "        \n",
              "  <svg xmlns=\"http://www.w3.org/2000/svg\" height=\"24px\"viewBox=\"0 0 24 24\"\n",
              "       width=\"24px\">\n",
              "    <path d=\"M0 0h24v24H0V0z\" fill=\"none\"/>\n",
              "    <path d=\"M18.56 5.44l.94 2.06.94-2.06 2.06-.94-2.06-.94-.94-2.06-.94 2.06-2.06.94zm-11 1L8.5 8.5l.94-2.06 2.06-.94-2.06-.94L8.5 2.5l-.94 2.06-2.06.94zm10 10l.94 2.06.94-2.06 2.06-.94-2.06-.94-.94-2.06-.94 2.06-2.06.94z\"/><path d=\"M17.41 7.96l-1.37-1.37c-.4-.4-.92-.59-1.43-.59-.52 0-1.04.2-1.43.59L10.3 9.45l-7.72 7.72c-.78.78-.78 2.05 0 2.83L4 21.41c.39.39.9.59 1.41.59.51 0 1.02-.2 1.41-.59l7.78-7.78 2.81-2.81c.8-.78.8-2.07 0-2.86zM5.41 20L4 18.59l7.72-7.72 1.47 1.35L5.41 20z\"/>\n",
              "  </svg>\n",
              "      </button>\n",
              "      \n",
              "  <style>\n",
              "    .colab-df-container {\n",
              "      display:flex;\n",
              "      flex-wrap:wrap;\n",
              "      gap: 12px;\n",
              "    }\n",
              "\n",
              "    .colab-df-convert {\n",
              "      background-color: #E8F0FE;\n",
              "      border: none;\n",
              "      border-radius: 50%;\n",
              "      cursor: pointer;\n",
              "      display: none;\n",
              "      fill: #1967D2;\n",
              "      height: 32px;\n",
              "      padding: 0 0 0 0;\n",
              "      width: 32px;\n",
              "    }\n",
              "\n",
              "    .colab-df-convert:hover {\n",
              "      background-color: #E2EBFA;\n",
              "      box-shadow: 0px 1px 2px rgba(60, 64, 67, 0.3), 0px 1px 3px 1px rgba(60, 64, 67, 0.15);\n",
              "      fill: #174EA6;\n",
              "    }\n",
              "\n",
              "    [theme=dark] .colab-df-convert {\n",
              "      background-color: #3B4455;\n",
              "      fill: #D2E3FC;\n",
              "    }\n",
              "\n",
              "    [theme=dark] .colab-df-convert:hover {\n",
              "      background-color: #434B5C;\n",
              "      box-shadow: 0px 1px 3px 1px rgba(0, 0, 0, 0.15);\n",
              "      filter: drop-shadow(0px 1px 2px rgba(0, 0, 0, 0.3));\n",
              "      fill: #FFFFFF;\n",
              "    }\n",
              "  </style>\n",
              "\n",
              "      <script>\n",
              "        const buttonEl =\n",
              "          document.querySelector('#df-28492f91-18de-4d0d-9631-1209eef5faeb button.colab-df-convert');\n",
              "        buttonEl.style.display =\n",
              "          google.colab.kernel.accessAllowed ? 'block' : 'none';\n",
              "\n",
              "        async function convertToInteractive(key) {\n",
              "          const element = document.querySelector('#df-28492f91-18de-4d0d-9631-1209eef5faeb');\n",
              "          const dataTable =\n",
              "            await google.colab.kernel.invokeFunction('convertToInteractive',\n",
              "                                                     [key], {});\n",
              "          if (!dataTable) return;\n",
              "\n",
              "          const docLinkHtml = 'Like what you see? Visit the ' +\n",
              "            '<a target=\"_blank\" href=https://colab.research.google.com/notebooks/data_table.ipynb>data table notebook</a>'\n",
              "            + ' to learn more about interactive tables.';\n",
              "          element.innerHTML = '';\n",
              "          dataTable['output_type'] = 'display_data';\n",
              "          await google.colab.output.renderOutput(dataTable, element);\n",
              "          const docLink = document.createElement('div');\n",
              "          docLink.innerHTML = docLinkHtml;\n",
              "          element.appendChild(docLink);\n",
              "        }\n",
              "      </script>\n",
              "    </div>\n",
              "  </div>\n",
              "  "
            ]
          },
          "metadata": {},
          "execution_count": 228
        }
      ]
    },
    {
      "cell_type": "code",
      "source": [
        "from wordcloud import WordCloud\n",
        "import matplotlib.pyplot as plt\n",
        "%matplotlib inline"
      ],
      "metadata": {
        "id": "IuCloHqZTk2B"
      },
      "execution_count": 229,
      "outputs": []
    },
    {
      "cell_type": "code",
      "source": [
        "text = \" \".join(review for review in words_df['blocks'])\n",
        "print (\"There are {} words in the combination of all review.\".format(len(text)))"
      ],
      "metadata": {
        "colab": {
          "base_uri": "https://localhost:8080/"
        },
        "id": "4KtqBOyVVbwb",
        "outputId": "b53b61fc-0685-43f8-f51c-3f165b53cf2a"
      },
      "execution_count": 230,
      "outputs": [
        {
          "output_type": "stream",
          "name": "stdout",
          "text": [
            "There are 180284 words in the combination of all review.\n"
          ]
        }
      ]
    },
    {
      "cell_type": "code",
      "source": [
        "\n",
        "stopwords = ['оп', 'компан', 'задач','ваканс', 'and', ' по', 'как', 'для', 'сервис', 'эт', 'мы', 'ПО', 'всем', 'привет']\n",
        "russian_stopwords = pd.Series(stopwords)\n"
      ],
      "metadata": {
        "id": "hY_p004CV8ws"
      },
      "execution_count": 231,
      "outputs": []
    },
    {
      "cell_type": "code",
      "source": [
        "# Рисуем облачко\n",
        "wordcloud = WordCloud(max_font_size=200, max_words=100,stopwords = russian_stopwords, background_color=\"white\").generate(text)\n",
        "\n",
        "# Выводим на экран:\n",
        "\n",
        "plt.imshow(wordcloud, interpolation='bilinear')\n",
        "plt.axis(\"off\")\n",
        "plt.show()\n"
      ],
      "metadata": {
        "colab": {
          "base_uri": "https://localhost:8080/",
          "height": 0
        },
        "id": "eFKdIvpKVqVa",
        "outputId": "9f3726ad-6307-4042-c20b-b048b2d6a451"
      },
      "execution_count": 232,
      "outputs": [
        {
          "output_type": "display_data",
          "data": {
            "text/plain": [
              "<Figure size 432x288 with 1 Axes>"
            ],
            "image/png": "[encoded data removed]"
          },
          "metadata": {
            "needs_background": "light"
          }
        }
      ]
    },
    {
      "cell_type": "markdown",
      "source": [
        "Вывод: Основа текста - слова с Аналитиками, Москвой и Удаленкой\n",
        "\n",
        "Уберем еще в стоп слова самые частотные и посмотрим что еще интерсного может быть в облачке"
      ],
      "metadata": {
        "id": "ick382VyLqtE"
      }
    },
    {
      "cell_type": "code",
      "source": [
        "stopwords2 = ['оп', 'компан', 'задач','ваканс', 'and', ' по', 'как', 'для', 'сервис', 'эт', 'мы', 'ПО', 'всем', 'привет', 'аналитик', 'москв'\n",
        ", 'удаленк', 'команд', 'ищет', 'ищ', 'vacanc']\n",
        "russian_stopwords = pd.Series(stopwords2)"
      ],
      "metadata": {
        "id": "_uaRO5IYj6Rk"
      },
      "execution_count": 233,
      "outputs": []
    },
    {
      "cell_type": "code",
      "source": [
        "# Рисуем облачко\n",
        "wordcloud = WordCloud(max_font_size=200, max_words=100,stopwords = russian_stopwords, background_color=\"white\").generate(text)\n",
        "\n",
        "# Выводим на экран:\n",
        "\n",
        "plt.imshow(wordcloud, interpolation='bilinear')\n",
        "plt.axis(\"off\")\n",
        "plt.show()"
      ],
      "metadata": {
        "colab": {
          "base_uri": "https://localhost:8080/",
          "height": 0
        },
        "id": "UyMBzDrCkPjT",
        "outputId": "eaf4b674-53aa-4680-9acd-a2f19c10c5d2"
      },
      "execution_count": 234,
      "outputs": [
        {
          "output_type": "display_data",
          "data": {
            "text/plain": [
              "<Figure size 432x288 with 1 Axes>"
            ],
            "image/png": "[encoded data removed]"
          },
          "metadata": {
            "needs_background": "light"
          }
        }
      ]
    },
    {
      "cell_type": "markdown",
      "source": [
        "#Вытащим названия вакансий"
      ],
      "metadata": {
        "id": "X2b6AdmCtl2R"
      }
    },
    {
      "cell_type": "code",
      "source": [
        "# Используем знакомую тему с регулярками\n",
        "\n",
        "#назначим регулярки\n",
        "\n",
        "product_analyst = r'продукто|product analyst|продуктового аналитика|аналитик продукта|product data analyst'\n",
        "marketing_analyst = r'marketing analyst|маркетинговый аналитик|маркетинговой аналитики|маркетингового аналитика|marketing data analyst|аналитика в команду маркетинга|маркетинг аналитик'\n",
        "business_analyst = r'бизнес-аналитик|business analyst|бизнес аналитик|Бизнесаналитик'\n",
        "web_analyst = r'веб-аналитик|web-аналитик|веб-продукт|digital analyst|webanalyst'\n",
        "data_analyst = r'|analyst|аналитик данных'\n",
        "data_engineer = r'|системный|dataengineer|engineer|system'\n",
        "data_scientist = r'|scientist|саинтист|'"
      ],
      "metadata": {
        "id": "YKNXKi5FtvBB"
      },
      "execution_count": 235,
      "outputs": []
    },
    {
      "cell_type": "code",
      "source": [
        "# заполним столбцы\n",
        "\n",
        "df['product_analyst'] = df['blocks'].apply(lambda x: True if re.search(product_analyst, x.lower()) else False)\n",
        "df['marketing_analyst'] = df['blocks'].apply(lambda x: True if re.search(marketing_analyst, x.lower()) else False)\n",
        "df['business_analyst'] = df['blocks'].apply(lambda x: True if re.search(business_analyst, x.lower()) else False)\n",
        "df['web_analyst'] = df['blocks'].apply(lambda x: True if re.search(web_analyst, x.lower()) else False)\n",
        "df['data_analyst'] = df['blocks'].apply(lambda x: True if re.search(data_analyst, x.lower()) else False)\n",
        "df['data_engineer'] = df['blocks'].apply(lambda x: True if re.search(data_engineer, x.lower()) else False)\n",
        "df['data_scientist'] = df['blocks'].apply(lambda x: True if re.search(data_scientist, x.lower()) else False)\n",
        "\n"
      ],
      "metadata": {
        "id": "l1yx_5GquggZ"
      },
      "execution_count": 236,
      "outputs": []
    },
    {
      "cell_type": "code",
      "source": [
        "df.head(10)"
      ],
      "metadata": {
        "colab": {
          "base_uri": "https://localhost:8080/",
          "height": 0
        },
        "id": "7d7d5tmxtnM7",
        "outputId": "ae8508b3-35bb-437a-9b42-c7aa678a9bf6"
      },
      "execution_count": 237,
      "outputs": [
        {
          "output_type": "execute_result",
          "data": {
            "text/plain": [
              "                                                   chat  message_id  \\\n",
              "276   {\\n    \"_\": \"Chat\",\\n    \"id\": -1001291755040,...         536   \n",
              "1294  {\\n    \"_\": \"Chat\",\\n    \"id\": -1001269377842,...         725   \n",
              "839   {\\n    \"_\": \"Chat\",\\n    \"id\": -1001269377842,...        1223   \n",
              "314   {\\n    \"_\": \"Chat\",\\n    \"id\": -1001291755040,...         485   \n",
              "1738  {\\n    \"_\": \"Chat\",\\n    \"id\": -1001269377842,...         219   \n",
              "568   {\\n    \"_\": \"Chat\",\\n    \"id\": -1001291755040,...         135   \n",
              "480   {\\n    \"_\": \"Chat\",\\n    \"id\": -1001291755040,...         263   \n",
              "1713  {\\n    \"_\": \"Chat\",\\n    \"id\": -1001269377842,...         248   \n",
              "732   {\\n    \"_\": \"Chat\",\\n    \"id\": -1001269377842,...        1346   \n",
              "4443  {\\n    \"_\": \"Chat\",\\n    \"id\": -1001321264581,...         412   \n",
              "\n",
              "                    date                                               text  \\\n",
              "276  2021-10-14 13:47:31  \"#вакансия #web #webanalyst \\n\\nВакансия: Web ...   \n",
              "1294 2021-06-01 18:59:52  # BigData #Python    #вакансия  #работа \\n\\nНа...   \n",
              "839  2022-01-24 19:32:51  # Data scientist #DS #вакансия #Junior  \\n\\nКо...   \n",
              "314  2021-07-07 15:42:10  #BI #BusinessIntelligence #PowerBI #SQL #SQLSe...   \n",
              "1738 2020-01-27 13:54:50  #BI #Greenplum #ClickHouse #Apache #ETL #Terad...   \n",
              "568  2020-07-23 14:54:57  #BI #powerBI #tableau \\nPro Personnel ищет ана...   \n",
              "480  2020-10-21 22:43:34  #BI #Москва #fulltime\\nВсем привет! Ищем BI ан...   \n",
              "1713 2020-03-02 20:10:43  #BIanalyst #BIdeveloper #PowerBI #Azure #Table...   \n",
              "732  2022-03-14 20:09:03  #Berlin #релокация #BigData #DataEngineer\\n\\n📍...   \n",
              "4443 2021-03-06 13:45:26  #BigData #DataAnalyst #Python #SQL #machinelea...   \n",
              "\n",
              "                                               entities        chat_id  \\\n",
              "276   [\\n    {\\n        \"_\": \"MessageEntity\",\\n     ... -1001291755040   \n",
              "1294  [\\n    {\\n        \"_\": \"MessageEntity\",\\n     ... -1001269377842   \n",
              "839   [\\n    {\\n        \"_\": \"MessageEntity\",\\n     ... -1001269377842   \n",
              "314   [\\n    {\\n        \"_\": \"MessageEntity\",\\n     ... -1001291755040   \n",
              "1738  [\\n    {\\n        \"_\": \"MessageEntity\",\\n     ... -1001269377842   \n",
              "568   [\\n    {\\n        \"_\": \"MessageEntity\",\\n     ... -1001291755040   \n",
              "480   [\\n    {\\n        \"_\": \"MessageEntity\",\\n     ... -1001291755040   \n",
              "1713  [\\n    {\\n        \"_\": \"MessageEntity\",\\n     ... -1001269377842   \n",
              "732   [\\n    {\\n        \"_\": \"MessageEntity\",\\n     ... -1001269377842   \n",
              "4443  [\\n    {\\n        \"_\": \"MessageEntity\",\\n     ... -1001321264581   \n",
              "\n",
              "                                            title     ds    da     de  ...  \\\n",
              "276              Business Intelligence HeadHunter  False  True  False  ...   \n",
              "1294                               Data jobs feed   True  True   True  ...   \n",
              "839                                Data jobs feed   True  True   True  ...   \n",
              "314              Business Intelligence HeadHunter   True  True   True  ...   \n",
              "1738                               Data jobs feed  False  True  False  ...   \n",
              "568              Business Intelligence HeadHunter   True  True  False  ...   \n",
              "480              Business Intelligence HeadHunter   True  True  False  ...   \n",
              "1713                               Data jobs feed   True  True   True  ...   \n",
              "732                                Data jobs feed   True  True   True  ...   \n",
              "4443  Data Science Jobs / AI / NN / ML / DL / NLP  False  True  False  ...   \n",
              "\n",
              "             city                                          text_copy  \\\n",
              "276   not_defined  вакансия web webanalyst \\n\\nвакансия web analy...   \n",
              "1294       Moscow   bigdata python    вакансия  работа \\n\\nнам ос...   \n",
              "839        Moscow   data scientist ds вакансия junior  \\n\\nкомпан...   \n",
              "314        Moscow  bi businessintelligence powerbi sql sqlserver ...   \n",
              "1738  not_defined  bi greenplum clickhouse apache etl teradata \\n...   \n",
              "568   not_defined  bi powerbi tableau \\npro personnel ищет аналит...   \n",
              "480        Moscow  bi москва fulltime\\nвсем привет ищем bi аналит...   \n",
              "1713       Moscow  bianalyst bideveloper powerbi azure tableau et...   \n",
              "732    relocation  berlin релокация bigdata dataengineer\\n\\n📍вака...   \n",
              "4443       Moscow  bigdata dataanalyst python sql machinelearning...   \n",
              "\n",
              "                                                 blocks product_analyst  \\\n",
              "276                            вакансия web webanalyst            False   \n",
              "1294                bigdata python    вакансия  работа            False   \n",
              "839                 data scientist ds вакансия junior             False   \n",
              "314   bi businessintelligence powerbi sql sqlserver ...           False   \n",
              "1738       bi greenplum clickhouse apache etl teradata            False   \n",
              "568                                 bi powerbi tableau            False   \n",
              "480                                  bi москва fulltime           False   \n",
              "1713    bianalyst bideveloper powerbi azure tableau etl           False   \n",
              "732               berlin релокация bigdata dataengineer           False   \n",
              "4443     bigdata dataanalyst python sql machinelearning           False   \n",
              "\n",
              "     marketing_analyst business_analyst web_analyst  data_analyst  \\\n",
              "276              False            False        True          True   \n",
              "1294             False            False       False          True   \n",
              "839              False            False       False          True   \n",
              "314              False            False       False          True   \n",
              "1738             False            False       False          True   \n",
              "568              False            False       False          True   \n",
              "480              False            False       False          True   \n",
              "1713             False            False       False          True   \n",
              "732              False            False       False          True   \n",
              "4443             False            False       False          True   \n",
              "\n",
              "      data_engineer  data_scientist  \n",
              "276            True            True  \n",
              "1294           True            True  \n",
              "839            True            True  \n",
              "314            True            True  \n",
              "1738           True            True  \n",
              "568            True            True  \n",
              "480            True            True  \n",
              "1713           True            True  \n",
              "732            True            True  \n",
              "4443           True            True  \n",
              "\n",
              "[10 rows x 24 columns]"
            ],
            "text/html": [
              "\n",
              "  <div id=\"df-7ea433e1-5452-4619-892d-5542c21694f3\">\n",
              "    <div class=\"colab-df-container\">\n",
              "      <div>\n",
              "<style scoped>\n",
              "    .dataframe tbody tr th:only-of-type {\n",
              "        vertical-align: middle;\n",
              "    }\n",
              "\n",
              "    .dataframe tbody tr th {\n",
              "        vertical-align: top;\n",
              "    }\n",
              "\n",
              "    .dataframe thead th {\n",
              "        text-align: right;\n",
              "    }\n",
              "</style>\n",
              "<table border=\"1\" class=\"dataframe\">\n",
              "  <thead>\n",
              "    <tr style=\"text-align: right;\">\n",
              "      <th></th>\n",
              "      <th>chat</th>\n",
              "      <th>message_id</th>\n",
              "      <th>date</th>\n",
              "      <th>text</th>\n",
              "      <th>entities</th>\n",
              "      <th>chat_id</th>\n",
              "      <th>title</th>\n",
              "      <th>ds</th>\n",
              "      <th>da</th>\n",
              "      <th>de</th>\n",
              "      <th>...</th>\n",
              "      <th>city</th>\n",
              "      <th>text_copy</th>\n",
              "      <th>blocks</th>\n",
              "      <th>product_analyst</th>\n",
              "      <th>marketing_analyst</th>\n",
              "      <th>business_analyst</th>\n",
              "      <th>web_analyst</th>\n",
              "      <th>data_analyst</th>\n",
              "      <th>data_engineer</th>\n",
              "      <th>data_scientist</th>\n",
              "    </tr>\n",
              "  </thead>\n",
              "  <tbody>\n",
              "    <tr>\n",
              "      <th>276</th>\n",
              "      <td>{\\n    \"_\": \"Chat\",\\n    \"id\": -1001291755040,...</td>\n",
              "      <td>536</td>\n",
              "      <td>2021-10-14 13:47:31</td>\n",
              "      <td>\"#вакансия #web #webanalyst \\n\\nВакансия: Web ...</td>\n",
              "      <td>[\\n    {\\n        \"_\": \"MessageEntity\",\\n     ...</td>\n",
              "      <td>-1001291755040</td>\n",
              "      <td>Business Intelligence HeadHunter</td>\n",
              "      <td>False</td>\n",
              "      <td>True</td>\n",
              "      <td>False</td>\n",
              "      <td>...</td>\n",
              "      <td>not_defined</td>\n",
              "      <td>вакансия web webanalyst \\n\\nвакансия web analy...</td>\n",
              "      <td>вакансия web webanalyst</td>\n",
              "      <td>False</td>\n",
              "      <td>False</td>\n",
              "      <td>False</td>\n",
              "      <td>True</td>\n",
              "      <td>True</td>\n",
              "      <td>True</td>\n",
              "      <td>True</td>\n",
              "    </tr>\n",
              "    <tr>\n",
              "      <th>1294</th>\n",
              "      <td>{\\n    \"_\": \"Chat\",\\n    \"id\": -1001269377842,...</td>\n",
              "      <td>725</td>\n",
              "      <td>2021-06-01 18:59:52</td>\n",
              "      <td># BigData #Python    #вакансия  #работа \\n\\nНа...</td>\n",
              "      <td>[\\n    {\\n        \"_\": \"MessageEntity\",\\n     ...</td>\n",
              "      <td>-1001269377842</td>\n",
              "      <td>Data jobs feed</td>\n",
              "      <td>True</td>\n",
              "      <td>True</td>\n",
              "      <td>True</td>\n",
              "      <td>...</td>\n",
              "      <td>Moscow</td>\n",
              "      <td>bigdata python    вакансия  работа \\n\\nнам ос...</td>\n",
              "      <td>bigdata python    вакансия  работа</td>\n",
              "      <td>False</td>\n",
              "      <td>False</td>\n",
              "      <td>False</td>\n",
              "      <td>False</td>\n",
              "      <td>True</td>\n",
              "      <td>True</td>\n",
              "      <td>True</td>\n",
              "    </tr>\n",
              "    <tr>\n",
              "      <th>839</th>\n",
              "      <td>{\\n    \"_\": \"Chat\",\\n    \"id\": -1001269377842,...</td>\n",
              "      <td>1223</td>\n",
              "      <td>2022-01-24 19:32:51</td>\n",
              "      <td># Data scientist #DS #вакансия #Junior  \\n\\nКо...</td>\n",
              "      <td>[\\n    {\\n        \"_\": \"MessageEntity\",\\n     ...</td>\n",
              "      <td>-1001269377842</td>\n",
              "      <td>Data jobs feed</td>\n",
              "      <td>True</td>\n",
              "      <td>True</td>\n",
              "      <td>True</td>\n",
              "      <td>...</td>\n",
              "      <td>Moscow</td>\n",
              "      <td>data scientist ds вакансия junior  \\n\\nкомпан...</td>\n",
              "      <td>data scientist ds вакансия junior</td>\n",
              "      <td>False</td>\n",
              "      <td>False</td>\n",
              "      <td>False</td>\n",
              "      <td>False</td>\n",
              "      <td>True</td>\n",
              "      <td>True</td>\n",
              "      <td>True</td>\n",
              "    </tr>\n",
              "    <tr>\n",
              "      <th>314</th>\n",
              "      <td>{\\n    \"_\": \"Chat\",\\n    \"id\": -1001291755040,...</td>\n",
              "      <td>485</td>\n",
              "      <td>2021-07-07 15:42:10</td>\n",
              "      <td>#BI #BusinessIntelligence #PowerBI #SQL #SQLSe...</td>\n",
              "      <td>[\\n    {\\n        \"_\": \"MessageEntity\",\\n     ...</td>\n",
              "      <td>-1001291755040</td>\n",
              "      <td>Business Intelligence HeadHunter</td>\n",
              "      <td>True</td>\n",
              "      <td>True</td>\n",
              "      <td>True</td>\n",
              "      <td>...</td>\n",
              "      <td>Moscow</td>\n",
              "      <td>bi businessintelligence powerbi sql sqlserver ...</td>\n",
              "      <td>bi businessintelligence powerbi sql sqlserver ...</td>\n",
              "      <td>False</td>\n",
              "      <td>False</td>\n",
              "      <td>False</td>\n",
              "      <td>False</td>\n",
              "      <td>True</td>\n",
              "      <td>True</td>\n",
              "      <td>True</td>\n",
              "    </tr>\n",
              "    <tr>\n",
              "      <th>1738</th>\n",
              "      <td>{\\n    \"_\": \"Chat\",\\n    \"id\": -1001269377842,...</td>\n",
              "      <td>219</td>\n",
              "      <td>2020-01-27 13:54:50</td>\n",
              "      <td>#BI #Greenplum #ClickHouse #Apache #ETL #Terad...</td>\n",
              "      <td>[\\n    {\\n        \"_\": \"MessageEntity\",\\n     ...</td>\n",
              "      <td>-1001269377842</td>\n",
              "      <td>Data jobs feed</td>\n",
              "      <td>False</td>\n",
              "      <td>True</td>\n",
              "      <td>False</td>\n",
              "      <td>...</td>\n",
              "      <td>not_defined</td>\n",
              "      <td>bi greenplum clickhouse apache etl teradata \\n...</td>\n",
              "      <td>bi greenplum clickhouse apache etl teradata</td>\n",
              "      <td>False</td>\n",
              "      <td>False</td>\n",
              "      <td>False</td>\n",
              "      <td>False</td>\n",
              "      <td>True</td>\n",
              "      <td>True</td>\n",
              "      <td>True</td>\n",
              "    </tr>\n",
              "    <tr>\n",
              "      <th>568</th>\n",
              "      <td>{\\n    \"_\": \"Chat\",\\n    \"id\": -1001291755040,...</td>\n",
              "      <td>135</td>\n",
              "      <td>2020-07-23 14:54:57</td>\n",
              "      <td>#BI #powerBI #tableau \\nPro Personnel ищет ана...</td>\n",
              "      <td>[\\n    {\\n        \"_\": \"MessageEntity\",\\n     ...</td>\n",
              "      <td>-1001291755040</td>\n",
              "      <td>Business Intelligence HeadHunter</td>\n",
              "      <td>True</td>\n",
              "      <td>True</td>\n",
              "      <td>False</td>\n",
              "      <td>...</td>\n",
              "      <td>not_defined</td>\n",
              "      <td>bi powerbi tableau \\npro personnel ищет аналит...</td>\n",
              "      <td>bi powerbi tableau</td>\n",
              "      <td>False</td>\n",
              "      <td>False</td>\n",
              "      <td>False</td>\n",
              "      <td>False</td>\n",
              "      <td>True</td>\n",
              "      <td>True</td>\n",
              "      <td>True</td>\n",
              "    </tr>\n",
              "    <tr>\n",
              "      <th>480</th>\n",
              "      <td>{\\n    \"_\": \"Chat\",\\n    \"id\": -1001291755040,...</td>\n",
              "      <td>263</td>\n",
              "      <td>2020-10-21 22:43:34</td>\n",
              "      <td>#BI #Москва #fulltime\\nВсем привет! Ищем BI ан...</td>\n",
              "      <td>[\\n    {\\n        \"_\": \"MessageEntity\",\\n     ...</td>\n",
              "      <td>-1001291755040</td>\n",
              "      <td>Business Intelligence HeadHunter</td>\n",
              "      <td>True</td>\n",
              "      <td>True</td>\n",
              "      <td>False</td>\n",
              "      <td>...</td>\n",
              "      <td>Moscow</td>\n",
              "      <td>bi москва fulltime\\nвсем привет ищем bi аналит...</td>\n",
              "      <td>bi москва fulltime</td>\n",
              "      <td>False</td>\n",
              "      <td>False</td>\n",
              "      <td>False</td>\n",
              "      <td>False</td>\n",
              "      <td>True</td>\n",
              "      <td>True</td>\n",
              "      <td>True</td>\n",
              "    </tr>\n",
              "    <tr>\n",
              "      <th>1713</th>\n",
              "      <td>{\\n    \"_\": \"Chat\",\\n    \"id\": -1001269377842,...</td>\n",
              "      <td>248</td>\n",
              "      <td>2020-03-02 20:10:43</td>\n",
              "      <td>#BIanalyst #BIdeveloper #PowerBI #Azure #Table...</td>\n",
              "      <td>[\\n    {\\n        \"_\": \"MessageEntity\",\\n     ...</td>\n",
              "      <td>-1001269377842</td>\n",
              "      <td>Data jobs feed</td>\n",
              "      <td>True</td>\n",
              "      <td>True</td>\n",
              "      <td>True</td>\n",
              "      <td>...</td>\n",
              "      <td>Moscow</td>\n",
              "      <td>bianalyst bideveloper powerbi azure tableau et...</td>\n",
              "      <td>bianalyst bideveloper powerbi azure tableau etl</td>\n",
              "      <td>False</td>\n",
              "      <td>False</td>\n",
              "      <td>False</td>\n",
              "      <td>False</td>\n",
              "      <td>True</td>\n",
              "      <td>True</td>\n",
              "      <td>True</td>\n",
              "    </tr>\n",
              "    <tr>\n",
              "      <th>732</th>\n",
              "      <td>{\\n    \"_\": \"Chat\",\\n    \"id\": -1001269377842,...</td>\n",
              "      <td>1346</td>\n",
              "      <td>2022-03-14 20:09:03</td>\n",
              "      <td>#Berlin #релокация #BigData #DataEngineer\\n\\n📍...</td>\n",
              "      <td>[\\n    {\\n        \"_\": \"MessageEntity\",\\n     ...</td>\n",
              "      <td>-1001269377842</td>\n",
              "      <td>Data jobs feed</td>\n",
              "      <td>True</td>\n",
              "      <td>True</td>\n",
              "      <td>True</td>\n",
              "      <td>...</td>\n",
              "      <td>relocation</td>\n",
              "      <td>berlin релокация bigdata dataengineer\\n\\n📍вака...</td>\n",
              "      <td>berlin релокация bigdata dataengineer</td>\n",
              "      <td>False</td>\n",
              "      <td>False</td>\n",
              "      <td>False</td>\n",
              "      <td>False</td>\n",
              "      <td>True</td>\n",
              "      <td>True</td>\n",
              "      <td>True</td>\n",
              "    </tr>\n",
              "    <tr>\n",
              "      <th>4443</th>\n",
              "      <td>{\\n    \"_\": \"Chat\",\\n    \"id\": -1001321264581,...</td>\n",
              "      <td>412</td>\n",
              "      <td>2021-03-06 13:45:26</td>\n",
              "      <td>#BigData #DataAnalyst #Python #SQL #machinelea...</td>\n",
              "      <td>[\\n    {\\n        \"_\": \"MessageEntity\",\\n     ...</td>\n",
              "      <td>-1001321264581</td>\n",
              "      <td>Data Science Jobs / AI / NN / ML / DL / NLP</td>\n",
              "      <td>False</td>\n",
              "      <td>True</td>\n",
              "      <td>False</td>\n",
              "      <td>...</td>\n",
              "      <td>Moscow</td>\n",
              "      <td>bigdata dataanalyst python sql machinelearning...</td>\n",
              "      <td>bigdata dataanalyst python sql machinelearning</td>\n",
              "      <td>False</td>\n",
              "      <td>False</td>\n",
              "      <td>False</td>\n",
              "      <td>False</td>\n",
              "      <td>True</td>\n",
              "      <td>True</td>\n",
              "      <td>True</td>\n",
              "    </tr>\n",
              "  </tbody>\n",
              "</table>\n",
              "<p>10 rows × 24 columns</p>\n",
              "</div>\n",
              "      <button class=\"colab-df-convert\" onclick=\"convertToInteractive('df-7ea433e1-5452-4619-892d-5542c21694f3')\"\n",
              "              title=\"Convert this dataframe to an interactive table.\"\n",
              "              style=\"display:none;\">\n",
              "        \n",
              "  <svg xmlns=\"http://www.w3.org/2000/svg\" height=\"24px\"viewBox=\"0 0 24 24\"\n",
              "       width=\"24px\">\n",
              "    <path d=\"M0 0h24v24H0V0z\" fill=\"none\"/>\n",
              "    <path d=\"M18.56 5.44l.94 2.06.94-2.06 2.06-.94-2.06-.94-.94-2.06-.94 2.06-2.06.94zm-11 1L8.5 8.5l.94-2.06 2.06-.94-2.06-.94L8.5 2.5l-.94 2.06-2.06.94zm10 10l.94 2.06.94-2.06 2.06-.94-2.06-.94-.94-2.06-.94 2.06-2.06.94z\"/><path d=\"M17.41 7.96l-1.37-1.37c-.4-.4-.92-.59-1.43-.59-.52 0-1.04.2-1.43.59L10.3 9.45l-7.72 7.72c-.78.78-.78 2.05 0 2.83L4 21.41c.39.39.9.59 1.41.59.51 0 1.02-.2 1.41-.59l7.78-7.78 2.81-2.81c.8-.78.8-2.07 0-2.86zM5.41 20L4 18.59l7.72-7.72 1.47 1.35L5.41 20z\"/>\n",
              "  </svg>\n",
              "      </button>\n",
              "      \n",
              "  <style>\n",
              "    .colab-df-container {\n",
              "      display:flex;\n",
              "      flex-wrap:wrap;\n",
              "      gap: 12px;\n",
              "    }\n",
              "\n",
              "    .colab-df-convert {\n",
              "      background-color: #E8F0FE;\n",
              "      border: none;\n",
              "      border-radius: 50%;\n",
              "      cursor: pointer;\n",
              "      display: none;\n",
              "      fill: #1967D2;\n",
              "      height: 32px;\n",
              "      padding: 0 0 0 0;\n",
              "      width: 32px;\n",
              "    }\n",
              "\n",
              "    .colab-df-convert:hover {\n",
              "      background-color: #E2EBFA;\n",
              "      box-shadow: 0px 1px 2px rgba(60, 64, 67, 0.3), 0px 1px 3px 1px rgba(60, 64, 67, 0.15);\n",
              "      fill: #174EA6;\n",
              "    }\n",
              "\n",
              "    [theme=dark] .colab-df-convert {\n",
              "      background-color: #3B4455;\n",
              "      fill: #D2E3FC;\n",
              "    }\n",
              "\n",
              "    [theme=dark] .colab-df-convert:hover {\n",
              "      background-color: #434B5C;\n",
              "      box-shadow: 0px 1px 3px 1px rgba(0, 0, 0, 0.15);\n",
              "      filter: drop-shadow(0px 1px 2px rgba(0, 0, 0, 0.3));\n",
              "      fill: #FFFFFF;\n",
              "    }\n",
              "  </style>\n",
              "\n",
              "      <script>\n",
              "        const buttonEl =\n",
              "          document.querySelector('#df-7ea433e1-5452-4619-892d-5542c21694f3 button.colab-df-convert');\n",
              "        buttonEl.style.display =\n",
              "          google.colab.kernel.accessAllowed ? 'block' : 'none';\n",
              "\n",
              "        async function convertToInteractive(key) {\n",
              "          const element = document.querySelector('#df-7ea433e1-5452-4619-892d-5542c21694f3');\n",
              "          const dataTable =\n",
              "            await google.colab.kernel.invokeFunction('convertToInteractive',\n",
              "                                                     [key], {});\n",
              "          if (!dataTable) return;\n",
              "\n",
              "          const docLinkHtml = 'Like what you see? Visit the ' +\n",
              "            '<a target=\"_blank\" href=https://colab.research.google.com/notebooks/data_table.ipynb>data table notebook</a>'\n",
              "            + ' to learn more about interactive tables.';\n",
              "          element.innerHTML = '';\n",
              "          dataTable['output_type'] = 'display_data';\n",
              "          await google.colab.output.renderOutput(dataTable, element);\n",
              "          const docLink = document.createElement('div');\n",
              "          docLink.innerHTML = docLinkHtml;\n",
              "          element.appendChild(docLink);\n",
              "        }\n",
              "      </script>\n",
              "    </div>\n",
              "  </div>\n",
              "  "
            ]
          },
          "metadata": {},
          "execution_count": 237
        }
      ]
    },
    {
      "cell_type": "code",
      "source": [
        "# проверка на пустые значения\n",
        "temple = df[~(df['product_analyst']) & (~df['marketing_analyst']) & (~df['business_analyst']) & (~df['web_analyst'])\n",
        "& (~df['data_analyst'])& (~df['data_engineer'])& (~df['data_scientist'])]"
      ],
      "metadata": {
        "id": "S9Bl3eotu-hW"
      },
      "execution_count": 238,
      "outputs": []
    },
    {
      "cell_type": "code",
      "source": [
        "temple.shape"
      ],
      "metadata": {
        "colab": {
          "base_uri": "https://localhost:8080/"
        },
        "id": "DVdRosf7vK6V",
        "outputId": "8f7ae85b-f7cc-493f-d0d1-02d5926c15f0"
      },
      "execution_count": 239,
      "outputs": [
        {
          "output_type": "execute_result",
          "data": {
            "text/plain": [
              "(0, 24)"
            ]
          },
          "metadata": {},
          "execution_count": 239
        }
      ]
    },
    {
      "cell_type": "code",
      "source": [
        "# Схлопнем все колонки с вакансиями в одну\n",
        "df['name_vacancy'] = \"\"\n",
        "df['name_vacancy'].astype('str')\n",
        "\n",
        "for index, row in df.iterrows():\n",
        "  if df['product_analyst'][index] == True:\n",
        "    df['name_vacancy'][index] = 'product_analyst'\n",
        "  elif df['marketing_analyst'][index] == True:\n",
        "    df['name_vacancy'][index] = 'marketing_analyst'\n",
        "  elif df['business_analyst'][index] == True:\n",
        "    df['name_vacancy'][index] = 'business_analyst'\n",
        "  elif df['web_analyst'][index] == True:\n",
        "    df['name_vacancy'][index] = 'web_analyst'\n",
        "  elif df['data_engineer'][index] == True:\n",
        "    df['name_vacancy'][index] = 'data_engineer'\n",
        "  elif df['data_scientist'][index] == True:\n",
        "    df['name_vacancy'][index] = 'data_scientist'\n",
        "  elif df['data_analyst'][index] == True:\n",
        "    df['name_vacancy'][index] = 'data_analyst'  \n",
        "  else:\n",
        "    df['name_vacancy'][index] = 'not_defined'"
      ],
      "metadata": {
        "colab": {
          "base_uri": "https://localhost:8080/"
        },
        "id": "I6kqB-p1yLYw",
        "outputId": "77d8a065-b9ec-41b8-e5a2-361aabeba7c0"
      },
      "execution_count": 240,
      "outputs": [
        {
          "output_type": "stream",
          "name": "stderr",
          "text": [
            "/usr/local/lib/python3.7/dist-packages/ipykernel_launcher.py:13: SettingWithCopyWarning: \n",
            "A value is trying to be set on a copy of a slice from a DataFrame\n",
            "\n",
            "See the caveats in the documentation: https://pandas.pydata.org/pandas-docs/stable/user_guide/indexing.html#returning-a-view-versus-a-copy\n",
            "  del sys.path[0]\n",
            "/usr/local/lib/python3.7/dist-packages/ipykernel_launcher.py:15: SettingWithCopyWarning: \n",
            "A value is trying to be set on a copy of a slice from a DataFrame\n",
            "\n",
            "See the caveats in the documentation: https://pandas.pydata.org/pandas-docs/stable/user_guide/indexing.html#returning-a-view-versus-a-copy\n",
            "  from ipykernel import kernelapp as app\n",
            "/usr/local/lib/python3.7/dist-packages/ipykernel_launcher.py:7: SettingWithCopyWarning: \n",
            "A value is trying to be set on a copy of a slice from a DataFrame\n",
            "\n",
            "See the caveats in the documentation: https://pandas.pydata.org/pandas-docs/stable/user_guide/indexing.html#returning-a-view-versus-a-copy\n",
            "  import sys\n",
            "/usr/local/lib/python3.7/dist-packages/ipykernel_launcher.py:9: SettingWithCopyWarning: \n",
            "A value is trying to be set on a copy of a slice from a DataFrame\n",
            "\n",
            "See the caveats in the documentation: https://pandas.pydata.org/pandas-docs/stable/user_guide/indexing.html#returning-a-view-versus-a-copy\n",
            "  if __name__ == '__main__':\n",
            "/usr/local/lib/python3.7/dist-packages/ipykernel_launcher.py:11: SettingWithCopyWarning: \n",
            "A value is trying to be set on a copy of a slice from a DataFrame\n",
            "\n",
            "See the caveats in the documentation: https://pandas.pydata.org/pandas-docs/stable/user_guide/indexing.html#returning-a-view-versus-a-copy\n",
            "  # This is added back by InteractiveShellApp.init_path()\n"
          ]
        }
      ]
    },
    {
      "cell_type": "code",
      "source": [
        "df.head()"
      ],
      "metadata": {
        "colab": {
          "base_uri": "https://localhost:8080/",
          "height": 0
        },
        "id": "7dVrIkwizgNC",
        "outputId": "8084f7c8-ddec-4aac-9c18-6eb0d978c0c4"
      },
      "execution_count": 241,
      "outputs": [
        {
          "output_type": "execute_result",
          "data": {
            "text/plain": [
              "                                                   chat  message_id  \\\n",
              "276   {\\n    \"_\": \"Chat\",\\n    \"id\": -1001291755040,...         536   \n",
              "1294  {\\n    \"_\": \"Chat\",\\n    \"id\": -1001269377842,...         725   \n",
              "839   {\\n    \"_\": \"Chat\",\\n    \"id\": -1001269377842,...        1223   \n",
              "314   {\\n    \"_\": \"Chat\",\\n    \"id\": -1001291755040,...         485   \n",
              "1738  {\\n    \"_\": \"Chat\",\\n    \"id\": -1001269377842,...         219   \n",
              "\n",
              "                    date                                               text  \\\n",
              "276  2021-10-14 13:47:31  \"#вакансия #web #webanalyst \\n\\nВакансия: Web ...   \n",
              "1294 2021-06-01 18:59:52  # BigData #Python    #вакансия  #работа \\n\\nНа...   \n",
              "839  2022-01-24 19:32:51  # Data scientist #DS #вакансия #Junior  \\n\\nКо...   \n",
              "314  2021-07-07 15:42:10  #BI #BusinessIntelligence #PowerBI #SQL #SQLSe...   \n",
              "1738 2020-01-27 13:54:50  #BI #Greenplum #ClickHouse #Apache #ETL #Terad...   \n",
              "\n",
              "                                               entities        chat_id  \\\n",
              "276   [\\n    {\\n        \"_\": \"MessageEntity\",\\n     ... -1001291755040   \n",
              "1294  [\\n    {\\n        \"_\": \"MessageEntity\",\\n     ... -1001269377842   \n",
              "839   [\\n    {\\n        \"_\": \"MessageEntity\",\\n     ... -1001269377842   \n",
              "314   [\\n    {\\n        \"_\": \"MessageEntity\",\\n     ... -1001291755040   \n",
              "1738  [\\n    {\\n        \"_\": \"MessageEntity\",\\n     ... -1001269377842   \n",
              "\n",
              "                                 title     ds    da     de  ...  \\\n",
              "276   Business Intelligence HeadHunter  False  True  False  ...   \n",
              "1294                    Data jobs feed   True  True   True  ...   \n",
              "839                     Data jobs feed   True  True   True  ...   \n",
              "314   Business Intelligence HeadHunter   True  True   True  ...   \n",
              "1738                    Data jobs feed  False  True  False  ...   \n",
              "\n",
              "                                              text_copy  \\\n",
              "276   вакансия web webanalyst \\n\\nвакансия web analy...   \n",
              "1294   bigdata python    вакансия  работа \\n\\nнам ос...   \n",
              "839    data scientist ds вакансия junior  \\n\\nкомпан...   \n",
              "314   bi businessintelligence powerbi sql sqlserver ...   \n",
              "1738  bi greenplum clickhouse apache etl teradata \\n...   \n",
              "\n",
              "                                                 blocks product_analyst  \\\n",
              "276                            вакансия web webanalyst            False   \n",
              "1294                bigdata python    вакансия  работа            False   \n",
              "839                 data scientist ds вакансия junior             False   \n",
              "314   bi businessintelligence powerbi sql sqlserver ...           False   \n",
              "1738       bi greenplum clickhouse apache etl teradata            False   \n",
              "\n",
              "     marketing_analyst business_analyst web_analyst data_analyst  \\\n",
              "276              False            False        True         True   \n",
              "1294             False            False       False         True   \n",
              "839              False            False       False         True   \n",
              "314              False            False       False         True   \n",
              "1738             False            False       False         True   \n",
              "\n",
              "      data_engineer  data_scientist   name_vacancy  \n",
              "276            True            True    web_analyst  \n",
              "1294           True            True  data_engineer  \n",
              "839            True            True  data_engineer  \n",
              "314            True            True  data_engineer  \n",
              "1738           True            True  data_engineer  \n",
              "\n",
              "[5 rows x 25 columns]"
            ],
            "text/html": [
              "\n",
              "  <div id=\"df-a52570c9-cc96-46ba-8094-d373c130e716\">\n",
              "    <div class=\"colab-df-container\">\n",
              "      <div>\n",
              "<style scoped>\n",
              "    .dataframe tbody tr th:only-of-type {\n",
              "        vertical-align: middle;\n",
              "    }\n",
              "\n",
              "    .dataframe tbody tr th {\n",
              "        vertical-align: top;\n",
              "    }\n",
              "\n",
              "    .dataframe thead th {\n",
              "        text-align: right;\n",
              "    }\n",
              "</style>\n",
              "<table border=\"1\" class=\"dataframe\">\n",
              "  <thead>\n",
              "    <tr style=\"text-align: right;\">\n",
              "      <th></th>\n",
              "      <th>chat</th>\n",
              "      <th>message_id</th>\n",
              "      <th>date</th>\n",
              "      <th>text</th>\n",
              "      <th>entities</th>\n",
              "      <th>chat_id</th>\n",
              "      <th>title</th>\n",
              "      <th>ds</th>\n",
              "      <th>da</th>\n",
              "      <th>de</th>\n",
              "      <th>...</th>\n",
              "      <th>text_copy</th>\n",
              "      <th>blocks</th>\n",
              "      <th>product_analyst</th>\n",
              "      <th>marketing_analyst</th>\n",
              "      <th>business_analyst</th>\n",
              "      <th>web_analyst</th>\n",
              "      <th>data_analyst</th>\n",
              "      <th>data_engineer</th>\n",
              "      <th>data_scientist</th>\n",
              "      <th>name_vacancy</th>\n",
              "    </tr>\n",
              "  </thead>\n",
              "  <tbody>\n",
              "    <tr>\n",
              "      <th>276</th>\n",
              "      <td>{\\n    \"_\": \"Chat\",\\n    \"id\": -1001291755040,...</td>\n",
              "      <td>536</td>\n",
              "      <td>2021-10-14 13:47:31</td>\n",
              "      <td>\"#вакансия #web #webanalyst \\n\\nВакансия: Web ...</td>\n",
              "      <td>[\\n    {\\n        \"_\": \"MessageEntity\",\\n     ...</td>\n",
              "      <td>-1001291755040</td>\n",
              "      <td>Business Intelligence HeadHunter</td>\n",
              "      <td>False</td>\n",
              "      <td>True</td>\n",
              "      <td>False</td>\n",
              "      <td>...</td>\n",
              "      <td>вакансия web webanalyst \\n\\nвакансия web analy...</td>\n",
              "      <td>вакансия web webanalyst</td>\n",
              "      <td>False</td>\n",
              "      <td>False</td>\n",
              "      <td>False</td>\n",
              "      <td>True</td>\n",
              "      <td>True</td>\n",
              "      <td>True</td>\n",
              "      <td>True</td>\n",
              "      <td>web_analyst</td>\n",
              "    </tr>\n",
              "    <tr>\n",
              "      <th>1294</th>\n",
              "      <td>{\\n    \"_\": \"Chat\",\\n    \"id\": -1001269377842,...</td>\n",
              "      <td>725</td>\n",
              "      <td>2021-06-01 18:59:52</td>\n",
              "      <td># BigData #Python    #вакансия  #работа \\n\\nНа...</td>\n",
              "      <td>[\\n    {\\n        \"_\": \"MessageEntity\",\\n     ...</td>\n",
              "      <td>-1001269377842</td>\n",
              "      <td>Data jobs feed</td>\n",
              "      <td>True</td>\n",
              "      <td>True</td>\n",
              "      <td>True</td>\n",
              "      <td>...</td>\n",
              "      <td>bigdata python    вакансия  работа \\n\\nнам ос...</td>\n",
              "      <td>bigdata python    вакансия  работа</td>\n",
              "      <td>False</td>\n",
              "      <td>False</td>\n",
              "      <td>False</td>\n",
              "      <td>False</td>\n",
              "      <td>True</td>\n",
              "      <td>True</td>\n",
              "      <td>True</td>\n",
              "      <td>data_engineer</td>\n",
              "    </tr>\n",
              "    <tr>\n",
              "      <th>839</th>\n",
              "      <td>{\\n    \"_\": \"Chat\",\\n    \"id\": -1001269377842,...</td>\n",
              "      <td>1223</td>\n",
              "      <td>2022-01-24 19:32:51</td>\n",
              "      <td># Data scientist #DS #вакансия #Junior  \\n\\nКо...</td>\n",
              "      <td>[\\n    {\\n        \"_\": \"MessageEntity\",\\n     ...</td>\n",
              "      <td>-1001269377842</td>\n",
              "      <td>Data jobs feed</td>\n",
              "      <td>True</td>\n",
              "      <td>True</td>\n",
              "      <td>True</td>\n",
              "      <td>...</td>\n",
              "      <td>data scientist ds вакансия junior  \\n\\nкомпан...</td>\n",
              "      <td>data scientist ds вакансия junior</td>\n",
              "      <td>False</td>\n",
              "      <td>False</td>\n",
              "      <td>False</td>\n",
              "      <td>False</td>\n",
              "      <td>True</td>\n",
              "      <td>True</td>\n",
              "      <td>True</td>\n",
              "      <td>data_engineer</td>\n",
              "    </tr>\n",
              "    <tr>\n",
              "      <th>314</th>\n",
              "      <td>{\\n    \"_\": \"Chat\",\\n    \"id\": -1001291755040,...</td>\n",
              "      <td>485</td>\n",
              "      <td>2021-07-07 15:42:10</td>\n",
              "      <td>#BI #BusinessIntelligence #PowerBI #SQL #SQLSe...</td>\n",
              "      <td>[\\n    {\\n        \"_\": \"MessageEntity\",\\n     ...</td>\n",
              "      <td>-1001291755040</td>\n",
              "      <td>Business Intelligence HeadHunter</td>\n",
              "      <td>True</td>\n",
              "      <td>True</td>\n",
              "      <td>True</td>\n",
              "      <td>...</td>\n",
              "      <td>bi businessintelligence powerbi sql sqlserver ...</td>\n",
              "      <td>bi businessintelligence powerbi sql sqlserver ...</td>\n",
              "      <td>False</td>\n",
              "      <td>False</td>\n",
              "      <td>False</td>\n",
              "      <td>False</td>\n",
              "      <td>True</td>\n",
              "      <td>True</td>\n",
              "      <td>True</td>\n",
              "      <td>data_engineer</td>\n",
              "    </tr>\n",
              "    <tr>\n",
              "      <th>1738</th>\n",
              "      <td>{\\n    \"_\": \"Chat\",\\n    \"id\": -1001269377842,...</td>\n",
              "      <td>219</td>\n",
              "      <td>2020-01-27 13:54:50</td>\n",
              "      <td>#BI #Greenplum #ClickHouse #Apache #ETL #Terad...</td>\n",
              "      <td>[\\n    {\\n        \"_\": \"MessageEntity\",\\n     ...</td>\n",
              "      <td>-1001269377842</td>\n",
              "      <td>Data jobs feed</td>\n",
              "      <td>False</td>\n",
              "      <td>True</td>\n",
              "      <td>False</td>\n",
              "      <td>...</td>\n",
              "      <td>bi greenplum clickhouse apache etl teradata \\n...</td>\n",
              "      <td>bi greenplum clickhouse apache etl teradata</td>\n",
              "      <td>False</td>\n",
              "      <td>False</td>\n",
              "      <td>False</td>\n",
              "      <td>False</td>\n",
              "      <td>True</td>\n",
              "      <td>True</td>\n",
              "      <td>True</td>\n",
              "      <td>data_engineer</td>\n",
              "    </tr>\n",
              "  </tbody>\n",
              "</table>\n",
              "<p>5 rows × 25 columns</p>\n",
              "</div>\n",
              "      <button class=\"colab-df-convert\" onclick=\"convertToInteractive('df-a52570c9-cc96-46ba-8094-d373c130e716')\"\n",
              "              title=\"Convert this dataframe to an interactive table.\"\n",
              "              style=\"display:none;\">\n",
              "        \n",
              "  <svg xmlns=\"http://www.w3.org/2000/svg\" height=\"24px\"viewBox=\"0 0 24 24\"\n",
              "       width=\"24px\">\n",
              "    <path d=\"M0 0h24v24H0V0z\" fill=\"none\"/>\n",
              "    <path d=\"M18.56 5.44l.94 2.06.94-2.06 2.06-.94-2.06-.94-.94-2.06-.94 2.06-2.06.94zm-11 1L8.5 8.5l.94-2.06 2.06-.94-2.06-.94L8.5 2.5l-.94 2.06-2.06.94zm10 10l.94 2.06.94-2.06 2.06-.94-2.06-.94-.94-2.06-.94 2.06-2.06.94z\"/><path d=\"M17.41 7.96l-1.37-1.37c-.4-.4-.92-.59-1.43-.59-.52 0-1.04.2-1.43.59L10.3 9.45l-7.72 7.72c-.78.78-.78 2.05 0 2.83L4 21.41c.39.39.9.59 1.41.59.51 0 1.02-.2 1.41-.59l7.78-7.78 2.81-2.81c.8-.78.8-2.07 0-2.86zM5.41 20L4 18.59l7.72-7.72 1.47 1.35L5.41 20z\"/>\n",
              "  </svg>\n",
              "      </button>\n",
              "      \n",
              "  <style>\n",
              "    .colab-df-container {\n",
              "      display:flex;\n",
              "      flex-wrap:wrap;\n",
              "      gap: 12px;\n",
              "    }\n",
              "\n",
              "    .colab-df-convert {\n",
              "      background-color: #E8F0FE;\n",
              "      border: none;\n",
              "      border-radius: 50%;\n",
              "      cursor: pointer;\n",
              "      display: none;\n",
              "      fill: #1967D2;\n",
              "      height: 32px;\n",
              "      padding: 0 0 0 0;\n",
              "      width: 32px;\n",
              "    }\n",
              "\n",
              "    .colab-df-convert:hover {\n",
              "      background-color: #E2EBFA;\n",
              "      box-shadow: 0px 1px 2px rgba(60, 64, 67, 0.3), 0px 1px 3px 1px rgba(60, 64, 67, 0.15);\n",
              "      fill: #174EA6;\n",
              "    }\n",
              "\n",
              "    [theme=dark] .colab-df-convert {\n",
              "      background-color: #3B4455;\n",
              "      fill: #D2E3FC;\n",
              "    }\n",
              "\n",
              "    [theme=dark] .colab-df-convert:hover {\n",
              "      background-color: #434B5C;\n",
              "      box-shadow: 0px 1px 3px 1px rgba(0, 0, 0, 0.15);\n",
              "      filter: drop-shadow(0px 1px 2px rgba(0, 0, 0, 0.3));\n",
              "      fill: #FFFFFF;\n",
              "    }\n",
              "  </style>\n",
              "\n",
              "      <script>\n",
              "        const buttonEl =\n",
              "          document.querySelector('#df-a52570c9-cc96-46ba-8094-d373c130e716 button.colab-df-convert');\n",
              "        buttonEl.style.display =\n",
              "          google.colab.kernel.accessAllowed ? 'block' : 'none';\n",
              "\n",
              "        async function convertToInteractive(key) {\n",
              "          const element = document.querySelector('#df-a52570c9-cc96-46ba-8094-d373c130e716');\n",
              "          const dataTable =\n",
              "            await google.colab.kernel.invokeFunction('convertToInteractive',\n",
              "                                                     [key], {});\n",
              "          if (!dataTable) return;\n",
              "\n",
              "          const docLinkHtml = 'Like what you see? Visit the ' +\n",
              "            '<a target=\"_blank\" href=https://colab.research.google.com/notebooks/data_table.ipynb>data table notebook</a>'\n",
              "            + ' to learn more about interactive tables.';\n",
              "          element.innerHTML = '';\n",
              "          dataTable['output_type'] = 'display_data';\n",
              "          await google.colab.output.renderOutput(dataTable, element);\n",
              "          const docLink = document.createElement('div');\n",
              "          docLink.innerHTML = docLinkHtml;\n",
              "          element.appendChild(docLink);\n",
              "        }\n",
              "      </script>\n",
              "    </div>\n",
              "  </div>\n",
              "  "
            ]
          },
          "metadata": {},
          "execution_count": 241
        }
      ]
    },
    {
      "cell_type": "markdown",
      "source": [
        "# Обогащаем датасет навыками"
      ],
      "metadata": {
        "id": "sKB-oHpfy0RD"
      }
    },
    {
      "cell_type": "markdown",
      "source": [
        "Задача один: попытаться понять какие навыки вообще имеют место быть в нашем датасете. Выдел ить совноыные и написать для них потом регулярки. Вдохновимся вот этим крутыим исследованием: https://github.com/egorborisov/jobs_article/blob/main/jobs_research.ipynb"
      ],
      "metadata": {
        "id": "YWZxWUyhz5Df"
      }
    },
    {
      "cell_type": "code",
      "source": [
        "# позаимствуем код вот тут\n",
        "skills = {\n",
        "    'TensorFlow': {'tensorflow', '\\Wtf\\W', 'тензорфлоу'},\n",
        "    'PyTorch': {'pytorch', 'пайторч'},\n",
        "    'Keras': {'keras', 'керас'},\n",
        "    'Python': {'python', 'питон', 'пайтон'},\n",
        "    'Pandas/numpy': {'\\Wpandas\\W', '\\Wnumpy\\W'},\n",
        "    'R': {'\\Wr\\W'},\n",
        "    'SQL': {'sql'},\n",
        "    'Scala': {'scala', 'скала'},\n",
        "    'Java': {'java', 'джава'},\n",
        "    'Julia': {'julia', 'джули[ая]'},\n",
        "    'Go': {'\\Wgo\\W'},\n",
        "    'C++': {'c\\+\\+'},\n",
        "    'C#': {'c#', 'шарп'},\n",
        "    'Linux': {'bash', 'баш', 'linux', 'линукс'},\n",
        "    'JS': {'\\Wjs\\W', 'java\\W?script'},\n",
        "    'Matlab': {'matlab', 'матлаб'},\n",
        "    'Django': {'django', 'джанго'},\n",
        "    'Flutter': {'flutter', 'флатт?ер'},\n",
        "    'Flask': {'flask', 'фласк'},\n",
        "    'Spring': {'spring'},\n",
        "    'Git': {'git', 'github', 'bitbucket', 'gitlab', 'гит', 'гитхаб', 'битбакет', 'гитлаб'},\n",
        "    'Docker': {'docker', 'докер'},\n",
        "    'Kubernetes': {'kubernetes', 'кубернетес'},\n",
        "    'Openshift': {'openshift'},\n",
        "    'Grafana': {'grafana', 'графан'},\n",
        "    'Power BI': {'power bi', 'powerbi', 'биай' },\n",
        "    'Tableau': {'tableau', 'табло'},\n",
        "    'Airflow': {'airflow', 'а[э]ирфлоу'},\n",
        "    'Prometheus': {'prometheus', 'прометеус'},\n",
        "    'Redshift': {'redshift'},\n",
        "    'HDFS': {'hdfs'},\n",
        "    'MapReduce': {'mapreduce'},\n",
        "    'Spark': {'spark', 'спарк'},\n",
        "    'Hive': {'hive'},\n",
        "    'Azure': {'azure'},\n",
        "    'Hadoop': {'hadoop', 'хадуп'},\n",
        "    'Kafka': {'kafka', 'кафк[ау]'},\n",
        "    'RabbitMQ': {'rabbit', 'кролик'},\n",
        "    'MongoDB': {'mongo.?db'},\n",
        "    'Firebase': {'firebase'},\n",
        "    'Cassandra': {'cassandra'},\n",
        "    'Redis': {'redis'},\n",
        "    'Redshift': {'redshift'},\n",
        "    'BigQuery': {'bigquery'},\n",
        "    'Excel': {'\\Wexcel\\W', '\\Wэксел\\W'},\n",
        "    'Clickhouse': {'clickhouse', 'кликхау[сз]'},\n",
        "    'XGBoost': {'xgboost', '\\Wxgb\\W'},\n",
        "    'LightGBM': {'lightgbm', '\\Wlgb\\W'},\n",
        "    'CatBoost': {'catboost'},\n",
        "    'Scikit-learn': {'scikit', 'sklearn'},\n",
        "    'SciPy': {'scipy'},\n",
        "    'MLflow': {'mlflow', 'ml flow'},\n",
        "}"
      ],
      "metadata": {
        "id": "84KVLNQ0yz0W"
      },
      "execution_count": 242,
      "outputs": []
    },
    {
      "cell_type": "code",
      "source": [
        "# функция для парсинга\n",
        "def get_keyword_df(df, keywords):\n",
        "    for keyword, keywords_to_search in keywords.items():\n",
        "        keywords_regex = '|'.join(keywords_to_search)\n",
        "        df[keyword] = df['text'].str.contains(keywords_regex, regex=True)\n",
        "    keywords_df = pd.DataFrame(columns=['keyword', 'number'])\n",
        "    for keyword in list(keywords.keys()):\n",
        "        keywords_df = keywords_df.append({'keyword': keyword, 'number': len(df[df[keyword]])}, ignore_index=True)\n",
        "    keywords_df = keywords_df.sort_values(by=['number'], ascending=False).reset_index(drop=True)\n",
        "    keywords_df['perc'] = keywords_df['number'] / len(df) * 100\n",
        "    return keywords_df"
      ],
      "metadata": {
        "id": "o03nNs5ezxNF"
      },
      "execution_count": 243,
      "outputs": []
    },
    {
      "cell_type": "code",
      "source": [
        "keyword_df = get_keyword_df(df, skills).head(25)\n",
        "skills_list = [i for i in keyword_df['keyword'].values]"
      ],
      "metadata": {
        "id": "dMrbj5Kw0D-o",
        "colab": {
          "base_uri": "https://localhost:8080/",
          "height": 329
        },
        "outputId": "665ceadf-7ce3-4d04-d204-80008ac10d96"
      },
      "execution_count": 244,
      "outputs": [
        {
          "output_type": "error",
          "ename": "TypeError",
          "evalue": "ignored",
          "traceback": [
            "\u001b[0;31m---------------------------------------------------------------------------\u001b[0m",
            "\u001b[0;31mTypeError\u001b[0m                                 Traceback (most recent call last)",
            "\u001b[0;32m<ipython-input-244-bb01639d47ce>\u001b[0m in \u001b[0;36m<module>\u001b[0;34m\u001b[0m\n\u001b[0;32m----> 1\u001b[0;31m \u001b[0mkeyword_df\u001b[0m \u001b[0;34m=\u001b[0m \u001b[0mget_keyword_df\u001b[0m\u001b[0;34m(\u001b[0m\u001b[0mdf\u001b[0m\u001b[0;34m,\u001b[0m \u001b[0mskills\u001b[0m\u001b[0;34m)\u001b[0m\u001b[0;34m.\u001b[0m\u001b[0mhead\u001b[0m\u001b[0;34m(\u001b[0m\u001b[0;36m25\u001b[0m\u001b[0;34m)\u001b[0m\u001b[0;34m\u001b[0m\u001b[0;34m\u001b[0m\u001b[0m\n\u001b[0m\u001b[1;32m      2\u001b[0m \u001b[0mskills_list\u001b[0m \u001b[0;34m=\u001b[0m \u001b[0;34m[\u001b[0m\u001b[0mi\u001b[0m \u001b[0;32mfor\u001b[0m \u001b[0mi\u001b[0m \u001b[0;32min\u001b[0m \u001b[0mkeyword_df\u001b[0m\u001b[0;34m[\u001b[0m\u001b[0;34m'keyword'\u001b[0m\u001b[0;34m]\u001b[0m\u001b[0;34m.\u001b[0m\u001b[0mvalues\u001b[0m\u001b[0;34m]\u001b[0m\u001b[0;34m\u001b[0m\u001b[0;34m\u001b[0m\u001b[0m\n",
            "\u001b[0;32m<ipython-input-243-fa603e40e94c>\u001b[0m in \u001b[0;36mget_keyword_df\u001b[0;34m(df, keywords)\u001b[0m\n\u001b[1;32m      5\u001b[0m         \u001b[0mdf\u001b[0m\u001b[0;34m[\u001b[0m\u001b[0mkeyword\u001b[0m\u001b[0;34m]\u001b[0m \u001b[0;34m=\u001b[0m \u001b[0mdf\u001b[0m\u001b[0;34m[\u001b[0m\u001b[0;34m'text'\u001b[0m\u001b[0;34m]\u001b[0m\u001b[0;34m.\u001b[0m\u001b[0mstr\u001b[0m\u001b[0;34m.\u001b[0m\u001b[0mcontains\u001b[0m\u001b[0;34m(\u001b[0m\u001b[0mkeywords_regex\u001b[0m\u001b[0;34m,\u001b[0m \u001b[0mregex\u001b[0m\u001b[0;34m=\u001b[0m\u001b[0;32mTrue\u001b[0m\u001b[0;34m)\u001b[0m\u001b[0;34m\u001b[0m\u001b[0;34m\u001b[0m\u001b[0m\n\u001b[1;32m      6\u001b[0m     \u001b[0mkeywords_df\u001b[0m \u001b[0;34m=\u001b[0m \u001b[0mpd\u001b[0m\u001b[0;34m.\u001b[0m\u001b[0mDataFrame\u001b[0m\u001b[0;34m(\u001b[0m\u001b[0mcolumns\u001b[0m\u001b[0;34m=\u001b[0m\u001b[0;34m[\u001b[0m\u001b[0;34m'keyword'\u001b[0m\u001b[0;34m,\u001b[0m \u001b[0;34m'number'\u001b[0m\u001b[0;34m]\u001b[0m\u001b[0;34m)\u001b[0m\u001b[0;34m\u001b[0m\u001b[0;34m\u001b[0m\u001b[0m\n\u001b[0;32m----> 7\u001b[0;31m     \u001b[0;32mfor\u001b[0m \u001b[0mkeyword\u001b[0m \u001b[0;32min\u001b[0m \u001b[0mlist\u001b[0m\u001b[0;34m(\u001b[0m\u001b[0mkeywords\u001b[0m\u001b[0;34m.\u001b[0m\u001b[0mkeys\u001b[0m\u001b[0;34m(\u001b[0m\u001b[0;34m)\u001b[0m\u001b[0;34m)\u001b[0m\u001b[0;34m:\u001b[0m\u001b[0;34m\u001b[0m\u001b[0;34m\u001b[0m\u001b[0m\n\u001b[0m\u001b[1;32m      8\u001b[0m         \u001b[0mkeywords_df\u001b[0m \u001b[0;34m=\u001b[0m \u001b[0mkeywords_df\u001b[0m\u001b[0;34m.\u001b[0m\u001b[0mappend\u001b[0m\u001b[0;34m(\u001b[0m\u001b[0;34m{\u001b[0m\u001b[0;34m'keyword'\u001b[0m\u001b[0;34m:\u001b[0m \u001b[0mkeyword\u001b[0m\u001b[0;34m,\u001b[0m \u001b[0;34m'number'\u001b[0m\u001b[0;34m:\u001b[0m \u001b[0mlen\u001b[0m\u001b[0;34m(\u001b[0m\u001b[0mdf\u001b[0m\u001b[0;34m[\u001b[0m\u001b[0mdf\u001b[0m\u001b[0;34m[\u001b[0m\u001b[0mkeyword\u001b[0m\u001b[0;34m]\u001b[0m\u001b[0;34m]\u001b[0m\u001b[0;34m)\u001b[0m\u001b[0;34m}\u001b[0m\u001b[0;34m,\u001b[0m \u001b[0mignore_index\u001b[0m\u001b[0;34m=\u001b[0m\u001b[0;32mTrue\u001b[0m\u001b[0;34m)\u001b[0m\u001b[0;34m\u001b[0m\u001b[0;34m\u001b[0m\u001b[0m\n\u001b[1;32m      9\u001b[0m     \u001b[0mkeywords_df\u001b[0m \u001b[0;34m=\u001b[0m \u001b[0mkeywords_df\u001b[0m\u001b[0;34m.\u001b[0m\u001b[0msort_values\u001b[0m\u001b[0;34m(\u001b[0m\u001b[0mby\u001b[0m\u001b[0;34m=\u001b[0m\u001b[0;34m[\u001b[0m\u001b[0;34m'number'\u001b[0m\u001b[0;34m]\u001b[0m\u001b[0;34m,\u001b[0m \u001b[0mascending\u001b[0m\u001b[0;34m=\u001b[0m\u001b[0;32mFalse\u001b[0m\u001b[0;34m)\u001b[0m\u001b[0;34m.\u001b[0m\u001b[0mreset_index\u001b[0m\u001b[0;34m(\u001b[0m\u001b[0mdrop\u001b[0m\u001b[0;34m=\u001b[0m\u001b[0;32mTrue\u001b[0m\u001b[0;34m)\u001b[0m\u001b[0;34m\u001b[0m\u001b[0;34m\u001b[0m\u001b[0m\n",
            "\u001b[0;31mTypeError\u001b[0m: 'list' object is not callable"
          ]
        }
      ]
    },
    {
      "cell_type": "code",
      "source": [
        "import matplotlib.pyplot as plt\n",
        "fig, ax = plt.subplots(1, 1, figsize=(7,7))\n",
        "fig.tight_layout(w_pad=5)\n",
        "\n",
        "sns.barplot(ax = ax, data=keyword_df, x='perc', y='keyword', palette=sns.color_palette('winter_r', 25), alpha=0.7)\n",
        "ax.set_title(label='Топ 25 востребованных технологий', loc='left', size=14, pad=15)\n",
        "ax.set_xlabel('Процент вакансий')\n",
        "ax.set_ylabel('')"
      ],
      "metadata": {
        "colab": {
          "base_uri": "https://localhost:8080/",
          "height": 567
        },
        "id": "qgwoSqNa0VkJ",
        "outputId": "15e4f30f-3172-43c5-e6be-e4efbdd12695"
      },
      "execution_count": 245,
      "outputs": [
        {
          "output_type": "execute_result",
          "data": {
            "text/plain": [
              "Text(36.125, 0.5, '')"
            ]
          },
          "metadata": {},
          "execution_count": 245
        },
        {
          "output_type": "display_data",
          "data": {
            "text/plain": [
              "<Figure size 504x504 with 1 Axes>"
            ],
            "image/png": "[encoded data removed]"
          },
          "metadata": {
            "needs_background": "light"
          }
        }
      ]
    },
    {
      "cell_type": "markdown",
      "source": [
        "Вывод: \n",
        "1. Как и ожидалось, качество данных так себе - макисмум в 12% текста указаны нужные нам навыки. Это пробелма всего датаспета, увы\n",
        "2. Оставим в нашем датасете только колонки с топ-25 навыками. Остальные удалим"
      ],
      "metadata": {
        "id": "58mnMaTI08lj"
      }
    },
    {
      "cell_type": "code",
      "source": [
        "df.columns"
      ],
      "metadata": {
        "colab": {
          "base_uri": "https://localhost:8080/"
        },
        "id": "vluBLTTn9W0K",
        "outputId": "21e770ed-7c24-4e3f-a9c7-8ab089be437e"
      },
      "execution_count": 246,
      "outputs": [
        {
          "output_type": "execute_result",
          "data": {
            "text/plain": [
              "Index(['chat', 'message_id', 'date', 'text', 'entities', 'chat_id', 'title',\n",
              "       'ds', 'da', 'de', 'url', 'lead', 'grade', 'type_office', 'city',\n",
              "       'text_copy', 'blocks', 'product_analyst', 'marketing_analyst',\n",
              "       'business_analyst', 'web_analyst', 'data_analyst', 'data_engineer',\n",
              "       'data_scientist', 'name_vacancy', 'TensorFlow', 'PyTorch', 'Keras',\n",
              "       'Python', 'Pandas/numpy', 'R', 'SQL', 'Scala', 'Java', 'Julia', 'Go',\n",
              "       'C++', 'C#', 'Linux', 'JS', 'Matlab', 'Django', 'Flutter', 'Flask',\n",
              "       'Spring', 'Git', 'Docker', 'Kubernetes', 'Openshift', 'Grafana',\n",
              "       'Power BI', 'Tableau', 'Airflow', 'Prometheus', 'Redshift', 'HDFS',\n",
              "       'MapReduce', 'Spark', 'Hive', 'Azure', 'Hadoop', 'Kafka', 'RabbitMQ',\n",
              "       'MongoDB', 'Firebase', 'Cassandra', 'Redis', 'BigQuery', 'Excel',\n",
              "       'Clickhouse', 'XGBoost', 'LightGBM', 'CatBoost', 'Scikit-learn',\n",
              "       'SciPy', 'MLflow'],\n",
              "      dtype='object')"
            ]
          },
          "metadata": {},
          "execution_count": 246
        }
      ]
    },
    {
      "cell_type": "code",
      "source": [
        "df = df.drop(columns = ['lead', 'text_copy', 'product_analyst', 'marketing_analyst', 'business_analyst'\n",
        ",'web_analyst','data_analyst' , 'data_engineer', 'data_scientist','R', 'Julia', 'Go', 'C++', 'C#',\n",
        "         'Matlab', 'Django', 'Flutter', 'Flask', 'Spring', \n",
        "        'Kubernetes', 'Openshift', 'Grafana', \n",
        "        'Prometheus', 'Redshift', 'HDFS', 'MapReduce',\n",
        "        'Azure', 'RabbitMQ', 'MongoDB', 'Firebase',\n",
        "       'Cassandra', 'Redis', 'BigQuery', 'Excel',\n",
        "       'MLflow' ])\n"
      ],
      "metadata": {
        "id": "6-t4FYcvPPj5"
      },
      "execution_count": 247,
      "outputs": []
    },
    {
      "cell_type": "code",
      "source": [
        "df.info()"
      ],
      "metadata": {
        "id": "zPVWvdQvIMxv"
      },
      "execution_count": null,
      "outputs": []
    },
    {
      "cell_type": "markdown",
      "source": [
        "### выделим год и месяц из датасета"
      ],
      "metadata": {
        "id": "np_4kyuBsvWw"
      }
    },
    {
      "cell_type": "code",
      "source": [
        "import datetime \n",
        "# for i in range(len(df)):\n",
        "#   df['date_datetime'] = datetime.datetime.strptime(df.date[i],'%Y-%m-%d %H:%M:%S')\n",
        "\n",
        "if df['date'].dtype != '<M8[ns]':\n",
        "  df['date'] = pd.to_datetime(df['date'])"
      ],
      "metadata": {
        "id": "MCt3iScd9RCK"
      },
      "execution_count": 248,
      "outputs": []
    },
    {
      "cell_type": "code",
      "source": [
        "df['year'] = df['date'].dt.year\n",
        "df['month'] = df['date'].dt.month\n",
        "df['day'] = df['date'].dt.day"
      ],
      "metadata": {
        "id": "5QVu_hP2Qcul"
      },
      "execution_count": 249,
      "outputs": []
    },
    {
      "cell_type": "code",
      "source": [
        "df.head()"
      ],
      "metadata": {
        "colab": {
          "base_uri": "https://localhost:8080/",
          "height": 0
        },
        "id": "bVNUKjE8oDZp",
        "outputId": "c5d0b8cc-3895-4cc5-9b82-d62bf614cc82"
      },
      "execution_count": 250,
      "outputs": [
        {
          "output_type": "execute_result",
          "data": {
            "text/plain": [
              "                                                   chat  message_id  \\\n",
              "276   {\\n    \"_\": \"Chat\",\\n    \"id\": -1001291755040,...         536   \n",
              "1294  {\\n    \"_\": \"Chat\",\\n    \"id\": -1001269377842,...         725   \n",
              "839   {\\n    \"_\": \"Chat\",\\n    \"id\": -1001269377842,...        1223   \n",
              "314   {\\n    \"_\": \"Chat\",\\n    \"id\": -1001291755040,...         485   \n",
              "1738  {\\n    \"_\": \"Chat\",\\n    \"id\": -1001269377842,...         219   \n",
              "\n",
              "                    date                                               text  \\\n",
              "276  2021-10-14 13:47:31  \"#вакансия #web #webanalyst \\n\\nВакансия: Web ...   \n",
              "1294 2021-06-01 18:59:52  # BigData #Python    #вакансия  #работа \\n\\nНа...   \n",
              "839  2022-01-24 19:32:51  # Data scientist #DS #вакансия #Junior  \\n\\nКо...   \n",
              "314  2021-07-07 15:42:10  #BI #BusinessIntelligence #PowerBI #SQL #SQLSe...   \n",
              "1738 2020-01-27 13:54:50  #BI #Greenplum #ClickHouse #Apache #ETL #Terad...   \n",
              "\n",
              "                                               entities        chat_id  \\\n",
              "276   [\\n    {\\n        \"_\": \"MessageEntity\",\\n     ... -1001291755040   \n",
              "1294  [\\n    {\\n        \"_\": \"MessageEntity\",\\n     ... -1001269377842   \n",
              "839   [\\n    {\\n        \"_\": \"MessageEntity\",\\n     ... -1001269377842   \n",
              "314   [\\n    {\\n        \"_\": \"MessageEntity\",\\n     ... -1001291755040   \n",
              "1738  [\\n    {\\n        \"_\": \"MessageEntity\",\\n     ... -1001269377842   \n",
              "\n",
              "                                 title     ds    da     de  ...  Kafka  \\\n",
              "276   Business Intelligence HeadHunter  False  True  False  ...  False   \n",
              "1294                    Data jobs feed   True  True   True  ...  False   \n",
              "839                     Data jobs feed   True  True   True  ...  False   \n",
              "314   Business Intelligence HeadHunter   True  True   True  ...  False   \n",
              "1738                    Data jobs feed  False  True  False  ...  False   \n",
              "\n",
              "     Clickhouse XGBoost LightGBM CatBoost Scikit-learn  SciPy  year  month  \\\n",
              "276       False   False    False    False        False  False  2021     10   \n",
              "1294      False   False    False    False        False  False  2021      6   \n",
              "839       False   False    False    False         True  False  2022      1   \n",
              "314       False   False    False    False        False  False  2021      7   \n",
              "1738      False   False    False    False        False  False  2020      1   \n",
              "\n",
              "      day  \n",
              "276    14  \n",
              "1294    1  \n",
              "839    24  \n",
              "314     7  \n",
              "1738   27  \n",
              "\n",
              "[5 rows x 44 columns]"
            ],
            "text/html": [
              "\n",
              "  <div id=\"df-2fbf1806-f858-431d-ba04-c368a6fd640f\">\n",
              "    <div class=\"colab-df-container\">\n",
              "      <div>\n",
              "<style scoped>\n",
              "    .dataframe tbody tr th:only-of-type {\n",
              "        vertical-align: middle;\n",
              "    }\n",
              "\n",
              "    .dataframe tbody tr th {\n",
              "        vertical-align: top;\n",
              "    }\n",
              "\n",
              "    .dataframe thead th {\n",
              "        text-align: right;\n",
              "    }\n",
              "</style>\n",
              "<table border=\"1\" class=\"dataframe\">\n",
              "  <thead>\n",
              "    <tr style=\"text-align: right;\">\n",
              "      <th></th>\n",
              "      <th>chat</th>\n",
              "      <th>message_id</th>\n",
              "      <th>date</th>\n",
              "      <th>text</th>\n",
              "      <th>entities</th>\n",
              "      <th>chat_id</th>\n",
              "      <th>title</th>\n",
              "      <th>ds</th>\n",
              "      <th>da</th>\n",
              "      <th>de</th>\n",
              "      <th>...</th>\n",
              "      <th>Kafka</th>\n",
              "      <th>Clickhouse</th>\n",
              "      <th>XGBoost</th>\n",
              "      <th>LightGBM</th>\n",
              "      <th>CatBoost</th>\n",
              "      <th>Scikit-learn</th>\n",
              "      <th>SciPy</th>\n",
              "      <th>year</th>\n",
              "      <th>month</th>\n",
              "      <th>day</th>\n",
              "    </tr>\n",
              "  </thead>\n",
              "  <tbody>\n",
              "    <tr>\n",
              "      <th>276</th>\n",
              "      <td>{\\n    \"_\": \"Chat\",\\n    \"id\": -1001291755040,...</td>\n",
              "      <td>536</td>\n",
              "      <td>2021-10-14 13:47:31</td>\n",
              "      <td>\"#вакансия #web #webanalyst \\n\\nВакансия: Web ...</td>\n",
              "      <td>[\\n    {\\n        \"_\": \"MessageEntity\",\\n     ...</td>\n",
              "      <td>-1001291755040</td>\n",
              "      <td>Business Intelligence HeadHunter</td>\n",
              "      <td>False</td>\n",
              "      <td>True</td>\n",
              "      <td>False</td>\n",
              "      <td>...</td>\n",
              "      <td>False</td>\n",
              "      <td>False</td>\n",
              "      <td>False</td>\n",
              "      <td>False</td>\n",
              "      <td>False</td>\n",
              "      <td>False</td>\n",
              "      <td>False</td>\n",
              "      <td>2021</td>\n",
              "      <td>10</td>\n",
              "      <td>14</td>\n",
              "    </tr>\n",
              "    <tr>\n",
              "      <th>1294</th>\n",
              "      <td>{\\n    \"_\": \"Chat\",\\n    \"id\": -1001269377842,...</td>\n",
              "      <td>725</td>\n",
              "      <td>2021-06-01 18:59:52</td>\n",
              "      <td># BigData #Python    #вакансия  #работа \\n\\nНа...</td>\n",
              "      <td>[\\n    {\\n        \"_\": \"MessageEntity\",\\n     ...</td>\n",
              "      <td>-1001269377842</td>\n",
              "      <td>Data jobs feed</td>\n",
              "      <td>True</td>\n",
              "      <td>True</td>\n",
              "      <td>True</td>\n",
              "      <td>...</td>\n",
              "      <td>False</td>\n",
              "      <td>False</td>\n",
              "      <td>False</td>\n",
              "      <td>False</td>\n",
              "      <td>False</td>\n",
              "      <td>False</td>\n",
              "      <td>False</td>\n",
              "      <td>2021</td>\n",
              "      <td>6</td>\n",
              "      <td>1</td>\n",
              "    </tr>\n",
              "    <tr>\n",
              "      <th>839</th>\n",
              "      <td>{\\n    \"_\": \"Chat\",\\n    \"id\": -1001269377842,...</td>\n",
              "      <td>1223</td>\n",
              "      <td>2022-01-24 19:32:51</td>\n",
              "      <td># Data scientist #DS #вакансия #Junior  \\n\\nКо...</td>\n",
              "      <td>[\\n    {\\n        \"_\": \"MessageEntity\",\\n     ...</td>\n",
              "      <td>-1001269377842</td>\n",
              "      <td>Data jobs feed</td>\n",
              "      <td>True</td>\n",
              "      <td>True</td>\n",
              "      <td>True</td>\n",
              "      <td>...</td>\n",
              "      <td>False</td>\n",
              "      <td>False</td>\n",
              "      <td>False</td>\n",
              "      <td>False</td>\n",
              "      <td>False</td>\n",
              "      <td>True</td>\n",
              "      <td>False</td>\n",
              "      <td>2022</td>\n",
              "      <td>1</td>\n",
              "      <td>24</td>\n",
              "    </tr>\n",
              "    <tr>\n",
              "      <th>314</th>\n",
              "      <td>{\\n    \"_\": \"Chat\",\\n    \"id\": -1001291755040,...</td>\n",
              "      <td>485</td>\n",
              "      <td>2021-07-07 15:42:10</td>\n",
              "      <td>#BI #BusinessIntelligence #PowerBI #SQL #SQLSe...</td>\n",
              "      <td>[\\n    {\\n        \"_\": \"MessageEntity\",\\n     ...</td>\n",
              "      <td>-1001291755040</td>\n",
              "      <td>Business Intelligence HeadHunter</td>\n",
              "      <td>True</td>\n",
              "      <td>True</td>\n",
              "      <td>True</td>\n",
              "      <td>...</td>\n",
              "      <td>False</td>\n",
              "      <td>False</td>\n",
              "      <td>False</td>\n",
              "      <td>False</td>\n",
              "      <td>False</td>\n",
              "      <td>False</td>\n",
              "      <td>False</td>\n",
              "      <td>2021</td>\n",
              "      <td>7</td>\n",
              "      <td>7</td>\n",
              "    </tr>\n",
              "    <tr>\n",
              "      <th>1738</th>\n",
              "      <td>{\\n    \"_\": \"Chat\",\\n    \"id\": -1001269377842,...</td>\n",
              "      <td>219</td>\n",
              "      <td>2020-01-27 13:54:50</td>\n",
              "      <td>#BI #Greenplum #ClickHouse #Apache #ETL #Terad...</td>\n",
              "      <td>[\\n    {\\n        \"_\": \"MessageEntity\",\\n     ...</td>\n",
              "      <td>-1001269377842</td>\n",
              "      <td>Data jobs feed</td>\n",
              "      <td>False</td>\n",
              "      <td>True</td>\n",
              "      <td>False</td>\n",
              "      <td>...</td>\n",
              "      <td>False</td>\n",
              "      <td>False</td>\n",
              "      <td>False</td>\n",
              "      <td>False</td>\n",
              "      <td>False</td>\n",
              "      <td>False</td>\n",
              "      <td>False</td>\n",
              "      <td>2020</td>\n",
              "      <td>1</td>\n",
              "      <td>27</td>\n",
              "    </tr>\n",
              "  </tbody>\n",
              "</table>\n",
              "<p>5 rows × 44 columns</p>\n",
              "</div>\n",
              "      <button class=\"colab-df-convert\" onclick=\"convertToInteractive('df-2fbf1806-f858-431d-ba04-c368a6fd640f')\"\n",
              "              title=\"Convert this dataframe to an interactive table.\"\n",
              "              style=\"display:none;\">\n",
              "        \n",
              "  <svg xmlns=\"http://www.w3.org/2000/svg\" height=\"24px\"viewBox=\"0 0 24 24\"\n",
              "       width=\"24px\">\n",
              "    <path d=\"M0 0h24v24H0V0z\" fill=\"none\"/>\n",
              "    <path d=\"M18.56 5.44l.94 2.06.94-2.06 2.06-.94-2.06-.94-.94-2.06-.94 2.06-2.06.94zm-11 1L8.5 8.5l.94-2.06 2.06-.94-2.06-.94L8.5 2.5l-.94 2.06-2.06.94zm10 10l.94 2.06.94-2.06 2.06-.94-2.06-.94-.94-2.06-.94 2.06-2.06.94z\"/><path d=\"M17.41 7.96l-1.37-1.37c-.4-.4-.92-.59-1.43-.59-.52 0-1.04.2-1.43.59L10.3 9.45l-7.72 7.72c-.78.78-.78 2.05 0 2.83L4 21.41c.39.39.9.59 1.41.59.51 0 1.02-.2 1.41-.59l7.78-7.78 2.81-2.81c.8-.78.8-2.07 0-2.86zM5.41 20L4 18.59l7.72-7.72 1.47 1.35L5.41 20z\"/>\n",
              "  </svg>\n",
              "      </button>\n",
              "      \n",
              "  <style>\n",
              "    .colab-df-container {\n",
              "      display:flex;\n",
              "      flex-wrap:wrap;\n",
              "      gap: 12px;\n",
              "    }\n",
              "\n",
              "    .colab-df-convert {\n",
              "      background-color: #E8F0FE;\n",
              "      border: none;\n",
              "      border-radius: 50%;\n",
              "      cursor: pointer;\n",
              "      display: none;\n",
              "      fill: #1967D2;\n",
              "      height: 32px;\n",
              "      padding: 0 0 0 0;\n",
              "      width: 32px;\n",
              "    }\n",
              "\n",
              "    .colab-df-convert:hover {\n",
              "      background-color: #E2EBFA;\n",
              "      box-shadow: 0px 1px 2px rgba(60, 64, 67, 0.3), 0px 1px 3px 1px rgba(60, 64, 67, 0.15);\n",
              "      fill: #174EA6;\n",
              "    }\n",
              "\n",
              "    [theme=dark] .colab-df-convert {\n",
              "      background-color: #3B4455;\n",
              "      fill: #D2E3FC;\n",
              "    }\n",
              "\n",
              "    [theme=dark] .colab-df-convert:hover {\n",
              "      background-color: #434B5C;\n",
              "      box-shadow: 0px 1px 3px 1px rgba(0, 0, 0, 0.15);\n",
              "      filter: drop-shadow(0px 1px 2px rgba(0, 0, 0, 0.3));\n",
              "      fill: #FFFFFF;\n",
              "    }\n",
              "  </style>\n",
              "\n",
              "      <script>\n",
              "        const buttonEl =\n",
              "          document.querySelector('#df-2fbf1806-f858-431d-ba04-c368a6fd640f button.colab-df-convert');\n",
              "        buttonEl.style.display =\n",
              "          google.colab.kernel.accessAllowed ? 'block' : 'none';\n",
              "\n",
              "        async function convertToInteractive(key) {\n",
              "          const element = document.querySelector('#df-2fbf1806-f858-431d-ba04-c368a6fd640f');\n",
              "          const dataTable =\n",
              "            await google.colab.kernel.invokeFunction('convertToInteractive',\n",
              "                                                     [key], {});\n",
              "          if (!dataTable) return;\n",
              "\n",
              "          const docLinkHtml = 'Like what you see? Visit the ' +\n",
              "            '<a target=\"_blank\" href=https://colab.research.google.com/notebooks/data_table.ipynb>data table notebook</a>'\n",
              "            + ' to learn more about interactive tables.';\n",
              "          element.innerHTML = '';\n",
              "          dataTable['output_type'] = 'display_data';\n",
              "          await google.colab.output.renderOutput(dataTable, element);\n",
              "          const docLink = document.createElement('div');\n",
              "          docLink.innerHTML = docLinkHtml;\n",
              "          element.appendChild(docLink);\n",
              "        }\n",
              "      </script>\n",
              "    </div>\n",
              "  </div>\n",
              "  "
            ]
          },
          "metadata": {},
          "execution_count": 250
        }
      ]
    },
    {
      "cell_type": "markdown",
      "source": [
        "### Разберемся с зарплатами\n",
        "\n",
        "берем код и адаптируем немножко  из вот этой статьи: https://github.com/egorborisov/jobs_article/blob/main/jobs_research.ipynb\n",
        "\n",
        "\n",
        "\n",
        "Очистка текста\n",
        "В вакансиях есть много других цифр помимо зарплатных вилок, которые машают анализу. Для начала очистим текст от них:\n",
        "\n",
        "Ссылки\n",
        "Номера телефонов\n",
        "Года\n",
        "Интервалы времени\n",
        "Премии"
      ],
      "metadata": {
        "id": "q_5-roQyDFOF"
      }
    },
    {
      "cell_type": "code",
      "source": [
        "# Ссылка\n",
        "link = r'<.*?>'\n",
        "\n",
        "# Номер телефона\n",
        "tel = r'([78][-\\( ]*\\d{3}[-\\) ]*\\d{2,3}[ -]*\\d{2,3}[ -]*\\d{2,3}|' + \\\n",
        "      r'\\(\\d{3}\\)\\d{2,3}[ -]*\\d{2,3}[ -]*\\d{2,3})'\n",
        "\n",
        "\n",
        "year_ranges = {str(k): '' for k in range(2001,2021,1)}\n",
        "time_ramges = {i:'' for i in ['5/2', '10-19', '11-18', '11-19', '9-18', 'c 11 до 19']}\n",
        "bonus = r'(\\+.{0,5}?\\d{2,3}.{0,25}?преми|\\+ \\d{2-3}-\\d{2,3}|\\+ \\d{2,3})'\n"
      ],
      "metadata": {
        "id": "3I3e1PVHDJP_"
      },
      "execution_count": 260,
      "outputs": []
    },
    {
      "cell_type": "code",
      "source": [
        "# Очищаем текст\n",
        "df['clean_text'] = df['text']\n",
        "# Удаляем все ссылки из текста\n",
        "df['clean_text'] = df.clean_text.str.replace(link, ' ')\n",
        "# Удаляем телефоны из текста\n",
        "df['clean_text'] = df.clean_text.str.replace(tel, ' ')\n",
        "# Удаляем премии из текста\n",
        "df['clean_text'] = df.clean_text.str.replace(bonus, ' ')\n",
        "# Удаляем года из текста\n",
        "df['clean_text'] = df.clean_text.replace(year_ranges, regex=True)\n",
        "# Удаляем время из текста\n",
        "df['clean_text'] = df.clean_text.replace(time_ramges, regex=True)"
      ],
      "metadata": {
        "colab": {
          "base_uri": "https://localhost:8080/"
        },
        "id": "tf-n8O2rDUuK",
        "outputId": "a514793b-b3ac-4e5f-e2d1-b5b121c4d111"
      },
      "execution_count": 261,
      "outputs": [
        {
          "output_type": "stream",
          "name": "stderr",
          "text": [
            "/usr/local/lib/python3.7/dist-packages/ipykernel_launcher.py:4: FutureWarning: The default value of regex will change from True to False in a future version.\n",
            "  after removing the cwd from sys.path.\n",
            "/usr/local/lib/python3.7/dist-packages/ipykernel_launcher.py:6: FutureWarning: The default value of regex will change from True to False in a future version.\n",
            "  \n",
            "/usr/local/lib/python3.7/dist-packages/ipykernel_launcher.py:8: FutureWarning: The default value of regex will change from True to False in a future version.\n",
            "  \n"
          ]
        }
      ]
    },
    {
      "cell_type": "markdown",
      "source": [
        "Базовые регулярки для зарплатных вилок\n",
        "Для начала сделаем несколько регулярок:\n",
        "\n",
        "Реглярка для извеления цифрв в 4 форматах\n",
        "Регулярка для выражения между цифрами если они отностятся к одной вилке\n",
        "Регулярка для выражений которые часто идут до указания зарпланой вилки\n",
        "Регулярка для выражений которые идут после зарплатной вилки"
      ],
      "metadata": {
        "id": "3Tce6vbdDxaP"
      }
    },
    {
      "cell_type": "code",
      "source": [
        "number = r'([123456789]\\d{0,2}[,\\'\\. ]?\\d0{2}|[123456789]\\d{2}0{1,2}|[123456789]\\d{1,2}|[123456789]\\d{0,1}[\\.,\\']\\d{1,3})'\n",
        "\n",
        "middle = r'[ \\t]*[^0123456789\\.,\\'%]{0,9}?(?:-|до|–|—|to|-)[ \\t]*[^0123456789\\.,\\'%]{0,1}?'\n",
        "\n",
        "start = r'(?:net|gross|гросс|нет|rub|$|€|£|eur|dol|mid|sen|jun|мидл|синь|джун|зп|з\\\\п|плат|компенсац|' + \\\n",
        "        r'вилк|з/п|доход|fork|moneys|salary|moneyparrot|деньг|оклад|условия|ставка|_plug).{0,100}?\\s*?'\n",
        "\n",
        "end = r'[ \\t]*?[^0123456789]{0,3}?(?:k |к |тыс\\.|т\\.р|net|gross|гросс|нет|rub|$|€|£|eur|dol|mid|' + \\\n",
        "      r'sen|jun|мидл|синь|jun|р |джун)'"
      ],
      "metadata": {
        "id": "QFmSkigwDwqJ"
      },
      "execution_count": 262,
      "outputs": []
    },
    {
      "cell_type": "markdown",
      "source": [
        "Финальные регулярки для извлечения вилок\n",
        "Теперь из базовых регулярок можно собрать финальные. В порядке приоритета:\n",
        "\n",
        "Полные вилки от и до\n",
        "Вилки из одной цифры с совпадением по регулрякам до и после"
      ],
      "metadata": {
        "id": "apKzLILAEDxh"
      }
    },
    {
      "cell_type": "code",
      "source": [
        "fork_1 = number + middle + number\n",
        "fork_2 = start + number + end"
      ],
      "metadata": {
        "id": "H2zNQD8PEEXt"
      },
      "execution_count": 263,
      "outputs": []
    },
    {
      "cell_type": "code",
      "source": [
        "# Парсим вилки с использованием полученных регулярок\n",
        "forks_1 = df.clean_text.str.findall(fork_1)\n",
        "clean_text = df.clean_text.str.replace(fork_1, ' ')\n",
        "forks_2 = clean_text.str.findall(fork_2)\n",
        "\n",
        "forks_list = []\n",
        "for i, row in df.iterrows():\n",
        "    forks = forks_1[i] + forks_2[i]\n",
        "    forks_list.append(forks)\n",
        "    \n",
        "df['forks'] = forks_list\n",
        "\n",
        "print(f'Всего найдено вилок {np.sum(df.forks.str.len() > 0)} из {len(df)}')"
      ],
      "metadata": {
        "colab": {
          "base_uri": "https://localhost:8080/"
        },
        "id": "IdAnAsOREeYc",
        "outputId": "051d6af0-8104-4c5d-a621-b5c45e8547f5"
      },
      "execution_count": 264,
      "outputs": [
        {
          "output_type": "stream",
          "name": "stderr",
          "text": [
            "/usr/local/lib/python3.7/dist-packages/ipykernel_launcher.py:3: FutureWarning: The default value of regex will change from True to False in a future version.\n",
            "  This is separate from the ipykernel package so we can avoid doing imports until\n"
          ]
        },
        {
          "output_type": "stream",
          "name": "stdout",
          "text": [
            "Всего найдено вилок 1506 из 3887\n"
          ]
        }
      ]
    },
    {
      "cell_type": "code",
      "source": [
        "df"
      ],
      "metadata": {
        "colab": {
          "base_uri": "https://localhost:8080/",
          "height": 922
        },
        "id": "IhstNMD57sdL",
        "outputId": "1e84bead-2e9b-42f7-f4e0-69b9c55c1a3b"
      },
      "execution_count": 265,
      "outputs": [
        {
          "output_type": "execute_result",
          "data": {
            "text/plain": [
              "                                                   chat  message_id  \\\n",
              "276   {\\n    \"_\": \"Chat\",\\n    \"id\": -1001291755040,...         536   \n",
              "1294  {\\n    \"_\": \"Chat\",\\n    \"id\": -1001269377842,...         725   \n",
              "839   {\\n    \"_\": \"Chat\",\\n    \"id\": -1001269377842,...        1223   \n",
              "314   {\\n    \"_\": \"Chat\",\\n    \"id\": -1001291755040,...         485   \n",
              "1738  {\\n    \"_\": \"Chat\",\\n    \"id\": -1001269377842,...         219   \n",
              "...                                                 ...         ...   \n",
              "3633  {\\n    \"_\": \"Chat\",\\n    \"id\": -1001164864072,...         435   \n",
              "200   {\\n    \"_\": \"Chat\",\\n    \"id\": -1001269328727,...          17   \n",
              "210   {\\n    \"_\": \"Chat\",\\n    \"id\": -1001269328727,...           4   \n",
              "1012  {\\n    \"_\": \"Chat\",\\n    \"id\": -1001269377842,...        1037   \n",
              "4531  {\\n    \"_\": \"Chat\",\\n    \"id\": -1001321264581,...         294   \n",
              "\n",
              "                    date                                               text  \\\n",
              "276  2021-10-14 13:47:31  \"#вакансия #web #webanalyst \\n\\nВакансия: Web ...   \n",
              "1294 2021-06-01 18:59:52  # BigData #Python    #вакансия  #работа \\n\\nНа...   \n",
              "839  2022-01-24 19:32:51  # Data scientist #DS #вакансия #Junior  \\n\\nКо...   \n",
              "314  2021-07-07 15:42:10  #BI #BusinessIntelligence #PowerBI #SQL #SQLSe...   \n",
              "1738 2020-01-27 13:54:50  #BI #Greenplum #ClickHouse #Apache #ETL #Terad...   \n",
              "...                  ...                                                ...   \n",
              "3633 2021-09-07 13:23:18  🦉OTUS – образовательная платформа🦉\\n\\nOTUS не ...   \n",
              "200  2020-09-01 13:38:28  🦙eLama, бренд международной IT-компании, работ...   \n",
              "210  2020-07-29 22:27:44  🧑‍💻ВКонтакте в поиске аналитика-разработчика в...   \n",
              "1012 2021-11-08 22:47:38  🧑‍💻Вакансия#HadoopDevOps\\n📍Компания: Самокат\\n...   \n",
              "4531 2020-11-16 14:12:08  🧮 Практические навыки в математике — основное ...   \n",
              "\n",
              "                                               entities        chat_id  \\\n",
              "276   [\\n    {\\n        \"_\": \"MessageEntity\",\\n     ... -1001291755040   \n",
              "1294  [\\n    {\\n        \"_\": \"MessageEntity\",\\n     ... -1001269377842   \n",
              "839   [\\n    {\\n        \"_\": \"MessageEntity\",\\n     ... -1001269377842   \n",
              "314   [\\n    {\\n        \"_\": \"MessageEntity\",\\n     ... -1001291755040   \n",
              "1738  [\\n    {\\n        \"_\": \"MessageEntity\",\\n     ... -1001269377842   \n",
              "...                                                 ...            ...   \n",
              "3633  [\\n    {\\n        \"_\": \"MessageEntity\",\\n     ... -1001164864072   \n",
              "200   [\\n    {\\n        \"_\": \"MessageEntity\",\\n     ... -1001269328727   \n",
              "210   [\\n    {\\n        \"_\": \"MessageEntity\",\\n     ... -1001269328727   \n",
              "1012  [\\n    {\\n        \"_\": \"MessageEntity\",\\n     ... -1001269377842   \n",
              "4531  [\\n    {\\n        \"_\": \"MessageEntity\",\\n     ... -1001321264581   \n",
              "\n",
              "                                            title     ds     da     de  ...  \\\n",
              "276              Business Intelligence HeadHunter  False   True  False  ...   \n",
              "1294                               Data jobs feed   True   True   True  ...   \n",
              "839                                Data jobs feed   True   True   True  ...   \n",
              "314              Business Intelligence HeadHunter   True   True   True  ...   \n",
              "1738                               Data jobs feed  False   True  False  ...   \n",
              "...                                           ...    ...    ...    ...  ...   \n",
              "3633                         Big Data Science job  False   True   True  ...   \n",
              "200                           Data Analytics Jobs  False   True  False  ...   \n",
              "210                           Data Analytics Jobs   True   True   True  ...   \n",
              "1012                               Data jobs feed  False   True   True  ...   \n",
              "4531  Data Science Jobs / AI / NN / ML / DL / NLP   True  False  False  ...   \n",
              "\n",
              "     Scikit-learn  SciPy  year month day  \\\n",
              "276         False  False  2021    10  14   \n",
              "1294        False  False  2021     6   1   \n",
              "839          True  False  2022     1  24   \n",
              "314         False  False  2021     7   7   \n",
              "1738        False  False  2020     1  27   \n",
              "...           ...    ...   ...   ...  ..   \n",
              "3633        False  False  2021     9   7   \n",
              "200         False  False  2020     9   1   \n",
              "210         False  False  2020     7  29   \n",
              "1012        False  False  2021    11   8   \n",
              "4531        False  False  2020    11  16   \n",
              "\n",
              "                                             clean_text  \\\n",
              "276   \"#вакансия #web #webanalyst \\n\\nВакансия: Web ...   \n",
              "1294  # BigData #Python    #вакансия  #работа \\n\\nНа...   \n",
              "839   # Data scientist #DS #вакансия #Junior  \\n\\nКо...   \n",
              "314   #BI #BusinessIntelligence #PowerBI #SQL #SQLSe...   \n",
              "1738  #BI #Greenplum #ClickHouse #Apache #ETL #Terad...   \n",
              "...                                                 ...   \n",
              "3633  🦉OTUS – образовательная платформа🦉\\n\\nOTUS не ...   \n",
              "200   🦙eLama, бренд международной IT-компании, работ...   \n",
              "210   🧑‍💻ВКонтакте в поиске аналитика-разработчика в...   \n",
              "1012  🧑‍💻Вакансия#HadoopDevOps\\n📍Компания: Самокат\\n...   \n",
              "4531  🧮 Практические навыки в математике — основное ...   \n",
              "\n",
              "                       forks  Salary_from  Salary_to  cur  \n",
              "276                       []            0          0  Rub  \n",
              "1294  [(200, 300), (25, 35)]          200        300  Rub  \n",
              "839             [(100, 150)]          100        150  Rub  \n",
              "314                       []            0          0  Rub  \n",
              "1738                   [200]            0          0  Rub  \n",
              "...                      ...          ...        ...  ...  \n",
              "3633           [(1.5, 4000)]          1.5       4000  Rub  \n",
              "200                     [30]            0          0  Rub  \n",
              "210                       []            0          0  Rub  \n",
              "1012                      []            0          0  Rub  \n",
              "4531                   [190]            0          0  Rub  \n",
              "\n",
              "[3887 rows x 49 columns]"
            ],
            "text/html": [
              "\n",
              "  <div id=\"df-23f7881d-4967-4e21-98f4-a55e37f83a41\">\n",
              "    <div class=\"colab-df-container\">\n",
              "      <div>\n",
              "<style scoped>\n",
              "    .dataframe tbody tr th:only-of-type {\n",
              "        vertical-align: middle;\n",
              "    }\n",
              "\n",
              "    .dataframe tbody tr th {\n",
              "        vertical-align: top;\n",
              "    }\n",
              "\n",
              "    .dataframe thead th {\n",
              "        text-align: right;\n",
              "    }\n",
              "</style>\n",
              "<table border=\"1\" class=\"dataframe\">\n",
              "  <thead>\n",
              "    <tr style=\"text-align: right;\">\n",
              "      <th></th>\n",
              "      <th>chat</th>\n",
              "      <th>message_id</th>\n",
              "      <th>date</th>\n",
              "      <th>text</th>\n",
              "      <th>entities</th>\n",
              "      <th>chat_id</th>\n",
              "      <th>title</th>\n",
              "      <th>ds</th>\n",
              "      <th>da</th>\n",
              "      <th>de</th>\n",
              "      <th>...</th>\n",
              "      <th>Scikit-learn</th>\n",
              "      <th>SciPy</th>\n",
              "      <th>year</th>\n",
              "      <th>month</th>\n",
              "      <th>day</th>\n",
              "      <th>clean_text</th>\n",
              "      <th>forks</th>\n",
              "      <th>Salary_from</th>\n",
              "      <th>Salary_to</th>\n",
              "      <th>cur</th>\n",
              "    </tr>\n",
              "  </thead>\n",
              "  <tbody>\n",
              "    <tr>\n",
              "      <th>276</th>\n",
              "      <td>{\\n    \"_\": \"Chat\",\\n    \"id\": -1001291755040,...</td>\n",
              "      <td>536</td>\n",
              "      <td>2021-10-14 13:47:31</td>\n",
              "      <td>\"#вакансия #web #webanalyst \\n\\nВакансия: Web ...</td>\n",
              "      <td>[\\n    {\\n        \"_\": \"MessageEntity\",\\n     ...</td>\n",
              "      <td>-1001291755040</td>\n",
              "      <td>Business Intelligence HeadHunter</td>\n",
              "      <td>False</td>\n",
              "      <td>True</td>\n",
              "      <td>False</td>\n",
              "      <td>...</td>\n",
              "      <td>False</td>\n",
              "      <td>False</td>\n",
              "      <td>2021</td>\n",
              "      <td>10</td>\n",
              "      <td>14</td>\n",
              "      <td>\"#вакансия #web #webanalyst \\n\\nВакансия: Web ...</td>\n",
              "      <td>[]</td>\n",
              "      <td>0</td>\n",
              "      <td>0</td>\n",
              "      <td>Rub</td>\n",
              "    </tr>\n",
              "    <tr>\n",
              "      <th>1294</th>\n",
              "      <td>{\\n    \"_\": \"Chat\",\\n    \"id\": -1001269377842,...</td>\n",
              "      <td>725</td>\n",
              "      <td>2021-06-01 18:59:52</td>\n",
              "      <td># BigData #Python    #вакансия  #работа \\n\\nНа...</td>\n",
              "      <td>[\\n    {\\n        \"_\": \"MessageEntity\",\\n     ...</td>\n",
              "      <td>-1001269377842</td>\n",
              "      <td>Data jobs feed</td>\n",
              "      <td>True</td>\n",
              "      <td>True</td>\n",
              "      <td>True</td>\n",
              "      <td>...</td>\n",
              "      <td>False</td>\n",
              "      <td>False</td>\n",
              "      <td>2021</td>\n",
              "      <td>6</td>\n",
              "      <td>1</td>\n",
              "      <td># BigData #Python    #вакансия  #работа \\n\\nНа...</td>\n",
              "      <td>[(200, 300), (25, 35)]</td>\n",
              "      <td>200</td>\n",
              "      <td>300</td>\n",
              "      <td>Rub</td>\n",
              "    </tr>\n",
              "    <tr>\n",
              "      <th>839</th>\n",
              "      <td>{\\n    \"_\": \"Chat\",\\n    \"id\": -1001269377842,...</td>\n",
              "      <td>1223</td>\n",
              "      <td>2022-01-24 19:32:51</td>\n",
              "      <td># Data scientist #DS #вакансия #Junior  \\n\\nКо...</td>\n",
              "      <td>[\\n    {\\n        \"_\": \"MessageEntity\",\\n     ...</td>\n",
              "      <td>-1001269377842</td>\n",
              "      <td>Data jobs feed</td>\n",
              "      <td>True</td>\n",
              "      <td>True</td>\n",
              "      <td>True</td>\n",
              "      <td>...</td>\n",
              "      <td>True</td>\n",
              "      <td>False</td>\n",
              "      <td>2022</td>\n",
              "      <td>1</td>\n",
              "      <td>24</td>\n",
              "      <td># Data scientist #DS #вакансия #Junior  \\n\\nКо...</td>\n",
              "      <td>[(100, 150)]</td>\n",
              "      <td>100</td>\n",
              "      <td>150</td>\n",
              "      <td>Rub</td>\n",
              "    </tr>\n",
              "    <tr>\n",
              "      <th>314</th>\n",
              "      <td>{\\n    \"_\": \"Chat\",\\n    \"id\": -1001291755040,...</td>\n",
              "      <td>485</td>\n",
              "      <td>2021-07-07 15:42:10</td>\n",
              "      <td>#BI #BusinessIntelligence #PowerBI #SQL #SQLSe...</td>\n",
              "      <td>[\\n    {\\n        \"_\": \"MessageEntity\",\\n     ...</td>\n",
              "      <td>-1001291755040</td>\n",
              "      <td>Business Intelligence HeadHunter</td>\n",
              "      <td>True</td>\n",
              "      <td>True</td>\n",
              "      <td>True</td>\n",
              "      <td>...</td>\n",
              "      <td>False</td>\n",
              "      <td>False</td>\n",
              "      <td>2021</td>\n",
              "      <td>7</td>\n",
              "      <td>7</td>\n",
              "      <td>#BI #BusinessIntelligence #PowerBI #SQL #SQLSe...</td>\n",
              "      <td>[]</td>\n",
              "      <td>0</td>\n",
              "      <td>0</td>\n",
              "      <td>Rub</td>\n",
              "    </tr>\n",
              "    <tr>\n",
              "      <th>1738</th>\n",
              "      <td>{\\n    \"_\": \"Chat\",\\n    \"id\": -1001269377842,...</td>\n",
              "      <td>219</td>\n",
              "      <td>2020-01-27 13:54:50</td>\n",
              "      <td>#BI #Greenplum #ClickHouse #Apache #ETL #Terad...</td>\n",
              "      <td>[\\n    {\\n        \"_\": \"MessageEntity\",\\n     ...</td>\n",
              "      <td>-1001269377842</td>\n",
              "      <td>Data jobs feed</td>\n",
              "      <td>False</td>\n",
              "      <td>True</td>\n",
              "      <td>False</td>\n",
              "      <td>...</td>\n",
              "      <td>False</td>\n",
              "      <td>False</td>\n",
              "      <td>2020</td>\n",
              "      <td>1</td>\n",
              "      <td>27</td>\n",
              "      <td>#BI #Greenplum #ClickHouse #Apache #ETL #Terad...</td>\n",
              "      <td>[200]</td>\n",
              "      <td>0</td>\n",
              "      <td>0</td>\n",
              "      <td>Rub</td>\n",
              "    </tr>\n",
              "    <tr>\n",
              "      <th>...</th>\n",
              "      <td>...</td>\n",
              "      <td>...</td>\n",
              "      <td>...</td>\n",
              "      <td>...</td>\n",
              "      <td>...</td>\n",
              "      <td>...</td>\n",
              "      <td>...</td>\n",
              "      <td>...</td>\n",
              "      <td>...</td>\n",
              "      <td>...</td>\n",
              "      <td>...</td>\n",
              "      <td>...</td>\n",
              "      <td>...</td>\n",
              "      <td>...</td>\n",
              "      <td>...</td>\n",
              "      <td>...</td>\n",
              "      <td>...</td>\n",
              "      <td>...</td>\n",
              "      <td>...</td>\n",
              "      <td>...</td>\n",
              "      <td>...</td>\n",
              "    </tr>\n",
              "    <tr>\n",
              "      <th>3633</th>\n",
              "      <td>{\\n    \"_\": \"Chat\",\\n    \"id\": -1001164864072,...</td>\n",
              "      <td>435</td>\n",
              "      <td>2021-09-07 13:23:18</td>\n",
              "      <td>🦉OTUS – образовательная платформа🦉\\n\\nOTUS не ...</td>\n",
              "      <td>[\\n    {\\n        \"_\": \"MessageEntity\",\\n     ...</td>\n",
              "      <td>-1001164864072</td>\n",
              "      <td>Big Data Science job</td>\n",
              "      <td>False</td>\n",
              "      <td>True</td>\n",
              "      <td>True</td>\n",
              "      <td>...</td>\n",
              "      <td>False</td>\n",
              "      <td>False</td>\n",
              "      <td>2021</td>\n",
              "      <td>9</td>\n",
              "      <td>7</td>\n",
              "      <td>🦉OTUS – образовательная платформа🦉\\n\\nOTUS не ...</td>\n",
              "      <td>[(1.5, 4000)]</td>\n",
              "      <td>1.5</td>\n",
              "      <td>4000</td>\n",
              "      <td>Rub</td>\n",
              "    </tr>\n",
              "    <tr>\n",
              "      <th>200</th>\n",
              "      <td>{\\n    \"_\": \"Chat\",\\n    \"id\": -1001269328727,...</td>\n",
              "      <td>17</td>\n",
              "      <td>2020-09-01 13:38:28</td>\n",
              "      <td>🦙eLama, бренд международной IT-компании, работ...</td>\n",
              "      <td>[\\n    {\\n        \"_\": \"MessageEntity\",\\n     ...</td>\n",
              "      <td>-1001269328727</td>\n",
              "      <td>Data Analytics Jobs</td>\n",
              "      <td>False</td>\n",
              "      <td>True</td>\n",
              "      <td>False</td>\n",
              "      <td>...</td>\n",
              "      <td>False</td>\n",
              "      <td>False</td>\n",
              "      <td>2020</td>\n",
              "      <td>9</td>\n",
              "      <td>1</td>\n",
              "      <td>🦙eLama, бренд международной IT-компании, работ...</td>\n",
              "      <td>[30]</td>\n",
              "      <td>0</td>\n",
              "      <td>0</td>\n",
              "      <td>Rub</td>\n",
              "    </tr>\n",
              "    <tr>\n",
              "      <th>210</th>\n",
              "      <td>{\\n    \"_\": \"Chat\",\\n    \"id\": -1001269328727,...</td>\n",
              "      <td>4</td>\n",
              "      <td>2020-07-29 22:27:44</td>\n",
              "      <td>🧑‍💻ВКонтакте в поиске аналитика-разработчика в...</td>\n",
              "      <td>[\\n    {\\n        \"_\": \"MessageEntity\",\\n     ...</td>\n",
              "      <td>-1001269328727</td>\n",
              "      <td>Data Analytics Jobs</td>\n",
              "      <td>True</td>\n",
              "      <td>True</td>\n",
              "      <td>True</td>\n",
              "      <td>...</td>\n",
              "      <td>False</td>\n",
              "      <td>False</td>\n",
              "      <td>2020</td>\n",
              "      <td>7</td>\n",
              "      <td>29</td>\n",
              "      <td>🧑‍💻ВКонтакте в поиске аналитика-разработчика в...</td>\n",
              "      <td>[]</td>\n",
              "      <td>0</td>\n",
              "      <td>0</td>\n",
              "      <td>Rub</td>\n",
              "    </tr>\n",
              "    <tr>\n",
              "      <th>1012</th>\n",
              "      <td>{\\n    \"_\": \"Chat\",\\n    \"id\": -1001269377842,...</td>\n",
              "      <td>1037</td>\n",
              "      <td>2021-11-08 22:47:38</td>\n",
              "      <td>🧑‍💻Вакансия#HadoopDevOps\\n📍Компания: Самокат\\n...</td>\n",
              "      <td>[\\n    {\\n        \"_\": \"MessageEntity\",\\n     ...</td>\n",
              "      <td>-1001269377842</td>\n",
              "      <td>Data jobs feed</td>\n",
              "      <td>False</td>\n",
              "      <td>True</td>\n",
              "      <td>True</td>\n",
              "      <td>...</td>\n",
              "      <td>False</td>\n",
              "      <td>False</td>\n",
              "      <td>2021</td>\n",
              "      <td>11</td>\n",
              "      <td>8</td>\n",
              "      <td>🧑‍💻Вакансия#HadoopDevOps\\n📍Компания: Самокат\\n...</td>\n",
              "      <td>[]</td>\n",
              "      <td>0</td>\n",
              "      <td>0</td>\n",
              "      <td>Rub</td>\n",
              "    </tr>\n",
              "    <tr>\n",
              "      <th>4531</th>\n",
              "      <td>{\\n    \"_\": \"Chat\",\\n    \"id\": -1001321264581,...</td>\n",
              "      <td>294</td>\n",
              "      <td>2020-11-16 14:12:08</td>\n",
              "      <td>🧮 Практические навыки в математике — основное ...</td>\n",
              "      <td>[\\n    {\\n        \"_\": \"MessageEntity\",\\n     ...</td>\n",
              "      <td>-1001321264581</td>\n",
              "      <td>Data Science Jobs / AI / NN / ML / DL / NLP</td>\n",
              "      <td>True</td>\n",
              "      <td>False</td>\n",
              "      <td>False</td>\n",
              "      <td>...</td>\n",
              "      <td>False</td>\n",
              "      <td>False</td>\n",
              "      <td>2020</td>\n",
              "      <td>11</td>\n",
              "      <td>16</td>\n",
              "      <td>🧮 Практические навыки в математике — основное ...</td>\n",
              "      <td>[190]</td>\n",
              "      <td>0</td>\n",
              "      <td>0</td>\n",
              "      <td>Rub</td>\n",
              "    </tr>\n",
              "  </tbody>\n",
              "</table>\n",
              "<p>3887 rows × 49 columns</p>\n",
              "</div>\n",
              "      <button class=\"colab-df-convert\" onclick=\"convertToInteractive('df-23f7881d-4967-4e21-98f4-a55e37f83a41')\"\n",
              "              title=\"Convert this dataframe to an interactive table.\"\n",
              "              style=\"display:none;\">\n",
              "        \n",
              "  <svg xmlns=\"http://www.w3.org/2000/svg\" height=\"24px\"viewBox=\"0 0 24 24\"\n",
              "       width=\"24px\">\n",
              "    <path d=\"M0 0h24v24H0V0z\" fill=\"none\"/>\n",
              "    <path d=\"M18.56 5.44l.94 2.06.94-2.06 2.06-.94-2.06-.94-.94-2.06-.94 2.06-2.06.94zm-11 1L8.5 8.5l.94-2.06 2.06-.94-2.06-.94L8.5 2.5l-.94 2.06-2.06.94zm10 10l.94 2.06.94-2.06 2.06-.94-2.06-.94-.94-2.06-.94 2.06-2.06.94z\"/><path d=\"M17.41 7.96l-1.37-1.37c-.4-.4-.92-.59-1.43-.59-.52 0-1.04.2-1.43.59L10.3 9.45l-7.72 7.72c-.78.78-.78 2.05 0 2.83L4 21.41c.39.39.9.59 1.41.59.51 0 1.02-.2 1.41-.59l7.78-7.78 2.81-2.81c.8-.78.8-2.07 0-2.86zM5.41 20L4 18.59l7.72-7.72 1.47 1.35L5.41 20z\"/>\n",
              "  </svg>\n",
              "      </button>\n",
              "      \n",
              "  <style>\n",
              "    .colab-df-container {\n",
              "      display:flex;\n",
              "      flex-wrap:wrap;\n",
              "      gap: 12px;\n",
              "    }\n",
              "\n",
              "    .colab-df-convert {\n",
              "      background-color: #E8F0FE;\n",
              "      border: none;\n",
              "      border-radius: 50%;\n",
              "      cursor: pointer;\n",
              "      display: none;\n",
              "      fill: #1967D2;\n",
              "      height: 32px;\n",
              "      padding: 0 0 0 0;\n",
              "      width: 32px;\n",
              "    }\n",
              "\n",
              "    .colab-df-convert:hover {\n",
              "      background-color: #E2EBFA;\n",
              "      box-shadow: 0px 1px 2px rgba(60, 64, 67, 0.3), 0px 1px 3px 1px rgba(60, 64, 67, 0.15);\n",
              "      fill: #174EA6;\n",
              "    }\n",
              "\n",
              "    [theme=dark] .colab-df-convert {\n",
              "      background-color: #3B4455;\n",
              "      fill: #D2E3FC;\n",
              "    }\n",
              "\n",
              "    [theme=dark] .colab-df-convert:hover {\n",
              "      background-color: #434B5C;\n",
              "      box-shadow: 0px 1px 3px 1px rgba(0, 0, 0, 0.15);\n",
              "      filter: drop-shadow(0px 1px 2px rgba(0, 0, 0, 0.3));\n",
              "      fill: #FFFFFF;\n",
              "    }\n",
              "  </style>\n",
              "\n",
              "      <script>\n",
              "        const buttonEl =\n",
              "          document.querySelector('#df-23f7881d-4967-4e21-98f4-a55e37f83a41 button.colab-df-convert');\n",
              "        buttonEl.style.display =\n",
              "          google.colab.kernel.accessAllowed ? 'block' : 'none';\n",
              "\n",
              "        async function convertToInteractive(key) {\n",
              "          const element = document.querySelector('#df-23f7881d-4967-4e21-98f4-a55e37f83a41');\n",
              "          const dataTable =\n",
              "            await google.colab.kernel.invokeFunction('convertToInteractive',\n",
              "                                                     [key], {});\n",
              "          if (!dataTable) return;\n",
              "\n",
              "          const docLinkHtml = 'Like what you see? Visit the ' +\n",
              "            '<a target=\"_blank\" href=https://colab.research.google.com/notebooks/data_table.ipynb>data table notebook</a>'\n",
              "            + ' to learn more about interactive tables.';\n",
              "          element.innerHTML = '';\n",
              "          dataTable['output_type'] = 'display_data';\n",
              "          await google.colab.output.renderOutput(dataTable, element);\n",
              "          const docLink = document.createElement('div');\n",
              "          docLink.innerHTML = docLinkHtml;\n",
              "          element.appendChild(docLink);\n",
              "        }\n",
              "      </script>\n",
              "    </div>\n",
              "  </div>\n",
              "  "
            ]
          },
          "metadata": {},
          "execution_count": 265
        }
      ]
    },
    {
      "cell_type": "code",
      "source": [
        "# Парсим вилки с использованием полученных регулярок\n",
        " \n",
        "forks_1 = df.clean_text.str.findall(fork_1)\n",
        "clean_text = df.clean_text.str.replace(fork_1, ' ')\n",
        "forks_2 = clean_text.str.findall(fork_2)\n",
        "\n",
        "df['Salary_from'] = 0\n",
        "df['Salary_to'] = 0\n",
        "\n",
        "for i, row in df.iterrows():\n",
        "  if len(forks_1[i])>0:\n",
        "    df['Salary_from'][i] = forks_1[i][0][0]\n",
        "    df['Salary_to'][i] = forks_1[i][0][1]"
      ],
      "metadata": {
        "colab": {
          "base_uri": "https://localhost:8080/"
        },
        "id": "WM_LYj4dH26j",
        "outputId": "f7f10448-3152-4902-e41d-94eccf62d9f0"
      },
      "execution_count": 266,
      "outputs": [
        {
          "output_type": "stream",
          "name": "stderr",
          "text": [
            "/usr/local/lib/python3.7/dist-packages/ipykernel_launcher.py:4: FutureWarning: The default value of regex will change from True to False in a future version.\n",
            "  after removing the cwd from sys.path.\n",
            "/usr/local/lib/python3.7/dist-packages/ipykernel_launcher.py:12: SettingWithCopyWarning: \n",
            "A value is trying to be set on a copy of a slice from a DataFrame\n",
            "\n",
            "See the caveats in the documentation: https://pandas.pydata.org/pandas-docs/stable/user_guide/indexing.html#returning-a-view-versus-a-copy\n",
            "  if sys.path[0] == '':\n",
            "/usr/local/lib/python3.7/dist-packages/ipykernel_launcher.py:13: SettingWithCopyWarning: \n",
            "A value is trying to be set on a copy of a slice from a DataFrame\n",
            "\n",
            "See the caveats in the documentation: https://pandas.pydata.org/pandas-docs/stable/user_guide/indexing.html#returning-a-view-versus-a-copy\n",
            "  del sys.path[0]\n",
            "/usr/local/lib/python3.7/dist-packages/pandas/core/indexing.py:1732: SettingWithCopyWarning: \n",
            "A value is trying to be set on a copy of a slice from a DataFrame\n",
            "\n",
            "See the caveats in the documentation: https://pandas.pydata.org/pandas-docs/stable/user_guide/indexing.html#returning-a-view-versus-a-copy\n",
            "  self._setitem_single_block(indexer, value, name)\n"
          ]
        }
      ]
    },
    {
      "cell_type": "code",
      "source": [
        "df.head(1)"
      ],
      "metadata": {
        "colab": {
          "base_uri": "https://localhost:8080/",
          "height": 261
        },
        "id": "14d-TImjJRzV",
        "outputId": "13c913c0-ba8d-4597-f749-1d07bb97225a"
      },
      "execution_count": 267,
      "outputs": [
        {
          "output_type": "execute_result",
          "data": {
            "text/plain": [
              "                                                  chat  message_id  \\\n",
              "276  {\\n    \"_\": \"Chat\",\\n    \"id\": -1001291755040,...         536   \n",
              "\n",
              "                   date                                               text  \\\n",
              "276 2021-10-14 13:47:31  \"#вакансия #web #webanalyst \\n\\nВакансия: Web ...   \n",
              "\n",
              "                                              entities        chat_id  \\\n",
              "276  [\\n    {\\n        \"_\": \"MessageEntity\",\\n     ... -1001291755040   \n",
              "\n",
              "                                title     ds    da     de  ... Scikit-learn  \\\n",
              "276  Business Intelligence HeadHunter  False  True  False  ...        False   \n",
              "\n",
              "     SciPy  year month day                                         clean_text  \\\n",
              "276  False  2021    10  14  \"#вакансия #web #webanalyst \\n\\nВакансия: Web ...   \n",
              "\n",
              "     forks  Salary_from  Salary_to  cur  \n",
              "276     []            0          0  Rub  \n",
              "\n",
              "[1 rows x 49 columns]"
            ],
            "text/html": [
              "\n",
              "  <div id=\"df-6ce43e3c-e68f-4df4-8f20-fa54f7d1c394\">\n",
              "    <div class=\"colab-df-container\">\n",
              "      <div>\n",
              "<style scoped>\n",
              "    .dataframe tbody tr th:only-of-type {\n",
              "        vertical-align: middle;\n",
              "    }\n",
              "\n",
              "    .dataframe tbody tr th {\n",
              "        vertical-align: top;\n",
              "    }\n",
              "\n",
              "    .dataframe thead th {\n",
              "        text-align: right;\n",
              "    }\n",
              "</style>\n",
              "<table border=\"1\" class=\"dataframe\">\n",
              "  <thead>\n",
              "    <tr style=\"text-align: right;\">\n",
              "      <th></th>\n",
              "      <th>chat</th>\n",
              "      <th>message_id</th>\n",
              "      <th>date</th>\n",
              "      <th>text</th>\n",
              "      <th>entities</th>\n",
              "      <th>chat_id</th>\n",
              "      <th>title</th>\n",
              "      <th>ds</th>\n",
              "      <th>da</th>\n",
              "      <th>de</th>\n",
              "      <th>...</th>\n",
              "      <th>Scikit-learn</th>\n",
              "      <th>SciPy</th>\n",
              "      <th>year</th>\n",
              "      <th>month</th>\n",
              "      <th>day</th>\n",
              "      <th>clean_text</th>\n",
              "      <th>forks</th>\n",
              "      <th>Salary_from</th>\n",
              "      <th>Salary_to</th>\n",
              "      <th>cur</th>\n",
              "    </tr>\n",
              "  </thead>\n",
              "  <tbody>\n",
              "    <tr>\n",
              "      <th>276</th>\n",
              "      <td>{\\n    \"_\": \"Chat\",\\n    \"id\": -1001291755040,...</td>\n",
              "      <td>536</td>\n",
              "      <td>2021-10-14 13:47:31</td>\n",
              "      <td>\"#вакансия #web #webanalyst \\n\\nВакансия: Web ...</td>\n",
              "      <td>[\\n    {\\n        \"_\": \"MessageEntity\",\\n     ...</td>\n",
              "      <td>-1001291755040</td>\n",
              "      <td>Business Intelligence HeadHunter</td>\n",
              "      <td>False</td>\n",
              "      <td>True</td>\n",
              "      <td>False</td>\n",
              "      <td>...</td>\n",
              "      <td>False</td>\n",
              "      <td>False</td>\n",
              "      <td>2021</td>\n",
              "      <td>10</td>\n",
              "      <td>14</td>\n",
              "      <td>\"#вакансия #web #webanalyst \\n\\nВакансия: Web ...</td>\n",
              "      <td>[]</td>\n",
              "      <td>0</td>\n",
              "      <td>0</td>\n",
              "      <td>Rub</td>\n",
              "    </tr>\n",
              "  </tbody>\n",
              "</table>\n",
              "<p>1 rows × 49 columns</p>\n",
              "</div>\n",
              "      <button class=\"colab-df-convert\" onclick=\"convertToInteractive('df-6ce43e3c-e68f-4df4-8f20-fa54f7d1c394')\"\n",
              "              title=\"Convert this dataframe to an interactive table.\"\n",
              "              style=\"display:none;\">\n",
              "        \n",
              "  <svg xmlns=\"http://www.w3.org/2000/svg\" height=\"24px\"viewBox=\"0 0 24 24\"\n",
              "       width=\"24px\">\n",
              "    <path d=\"M0 0h24v24H0V0z\" fill=\"none\"/>\n",
              "    <path d=\"M18.56 5.44l.94 2.06.94-2.06 2.06-.94-2.06-.94-.94-2.06-.94 2.06-2.06.94zm-11 1L8.5 8.5l.94-2.06 2.06-.94-2.06-.94L8.5 2.5l-.94 2.06-2.06.94zm10 10l.94 2.06.94-2.06 2.06-.94-2.06-.94-.94-2.06-.94 2.06-2.06.94z\"/><path d=\"M17.41 7.96l-1.37-1.37c-.4-.4-.92-.59-1.43-.59-.52 0-1.04.2-1.43.59L10.3 9.45l-7.72 7.72c-.78.78-.78 2.05 0 2.83L4 21.41c.39.39.9.59 1.41.59.51 0 1.02-.2 1.41-.59l7.78-7.78 2.81-2.81c.8-.78.8-2.07 0-2.86zM5.41 20L4 18.59l7.72-7.72 1.47 1.35L5.41 20z\"/>\n",
              "  </svg>\n",
              "      </button>\n",
              "      \n",
              "  <style>\n",
              "    .colab-df-container {\n",
              "      display:flex;\n",
              "      flex-wrap:wrap;\n",
              "      gap: 12px;\n",
              "    }\n",
              "\n",
              "    .colab-df-convert {\n",
              "      background-color: #E8F0FE;\n",
              "      border: none;\n",
              "      border-radius: 50%;\n",
              "      cursor: pointer;\n",
              "      display: none;\n",
              "      fill: #1967D2;\n",
              "      height: 32px;\n",
              "      padding: 0 0 0 0;\n",
              "      width: 32px;\n",
              "    }\n",
              "\n",
              "    .colab-df-convert:hover {\n",
              "      background-color: #E2EBFA;\n",
              "      box-shadow: 0px 1px 2px rgba(60, 64, 67, 0.3), 0px 1px 3px 1px rgba(60, 64, 67, 0.15);\n",
              "      fill: #174EA6;\n",
              "    }\n",
              "\n",
              "    [theme=dark] .colab-df-convert {\n",
              "      background-color: #3B4455;\n",
              "      fill: #D2E3FC;\n",
              "    }\n",
              "\n",
              "    [theme=dark] .colab-df-convert:hover {\n",
              "      background-color: #434B5C;\n",
              "      box-shadow: 0px 1px 3px 1px rgba(0, 0, 0, 0.15);\n",
              "      filter: drop-shadow(0px 1px 2px rgba(0, 0, 0, 0.3));\n",
              "      fill: #FFFFFF;\n",
              "    }\n",
              "  </style>\n",
              "\n",
              "      <script>\n",
              "        const buttonEl =\n",
              "          document.querySelector('#df-6ce43e3c-e68f-4df4-8f20-fa54f7d1c394 button.colab-df-convert');\n",
              "        buttonEl.style.display =\n",
              "          google.colab.kernel.accessAllowed ? 'block' : 'none';\n",
              "\n",
              "        async function convertToInteractive(key) {\n",
              "          const element = document.querySelector('#df-6ce43e3c-e68f-4df4-8f20-fa54f7d1c394');\n",
              "          const dataTable =\n",
              "            await google.colab.kernel.invokeFunction('convertToInteractive',\n",
              "                                                     [key], {});\n",
              "          if (!dataTable) return;\n",
              "\n",
              "          const docLinkHtml = 'Like what you see? Visit the ' +\n",
              "            '<a target=\"_blank\" href=https://colab.research.google.com/notebooks/data_table.ipynb>data table notebook</a>'\n",
              "            + ' to learn more about interactive tables.';\n",
              "          element.innerHTML = '';\n",
              "          dataTable['output_type'] = 'display_data';\n",
              "          await google.colab.output.renderOutput(dataTable, element);\n",
              "          const docLink = document.createElement('div');\n",
              "          docLink.innerHTML = docLinkHtml;\n",
              "          element.appendChild(docLink);\n",
              "        }\n",
              "      </script>\n",
              "    </div>\n",
              "  </div>\n",
              "  "
            ]
          },
          "metadata": {},
          "execution_count": 267
        }
      ]
    },
    {
      "cell_type": "markdown",
      "source": [
        "Добавим валюту и признак net или гросс\n",
        "Пересчитаем зарплаты в рублях в net"
      ],
      "metadata": {
        "id": "rLFlqrFuFNWv"
      }
    },
    {
      "cell_type": "code",
      "source": [
        "#currency = {\n",
        "    #'Usd': ['usd', '\\$', 'dollar', 'доллар', 'бакс'],\n",
        "    #'Euro': ['eur', '€', 'евро'],      \n",
        "    #}\n",
        "\n",
        "#tax = {\n",
        "    #'Gross': ['gros', 'грос', 'до налог', 'до вычет'],\n",
        "    #'Net': ['net', 'после налог', 'после вычет', 'на руки', 'чисты']\n",
        "   # }\n",
        "\n",
        "# Если много английских букв или вилка меньше 15 считаем что вакансия в долларах, иначе в рублях\n",
        "#df['cur'] = 'Rub'\n",
        "#df.loc[df.clean_text.str.count('a') > df.clean_text.str.count('а'), 'cur'] = 'Usd'\n",
        "#df.loc[df.forks.str[0].str[0] < 15, 'cur'] = 'Usd' \n",
        "\n",
        "# Если встречается упминание валюты меняем выбор на нее\n",
        "#for key, value in currency.items():\n",
        "    #for pat in value:\n",
        "        #df.loc[df.clean_text.str.contains(pat), 'cur'] = key\n",
        "\n",
        "# Считаем что по умолчанию все вилки в рублях публикуются в net, в других валютах gross\n",
        "#df['tax'] = 'Net'\n",
        "#df.loc[df.cur != 'Rub', 'tax'] = 'Gross'\n",
        "\n",
        "# Если налогооблажение указано в явном виде меняем выбор\n",
        "#for key, value in tax.items():\n",
        "    #for pat in value:\n",
        "        #df.loc[df.clean_text.str.contains(pat), 'tax'] = key"
      ],
      "metadata": {
        "id": "LmLi-pdBFOGe"
      },
      "execution_count": 271,
      "outputs": []
    },
    {
      "cell_type": "markdown",
      "source": [],
      "metadata": {
        "id": "G3m9j2UMJkqb"
      }
    },
    {
      "cell_type": "markdown",
      "source": [
        "### Попробуем достать города релокации\n",
        "\n",
        "попроблуем через query сделать выборку и посмотрть через токенизацию. "
      ],
      "metadata": {
        "id": "fSm80V1PJkxy"
      }
    },
    {
      "cell_type": "code",
      "source": [
        "df['city'].unique()"
      ],
      "metadata": {
        "colab": {
          "base_uri": "https://localhost:8080/"
        },
        "id": "DU_WKPCgKpfU",
        "outputId": "76e63615-5fd8-46eb-a9d1-ff197d51a0d2"
      },
      "execution_count": 272,
      "outputs": [
        {
          "output_type": "execute_result",
          "data": {
            "text/plain": [
              "array(['not_defined', 'Moscow', 'relocation', 'Spb', 'Kazan',\n",
              "       'Ekatirinburg', 'Novosibirsk'], dtype=object)"
            ]
          },
          "metadata": {},
          "execution_count": 272
        }
      ]
    },
    {
      "cell_type": "code",
      "source": [
        "reloc = df.query('city == \"relocation\"')"
      ],
      "metadata": {
        "id": "hV99YrNzKlIO"
      },
      "execution_count": 273,
      "outputs": []
    },
    {
      "cell_type": "code",
      "source": [
        "tokenized = reloc['blocks'].apply(nltk.word_tokenize)\n",
        "tokenized.explode()\n",
        "stem = nltk.stem.snowball.RussianStemmer()\n",
        "all_words = tokenized.explode().apply(stem.stem)\n",
        "all_words_st = str(all_words)\n"
      ],
      "metadata": {
        "id": "o2x-WFClLD37"
      },
      "execution_count": 274,
      "outputs": []
    },
    {
      "cell_type": "code",
      "source": [
        "words_df = all_words.to_frame().reset_index()\n"
      ],
      "metadata": {
        "id": "HDZ0wMdrLmvN"
      },
      "execution_count": 275,
      "outputs": []
    },
    {
      "cell_type": "code",
      "source": [
        "words_df"
      ],
      "metadata": {
        "colab": {
          "base_uri": "https://localhost:8080/",
          "height": 0
        },
        "id": "_B5tDmJ4LpSl",
        "outputId": "aa89a01e-c740-4163-9e15-4221abfb7e55"
      },
      "execution_count": 276,
      "outputs": [
        {
          "output_type": "execute_result",
          "data": {
            "text/plain": [
              "      index        blocks\n",
              "0       732        berlin\n",
              "1       732       релокац\n",
              "2       732       bigdata\n",
              "3       732  dataengineer\n",
              "4      1911          java\n",
              "...     ...           ...\n",
              "1318   1839      helsinki\n",
              "1319   1839       finland\n",
              "1320   1404     📍лоcатион\n",
              "1321   1404        tallin\n",
              "1322   1404       estonia\n",
              "\n",
              "[1323 rows x 2 columns]"
            ],
            "text/html": [
              "\n",
              "  <div id=\"df-9bf095de-110a-4a2f-805c-5241b039caa6\">\n",
              "    <div class=\"colab-df-container\">\n",
              "      <div>\n",
              "<style scoped>\n",
              "    .dataframe tbody tr th:only-of-type {\n",
              "        vertical-align: middle;\n",
              "    }\n",
              "\n",
              "    .dataframe tbody tr th {\n",
              "        vertical-align: top;\n",
              "    }\n",
              "\n",
              "    .dataframe thead th {\n",
              "        text-align: right;\n",
              "    }\n",
              "</style>\n",
              "<table border=\"1\" class=\"dataframe\">\n",
              "  <thead>\n",
              "    <tr style=\"text-align: right;\">\n",
              "      <th></th>\n",
              "      <th>index</th>\n",
              "      <th>blocks</th>\n",
              "    </tr>\n",
              "  </thead>\n",
              "  <tbody>\n",
              "    <tr>\n",
              "      <th>0</th>\n",
              "      <td>732</td>\n",
              "      <td>berlin</td>\n",
              "    </tr>\n",
              "    <tr>\n",
              "      <th>1</th>\n",
              "      <td>732</td>\n",
              "      <td>релокац</td>\n",
              "    </tr>\n",
              "    <tr>\n",
              "      <th>2</th>\n",
              "      <td>732</td>\n",
              "      <td>bigdata</td>\n",
              "    </tr>\n",
              "    <tr>\n",
              "      <th>3</th>\n",
              "      <td>732</td>\n",
              "      <td>dataengineer</td>\n",
              "    </tr>\n",
              "    <tr>\n",
              "      <th>4</th>\n",
              "      <td>1911</td>\n",
              "      <td>java</td>\n",
              "    </tr>\n",
              "    <tr>\n",
              "      <th>...</th>\n",
              "      <td>...</td>\n",
              "      <td>...</td>\n",
              "    </tr>\n",
              "    <tr>\n",
              "      <th>1318</th>\n",
              "      <td>1839</td>\n",
              "      <td>helsinki</td>\n",
              "    </tr>\n",
              "    <tr>\n",
              "      <th>1319</th>\n",
              "      <td>1839</td>\n",
              "      <td>finland</td>\n",
              "    </tr>\n",
              "    <tr>\n",
              "      <th>1320</th>\n",
              "      <td>1404</td>\n",
              "      <td>📍лоcатион</td>\n",
              "    </tr>\n",
              "    <tr>\n",
              "      <th>1321</th>\n",
              "      <td>1404</td>\n",
              "      <td>tallin</td>\n",
              "    </tr>\n",
              "    <tr>\n",
              "      <th>1322</th>\n",
              "      <td>1404</td>\n",
              "      <td>estonia</td>\n",
              "    </tr>\n",
              "  </tbody>\n",
              "</table>\n",
              "<p>1323 rows × 2 columns</p>\n",
              "</div>\n",
              "      <button class=\"colab-df-convert\" onclick=\"convertToInteractive('df-9bf095de-110a-4a2f-805c-5241b039caa6')\"\n",
              "              title=\"Convert this dataframe to an interactive table.\"\n",
              "              style=\"display:none;\">\n",
              "        \n",
              "  <svg xmlns=\"http://www.w3.org/2000/svg\" height=\"24px\"viewBox=\"0 0 24 24\"\n",
              "       width=\"24px\">\n",
              "    <path d=\"M0 0h24v24H0V0z\" fill=\"none\"/>\n",
              "    <path d=\"M18.56 5.44l.94 2.06.94-2.06 2.06-.94-2.06-.94-.94-2.06-.94 2.06-2.06.94zm-11 1L8.5 8.5l.94-2.06 2.06-.94-2.06-.94L8.5 2.5l-.94 2.06-2.06.94zm10 10l.94 2.06.94-2.06 2.06-.94-2.06-.94-.94-2.06-.94 2.06-2.06.94z\"/><path d=\"M17.41 7.96l-1.37-1.37c-.4-.4-.92-.59-1.43-.59-.52 0-1.04.2-1.43.59L10.3 9.45l-7.72 7.72c-.78.78-.78 2.05 0 2.83L4 21.41c.39.39.9.59 1.41.59.51 0 1.02-.2 1.41-.59l7.78-7.78 2.81-2.81c.8-.78.8-2.07 0-2.86zM5.41 20L4 18.59l7.72-7.72 1.47 1.35L5.41 20z\"/>\n",
              "  </svg>\n",
              "      </button>\n",
              "      \n",
              "  <style>\n",
              "    .colab-df-container {\n",
              "      display:flex;\n",
              "      flex-wrap:wrap;\n",
              "      gap: 12px;\n",
              "    }\n",
              "\n",
              "    .colab-df-convert {\n",
              "      background-color: #E8F0FE;\n",
              "      border: none;\n",
              "      border-radius: 50%;\n",
              "      cursor: pointer;\n",
              "      display: none;\n",
              "      fill: #1967D2;\n",
              "      height: 32px;\n",
              "      padding: 0 0 0 0;\n",
              "      width: 32px;\n",
              "    }\n",
              "\n",
              "    .colab-df-convert:hover {\n",
              "      background-color: #E2EBFA;\n",
              "      box-shadow: 0px 1px 2px rgba(60, 64, 67, 0.3), 0px 1px 3px 1px rgba(60, 64, 67, 0.15);\n",
              "      fill: #174EA6;\n",
              "    }\n",
              "\n",
              "    [theme=dark] .colab-df-convert {\n",
              "      background-color: #3B4455;\n",
              "      fill: #D2E3FC;\n",
              "    }\n",
              "\n",
              "    [theme=dark] .colab-df-convert:hover {\n",
              "      background-color: #434B5C;\n",
              "      box-shadow: 0px 1px 3px 1px rgba(0, 0, 0, 0.15);\n",
              "      filter: drop-shadow(0px 1px 2px rgba(0, 0, 0, 0.3));\n",
              "      fill: #FFFFFF;\n",
              "    }\n",
              "  </style>\n",
              "\n",
              "      <script>\n",
              "        const buttonEl =\n",
              "          document.querySelector('#df-9bf095de-110a-4a2f-805c-5241b039caa6 button.colab-df-convert');\n",
              "        buttonEl.style.display =\n",
              "          google.colab.kernel.accessAllowed ? 'block' : 'none';\n",
              "\n",
              "        async function convertToInteractive(key) {\n",
              "          const element = document.querySelector('#df-9bf095de-110a-4a2f-805c-5241b039caa6');\n",
              "          const dataTable =\n",
              "            await google.colab.kernel.invokeFunction('convertToInteractive',\n",
              "                                                     [key], {});\n",
              "          if (!dataTable) return;\n",
              "\n",
              "          const docLinkHtml = 'Like what you see? Visit the ' +\n",
              "            '<a target=\"_blank\" href=https://colab.research.google.com/notebooks/data_table.ipynb>data table notebook</a>'\n",
              "            + ' to learn more about interactive tables.';\n",
              "          element.innerHTML = '';\n",
              "          dataTable['output_type'] = 'display_data';\n",
              "          await google.colab.output.renderOutput(dataTable, element);\n",
              "          const docLink = document.createElement('div');\n",
              "          docLink.innerHTML = docLinkHtml;\n",
              "          element.appendChild(docLink);\n",
              "        }\n",
              "      </script>\n",
              "    </div>\n",
              "  </div>\n",
              "  "
            ]
          },
          "metadata": {},
          "execution_count": 276
        }
      ]
    },
    {
      "cell_type": "code",
      "source": [
        "temple = words_df.pivot_table(\n",
        "    index = 'blocks',\n",
        "    values = 'index',\n",
        "    aggfunc = 'count'\n",
        ").sort_values(by='index', ascending = False)"
      ],
      "metadata": {
        "id": "3KE17656Lp5G"
      },
      "execution_count": 277,
      "outputs": []
    },
    {
      "cell_type": "code",
      "source": [],
      "metadata": {
        "id": "2fjcnydeI-zw"
      },
      "execution_count": 277,
      "outputs": []
    },
    {
      "cell_type": "code",
      "source": [],
      "metadata": {
        "id": "3hER4LJ7I-rY"
      },
      "execution_count": 277,
      "outputs": []
    },
    {
      "cell_type": "code",
      "source": [
        "temple"
      ],
      "metadata": {
        "colab": {
          "base_uri": "https://localhost:8080/",
          "height": 0
        },
        "id": "Oj-yGO_iM6M2",
        "outputId": "39c2637a-58a3-4137-a8ab-433894b4256f"
      },
      "execution_count": 278,
      "outputs": [
        {
          "output_type": "execute_result",
          "data": {
            "text/plain": [
              "          index\n",
              "blocks         \n",
              "ваканс       87\n",
              "data         40\n",
              "в            35\n",
              "fulltime     29\n",
              "релокац      28\n",
              "...         ...\n",
              "буд           1\n",
              "бол           1\n",
              "ближн         1\n",
              "бизнес        1\n",
              "дублир        1\n",
              "\n",
              "[520 rows x 1 columns]"
            ],
            "text/html": [
              "\n",
              "  <div id=\"df-e762bc8d-bf18-4e74-8c93-bdadf8d8faca\">\n",
              "    <div class=\"colab-df-container\">\n",
              "      <div>\n",
              "<style scoped>\n",
              "    .dataframe tbody tr th:only-of-type {\n",
              "        vertical-align: middle;\n",
              "    }\n",
              "\n",
              "    .dataframe tbody tr th {\n",
              "        vertical-align: top;\n",
              "    }\n",
              "\n",
              "    .dataframe thead th {\n",
              "        text-align: right;\n",
              "    }\n",
              "</style>\n",
              "<table border=\"1\" class=\"dataframe\">\n",
              "  <thead>\n",
              "    <tr style=\"text-align: right;\">\n",
              "      <th></th>\n",
              "      <th>index</th>\n",
              "    </tr>\n",
              "    <tr>\n",
              "      <th>blocks</th>\n",
              "      <th></th>\n",
              "    </tr>\n",
              "  </thead>\n",
              "  <tbody>\n",
              "    <tr>\n",
              "      <th>ваканс</th>\n",
              "      <td>87</td>\n",
              "    </tr>\n",
              "    <tr>\n",
              "      <th>data</th>\n",
              "      <td>40</td>\n",
              "    </tr>\n",
              "    <tr>\n",
              "      <th>в</th>\n",
              "      <td>35</td>\n",
              "    </tr>\n",
              "    <tr>\n",
              "      <th>fulltime</th>\n",
              "      <td>29</td>\n",
              "    </tr>\n",
              "    <tr>\n",
              "      <th>релокац</th>\n",
              "      <td>28</td>\n",
              "    </tr>\n",
              "    <tr>\n",
              "      <th>...</th>\n",
              "      <td>...</td>\n",
              "    </tr>\n",
              "    <tr>\n",
              "      <th>буд</th>\n",
              "      <td>1</td>\n",
              "    </tr>\n",
              "    <tr>\n",
              "      <th>бол</th>\n",
              "      <td>1</td>\n",
              "    </tr>\n",
              "    <tr>\n",
              "      <th>ближн</th>\n",
              "      <td>1</td>\n",
              "    </tr>\n",
              "    <tr>\n",
              "      <th>бизнес</th>\n",
              "      <td>1</td>\n",
              "    </tr>\n",
              "    <tr>\n",
              "      <th>дублир</th>\n",
              "      <td>1</td>\n",
              "    </tr>\n",
              "  </tbody>\n",
              "</table>\n",
              "<p>520 rows × 1 columns</p>\n",
              "</div>\n",
              "      <button class=\"colab-df-convert\" onclick=\"convertToInteractive('df-e762bc8d-bf18-4e74-8c93-bdadf8d8faca')\"\n",
              "              title=\"Convert this dataframe to an interactive table.\"\n",
              "              style=\"display:none;\">\n",
              "        \n",
              "  <svg xmlns=\"http://www.w3.org/2000/svg\" height=\"24px\"viewBox=\"0 0 24 24\"\n",
              "       width=\"24px\">\n",
              "    <path d=\"M0 0h24v24H0V0z\" fill=\"none\"/>\n",
              "    <path d=\"M18.56 5.44l.94 2.06.94-2.06 2.06-.94-2.06-.94-.94-2.06-.94 2.06-2.06.94zm-11 1L8.5 8.5l.94-2.06 2.06-.94-2.06-.94L8.5 2.5l-.94 2.06-2.06.94zm10 10l.94 2.06.94-2.06 2.06-.94-2.06-.94-.94-2.06-.94 2.06-2.06.94z\"/><path d=\"M17.41 7.96l-1.37-1.37c-.4-.4-.92-.59-1.43-.59-.52 0-1.04.2-1.43.59L10.3 9.45l-7.72 7.72c-.78.78-.78 2.05 0 2.83L4 21.41c.39.39.9.59 1.41.59.51 0 1.02-.2 1.41-.59l7.78-7.78 2.81-2.81c.8-.78.8-2.07 0-2.86zM5.41 20L4 18.59l7.72-7.72 1.47 1.35L5.41 20z\"/>\n",
              "  </svg>\n",
              "      </button>\n",
              "      \n",
              "  <style>\n",
              "    .colab-df-container {\n",
              "      display:flex;\n",
              "      flex-wrap:wrap;\n",
              "      gap: 12px;\n",
              "    }\n",
              "\n",
              "    .colab-df-convert {\n",
              "      background-color: #E8F0FE;\n",
              "      border: none;\n",
              "      border-radius: 50%;\n",
              "      cursor: pointer;\n",
              "      display: none;\n",
              "      fill: #1967D2;\n",
              "      height: 32px;\n",
              "      padding: 0 0 0 0;\n",
              "      width: 32px;\n",
              "    }\n",
              "\n",
              "    .colab-df-convert:hover {\n",
              "      background-color: #E2EBFA;\n",
              "      box-shadow: 0px 1px 2px rgba(60, 64, 67, 0.3), 0px 1px 3px 1px rgba(60, 64, 67, 0.15);\n",
              "      fill: #174EA6;\n",
              "    }\n",
              "\n",
              "    [theme=dark] .colab-df-convert {\n",
              "      background-color: #3B4455;\n",
              "      fill: #D2E3FC;\n",
              "    }\n",
              "\n",
              "    [theme=dark] .colab-df-convert:hover {\n",
              "      background-color: #434B5C;\n",
              "      box-shadow: 0px 1px 3px 1px rgba(0, 0, 0, 0.15);\n",
              "      filter: drop-shadow(0px 1px 2px rgba(0, 0, 0, 0.3));\n",
              "      fill: #FFFFFF;\n",
              "    }\n",
              "  </style>\n",
              "\n",
              "      <script>\n",
              "        const buttonEl =\n",
              "          document.querySelector('#df-e762bc8d-bf18-4e74-8c93-bdadf8d8faca button.colab-df-convert');\n",
              "        buttonEl.style.display =\n",
              "          google.colab.kernel.accessAllowed ? 'block' : 'none';\n",
              "\n",
              "        async function convertToInteractive(key) {\n",
              "          const element = document.querySelector('#df-e762bc8d-bf18-4e74-8c93-bdadf8d8faca');\n",
              "          const dataTable =\n",
              "            await google.colab.kernel.invokeFunction('convertToInteractive',\n",
              "                                                     [key], {});\n",
              "          if (!dataTable) return;\n",
              "\n",
              "          const docLinkHtml = 'Like what you see? Visit the ' +\n",
              "            '<a target=\"_blank\" href=https://colab.research.google.com/notebooks/data_table.ipynb>data table notebook</a>'\n",
              "            + ' to learn more about interactive tables.';\n",
              "          element.innerHTML = '';\n",
              "          dataTable['output_type'] = 'display_data';\n",
              "          await google.colab.output.renderOutput(dataTable, element);\n",
              "          const docLink = document.createElement('div');\n",
              "          docLink.innerHTML = docLinkHtml;\n",
              "          element.appendChild(docLink);\n",
              "        }\n",
              "      </script>\n",
              "    </div>\n",
              "  </div>\n",
              "  "
            ]
          },
          "metadata": {},
          "execution_count": 278
        }
      ]
    },
    {
      "cell_type": "markdown",
      "source": [
        "Исходя из анализа таблицы можно выделить вот такие города и старны релокации: \n",
        "\n",
        "\n",
        "\n",
        "*   кипр\n",
        "*  cyprus\n",
        "*  воронеж\n",
        "*  tallin\n",
        "*  finland\n",
        "*  helsink\n",
        "*  eston\n",
        "*  берлин\n",
        "*  адлер\n",
        "*  воронеж\n",
        "\n",
        "Напишем регулярки для  зарубежных стран этих строк и сделаем колонку с городом релокации"
      ],
      "metadata": {
        "id": "XOMwHBqXNrjH"
      }
    },
    {
      "cell_type": "code",
      "source": [
        "cyprus = r'cyprus|кипр'\n",
        "estonia = r'eston|tallin'\n",
        "finland = r'finland|helsink'\n",
        "germania   = r'берлин'\n"
      ],
      "metadata": {
        "id": "Bg8HGcb5OA5N"
      },
      "execution_count": 279,
      "outputs": []
    },
    {
      "cell_type": "code",
      "source": [
        "df['cyprus'] = df['blocks'].apply(lambda x: True if re.search(cyprus, x.lower()) else False)\n",
        "df['estonia'] = df['blocks'].apply(lambda x: True if re.search(estonia, x.lower()) else False)\n",
        "df['finland'] = df['blocks'].apply(lambda x: True if re.search(finland, x.lower()) else False)\n",
        "df['germania'] = df['blocks'].apply(lambda x: True if re.search(germania, x.lower()) else False)\n"
      ],
      "metadata": {
        "id": "SqHmgmVNPNsJ"
      },
      "execution_count": 280,
      "outputs": []
    },
    {
      "cell_type": "code",
      "source": [
        "# Соберем все страны релокации  в одну колонку\n",
        "\n",
        "df['country_relocation'] = \"\"\n",
        "df['country_relocation'].astype('str')\n",
        "\n",
        "for index, row in df.iterrows():\n",
        "  if df['cyprus'][index] == True:\n",
        "    df['country_relocation'][index] = 'cyprus'\n",
        "  elif df['estonia'][index] == True:\n",
        "    df['country_relocation'][index] = 'estonia'\n",
        "  elif df['finland'][index] == True:\n",
        "    df['country_relocation'][index] = 'finland'\n",
        "  elif df['germania'][index] == True:\n",
        "    df['country_relocation'][index] = 'germania'\n",
        "  else:\n",
        "    df['country_relocation'][index] = 'not_defined'"
      ],
      "metadata": {
        "colab": {
          "base_uri": "https://localhost:8080/"
        },
        "id": "Crrhm8tiPbqY",
        "outputId": "ffb6d65a-b5b2-4b73-a3d9-0a322373e10d"
      },
      "execution_count": 281,
      "outputs": [
        {
          "output_type": "stream",
          "name": "stderr",
          "text": [
            "/usr/local/lib/python3.7/dist-packages/ipykernel_launcher.py:16: SettingWithCopyWarning: \n",
            "A value is trying to be set on a copy of a slice from a DataFrame\n",
            "\n",
            "See the caveats in the documentation: https://pandas.pydata.org/pandas-docs/stable/user_guide/indexing.html#returning-a-view-versus-a-copy\n",
            "  app.launch_new_instance()\n",
            "/usr/local/lib/python3.7/dist-packages/ipykernel_launcher.py:8: SettingWithCopyWarning: \n",
            "A value is trying to be set on a copy of a slice from a DataFrame\n",
            "\n",
            "See the caveats in the documentation: https://pandas.pydata.org/pandas-docs/stable/user_guide/indexing.html#returning-a-view-versus-a-copy\n",
            "  \n",
            "/usr/local/lib/python3.7/dist-packages/ipykernel_launcher.py:12: SettingWithCopyWarning: \n",
            "A value is trying to be set on a copy of a slice from a DataFrame\n",
            "\n",
            "See the caveats in the documentation: https://pandas.pydata.org/pandas-docs/stable/user_guide/indexing.html#returning-a-view-versus-a-copy\n",
            "  if sys.path[0] == '':\n",
            "/usr/local/lib/python3.7/dist-packages/ipykernel_launcher.py:10: SettingWithCopyWarning: \n",
            "A value is trying to be set on a copy of a slice from a DataFrame\n",
            "\n",
            "See the caveats in the documentation: https://pandas.pydata.org/pandas-docs/stable/user_guide/indexing.html#returning-a-view-versus-a-copy\n",
            "  # Remove the CWD from sys.path while we load stuff.\n",
            "/usr/local/lib/python3.7/dist-packages/ipykernel_launcher.py:14: SettingWithCopyWarning: \n",
            "A value is trying to be set on a copy of a slice from a DataFrame\n",
            "\n",
            "See the caveats in the documentation: https://pandas.pydata.org/pandas-docs/stable/user_guide/indexing.html#returning-a-view-versus-a-copy\n",
            "  \n"
          ]
        }
      ]
    },
    {
      "cell_type": "code",
      "source": [
        "df.groupby('country_relocation')['city'].count()"
      ],
      "metadata": {
        "colab": {
          "base_uri": "https://localhost:8080/"
        },
        "id": "raVEhb9uQPxj",
        "outputId": "cd8c3d02-8043-4600-d29d-315f6786929e"
      },
      "execution_count": 282,
      "outputs": [
        {
          "output_type": "execute_result",
          "data": {
            "text/plain": [
              "country_relocation\n",
              "cyprus           13\n",
              "estonia           7\n",
              "finland           7\n",
              "germania          3\n",
              "not_defined    3857\n",
              "Name: city, dtype: int64"
            ]
          },
          "metadata": {},
          "execution_count": 282
        }
      ]
    },
    {
      "cell_type": "markdown",
      "source": [
        "# Выгрузка финального файла"
      ],
      "metadata": {
        "id": "0eUyrCZ3sSdc"
      }
    },
    {
      "cell_type": "code",
      "source": [
        "df_final = df"
      ],
      "metadata": {
        "id": "aB5bQef08CP8"
      },
      "execution_count": 285,
      "outputs": []
    },
    {
      "cell_type": "code",
      "source": [
        "df_final.columns"
      ],
      "metadata": {
        "colab": {
          "base_uri": "https://localhost:8080/"
        },
        "id": "sZR0pmJX8Lki",
        "outputId": "63f826f8-0e32-4b05-e080-0f7c23792114"
      },
      "execution_count": 286,
      "outputs": [
        {
          "output_type": "execute_result",
          "data": {
            "text/plain": [
              "Index(['chat', 'message_id', 'date', 'text', 'entities', 'chat_id', 'title',\n",
              "       'ds', 'da', 'de', 'url', 'grade', 'type_office', 'city', 'blocks',\n",
              "       'name_vacancy', 'TensorFlow', 'PyTorch', 'Keras', 'Python',\n",
              "       'Pandas/numpy', 'SQL', 'Scala', 'Java', 'Linux', 'JS', 'Git', 'Docker',\n",
              "       'Power BI', 'Tableau', 'Airflow', 'Spark', 'Hive', 'Hadoop', 'Kafka',\n",
              "       'Clickhouse', 'XGBoost', 'LightGBM', 'CatBoost', 'Scikit-learn',\n",
              "       'SciPy', 'year', 'month', 'day', 'clean_text', 'forks', 'Salary_from',\n",
              "       'Salary_to', 'cur', 'cyprus', 'estonia', 'finland', 'germania',\n",
              "       'country_relocation'],\n",
              "      dtype='object')"
            ]
          },
          "metadata": {},
          "execution_count": 286
        }
      ]
    },
    {
      "cell_type": "code",
      "source": [
        "df_final = df_final.drop(columns = [ 'clean_text', 'forks', 'cyprus', 'estonia', 'finland', 'germania', 'chat', 'entities', 'chat_id' ])"
      ],
      "metadata": {
        "id": "aKXvVsJd8Rwo"
      },
      "execution_count": 287,
      "outputs": []
    },
    {
      "cell_type": "markdown",
      "source": [
        "Поменяем типы данных bool на int "
      ],
      "metadata": {
        "id": "glVbc0OFYsr-"
      }
    },
    {
      "cell_type": "code",
      "source": [
        "df_final.info()"
      ],
      "metadata": {
        "colab": {
          "base_uri": "https://localhost:8080/"
        },
        "id": "zK3Gkegb9Kx-",
        "outputId": "0a73c474-c3c0-4c22-ed8c-64083c2d710c"
      },
      "execution_count": 290,
      "outputs": [
        {
          "output_type": "stream",
          "name": "stdout",
          "text": [
            "<class 'pandas.core.frame.DataFrame'>\n",
            "Int64Index: 3887 entries, 276 to 4531\n",
            "Data columns (total 45 columns):\n",
            " #   Column              Non-Null Count  Dtype         \n",
            "---  ------              --------------  -----         \n",
            " 0   message_id          3887 non-null   int64         \n",
            " 1   date                3887 non-null   datetime64[ns]\n",
            " 2   text                3887 non-null   object        \n",
            " 3   title               3887 non-null   object        \n",
            " 4   ds                  3887 non-null   bool          \n",
            " 5   da                  3887 non-null   bool          \n",
            " 6   de                  3887 non-null   bool          \n",
            " 7   url                 2059 non-null   object        \n",
            " 8   grade               3887 non-null   object        \n",
            " 9   type_office         3887 non-null   object        \n",
            " 10  city                3887 non-null   object        \n",
            " 11  blocks              3887 non-null   object        \n",
            " 12  name_vacancy        3887 non-null   object        \n",
            " 13  TensorFlow          3887 non-null   bool          \n",
            " 14  PyTorch             3887 non-null   bool          \n",
            " 15  Keras               3887 non-null   bool          \n",
            " 16  Python              3887 non-null   bool          \n",
            " 17  Pandas/numpy        3887 non-null   bool          \n",
            " 18  SQL                 3887 non-null   bool          \n",
            " 19  Scala               3887 non-null   bool          \n",
            " 20  Java                3887 non-null   bool          \n",
            " 21  Linux               3887 non-null   bool          \n",
            " 22  JS                  3887 non-null   bool          \n",
            " 23  Git                 3887 non-null   bool          \n",
            " 24  Docker              3887 non-null   bool          \n",
            " 25  Power BI            3887 non-null   bool          \n",
            " 26  Tableau             3887 non-null   bool          \n",
            " 27  Airflow             3887 non-null   bool          \n",
            " 28  Spark               3887 non-null   bool          \n",
            " 29  Hive                3887 non-null   bool          \n",
            " 30  Hadoop              3887 non-null   bool          \n",
            " 31  Kafka               3887 non-null   bool          \n",
            " 32  Clickhouse          3887 non-null   bool          \n",
            " 33  XGBoost             3887 non-null   bool          \n",
            " 34  LightGBM            3887 non-null   bool          \n",
            " 35  CatBoost            3887 non-null   bool          \n",
            " 36  Scikit-learn        3887 non-null   bool          \n",
            " 37  SciPy               3887 non-null   bool          \n",
            " 38  year                3887 non-null   int64         \n",
            " 39  month               3887 non-null   int64         \n",
            " 40  day                 3887 non-null   int64         \n",
            " 41  Salary_from         3887 non-null   object        \n",
            " 42  Salary_to           3887 non-null   object        \n",
            " 43  cur                 3887 non-null   object        \n",
            " 44  country_relocation  3887 non-null   object        \n",
            "dtypes: bool(28), datetime64[ns](1), int64(4), object(12)\n",
            "memory usage: 781.9+ KB\n"
          ]
        }
      ]
    },
    {
      "cell_type": "code",
      "source": [
        "df_final['Python']=df_final['Python'].astype(int)\n",
        "df_final['Pandas/numpy']=df['Pandas/numpy'].astype(int)\n",
        "df_final['SQL']=df_final['SQL'].astype(int)\n",
        "df_final['Git']=df_final['Git'].astype(int)\n",
        "df_final['Spark']=df_final['Spark'].astype(int)\n",
        "df_final['Hadoop']=df_final['Hadoop'].astype(int)\n",
        "df_final['TensorFlow']=df_final['TensorFlow'].astype(int)\n",
        "df_final['PyTorch']=df_final['PyTorch'].astype(int)\n",
        "df_final['Keras']=df_final['Keras'].astype(int)\n",
        "df_final['Scala']=df_final['Scala'].astype(int)\n",
        "df_final['Java']=df_final['Java'].astype(int)\n",
        "df_final['Linux']=df_final['Linux'].astype(int)\n",
        "df_final['JS']=df_final['JS'].astype(int)\n",
        "df_final['Power BI']=df_final['Power BI'].astype(int)\n",
        "df_final['Tableau']=df_final['Tableau'].astype(int)\n",
        "df_final['ds']=df_final['Tableau'].astype(int)\n",
        "df_final['de']=df_final['Tableau'].astype(int)\n",
        "df_final['Docker']=df_final['Tableau'].astype(int)\n",
        "df_final['Airflow']=df_final['Airflow'].astype(int)\n",
        "df_final['Hive']=df_final['Hive'].astype(int)\n",
        "\n",
        "df_final['Kafka']=df_final['Kafka'].astype(int)\n",
        "df_final['Clickhouse']=df_final['Clickhouse'].astype(int)\n",
        "df_final['XGBoost']=df_final['XGBoost'].astype(int)\n",
        "df_final['LightGBM']=df_final['LightGBM'].astype(int)\n",
        "df_final['CatBoost']=df_final['CatBoost'].astype(int)\n",
        "df_final['Scikit-learn']=df_final['Scikit-learn'].astype(int)\n",
        "df_final['SciPy']=df_final['SciPy'].astype(int)\n"
      ],
      "metadata": {
        "id": "3t9Ho1DNS8MV"
      },
      "execution_count": 291,
      "outputs": []
    },
    {
      "cell_type": "code",
      "source": [
        "\n",
        "df_final['Salary_from'] = df_final['Salary_from'].replace(r'\\s+','',regex=True)\n",
        "df_final['Salary_from'] = df_final['Salary_from'].replace({'4,500': '4.500' , '3,500': '3.500', '2,500': '2.500' \n",
        "                                                           ,'3,400': '3.400', '250,000': '250.000', '200,000': '200.000'\n",
        "                                                           , '2,000': '2.000' , '2,5': '2.5','3,5': '3.5', '1,4': '1.4'\n",
        "                                                            ,'3,000': '3.000','150,000': '150.000' })\n",
        "\n",
        "df_final['Salary_from']=df_final['Salary_from'].astype(float)\n"
      ],
      "metadata": {
        "id": "bERTyJFObKwl"
      },
      "execution_count": 292,
      "outputs": []
    },
    {
      "cell_type": "code",
      "source": [
        "df_final['Salary_from'].hist()"
      ],
      "metadata": {
        "colab": {
          "base_uri": "https://localhost:8080/",
          "height": 283
        },
        "id": "l-EqVEOpb9VQ",
        "outputId": "cdcc5d7f-569c-448e-ab29-0790d39d4b67"
      },
      "execution_count": 293,
      "outputs": [
        {
          "output_type": "execute_result",
          "data": {
            "text/plain": [
              "<matplotlib.axes._subplots.AxesSubplot at 0x7f7ff47d60d0>"
            ]
          },
          "metadata": {},
          "execution_count": 293
        },
        {
          "output_type": "display_data",
          "data": {
            "text/plain": [
              "<Figure size 432x288 with 1 Axes>"
            ],
            "image/png": "[encoded data removed]"
          },
          "metadata": {
            "needs_background": "light"
          }
        }
      ]
    },
    {
      "cell_type": "code",
      "source": [
        "\n",
        "df_final['Salary_to'] = df_final['Salary_to'].replace(r'\\s+','',regex=True)\n",
        "df_final['Salary_to'] = df_final['Salary_to'].replace({'4,500': '4.500' , '3,500': '3.500', '2,500': '2.500' \n",
        "                                                           ,'3,400': '3.400', '250,000': '250.000', '200,000': '200.000'\n",
        "                                                           , '2,000': '2.000' , '2,5': '2.5','3,5': '3.5', '1,4': '1.4'\n",
        "                                                            ,'3,000': '3.000','150,000': '150.000'\n",
        "                                                            , '7,000': '7.000', '3,200': '3.200', \"180\\'000\" : '180.000'\n",
        "                                                            , '300,000' : '300.000' ,'400,000' : '400.000','5,500': '5.500' \n",
        "                                                       , '1,000': '1.000' ,'4,4': '4.4', '1,500': '1.500', '1,6': '1.6' })\n",
        "\n",
        "df_final['Salary_to']=df_final['Salary_to'].astype(float)"
      ],
      "metadata": {
        "id": "cki0MZeMeU7G"
      },
      "execution_count": 294,
      "outputs": []
    },
    {
      "cell_type": "code",
      "source": [
        "\n",
        "df_final['Salary_to'] = df_final['Salary_to'].replace(r'\\s+','',regex=True)\n",
        "df_final['Salary_to'] = df_final['Salary_to'].replace({'4,500': '4.500' , '3,500': '3.500', '2,500': '2.500' \n",
        "                                                           ,'3,400': '3.400', '250,000': '250.000', '200,000': '200.000'\n",
        "                                                           , '2,000': '2.000' , '2,5': '2.5','3,5': '3.5', '1,4': '1.4'\n",
        "                                                            ,'3,000': '3.000','150,000': '150.000'\n",
        "                                                            , '7,000': '7.000', '3,200': '3.200', \"180\\'000\": '180.000' })\n",
        "\n"
      ],
      "metadata": {
        "id": "RPi4G5MBe0Fm"
      },
      "execution_count": 295,
      "outputs": []
    },
    {
      "cell_type": "code",
      "source": [
        "df_final['da'] = df_final['da'].astype(int)"
      ],
      "metadata": {
        "id": "avntYUw2C4Ie"
      },
      "execution_count": 296,
      "outputs": []
    },
    {
      "cell_type": "code",
      "source": [
        "df_final = df_final.drop(columns = [ 'text', 'blocks' ])"
      ],
      "metadata": {
        "id": "92M8frCnIeH6"
      },
      "execution_count": 297,
      "outputs": []
    },
    {
      "cell_type": "code",
      "source": [
        "df_final = df_final.drop(columns = [ 'url' ])"
      ],
      "metadata": {
        "id": "lSF51KO2J6Bf"
      },
      "execution_count": 298,
      "outputs": []
    },
    {
      "cell_type": "code",
      "source": [
        "df_final.info()"
      ],
      "metadata": {
        "colab": {
          "base_uri": "https://localhost:8080/"
        },
        "outputId": "d9993612-e79c-4a41-bf7a-478e973fde61",
        "id": "YBYSjhxH9uW1"
      },
      "execution_count": 299,
      "outputs": [
        {
          "output_type": "stream",
          "name": "stdout",
          "text": [
            "<class 'pandas.core.frame.DataFrame'>\n",
            "Int64Index: 3887 entries, 276 to 4531\n",
            "Data columns (total 42 columns):\n",
            " #   Column              Non-Null Count  Dtype         \n",
            "---  ------              --------------  -----         \n",
            " 0   message_id          3887 non-null   int64         \n",
            " 1   date                3887 non-null   datetime64[ns]\n",
            " 2   title               3887 non-null   object        \n",
            " 3   ds                  3887 non-null   int64         \n",
            " 4   da                  3887 non-null   int64         \n",
            " 5   de                  3887 non-null   int64         \n",
            " 6   grade               3887 non-null   object        \n",
            " 7   type_office         3887 non-null   object        \n",
            " 8   city                3887 non-null   object        \n",
            " 9   name_vacancy        3887 non-null   object        \n",
            " 10  TensorFlow          3887 non-null   int64         \n",
            " 11  PyTorch             3887 non-null   int64         \n",
            " 12  Keras               3887 non-null   int64         \n",
            " 13  Python              3887 non-null   int64         \n",
            " 14  Pandas/numpy        3887 non-null   int64         \n",
            " 15  SQL                 3887 non-null   int64         \n",
            " 16  Scala               3887 non-null   int64         \n",
            " 17  Java                3887 non-null   int64         \n",
            " 18  Linux               3887 non-null   int64         \n",
            " 19  JS                  3887 non-null   int64         \n",
            " 20  Git                 3887 non-null   int64         \n",
            " 21  Docker              3887 non-null   int64         \n",
            " 22  Power BI            3887 non-null   int64         \n",
            " 23  Tableau             3887 non-null   int64         \n",
            " 24  Airflow             3887 non-null   int64         \n",
            " 25  Spark               3887 non-null   int64         \n",
            " 26  Hive                3887 non-null   int64         \n",
            " 27  Hadoop              3887 non-null   int64         \n",
            " 28  Kafka               3887 non-null   int64         \n",
            " 29  Clickhouse          3887 non-null   int64         \n",
            " 30  XGBoost             3887 non-null   int64         \n",
            " 31  LightGBM            3887 non-null   int64         \n",
            " 32  CatBoost            3887 non-null   int64         \n",
            " 33  Scikit-learn        3887 non-null   int64         \n",
            " 34  SciPy               3887 non-null   int64         \n",
            " 35  year                3887 non-null   int64         \n",
            " 36  month               3887 non-null   int64         \n",
            " 37  day                 3887 non-null   int64         \n",
            " 38  Salary_from         3887 non-null   float64       \n",
            " 39  Salary_to           3887 non-null   float64       \n",
            " 40  cur                 3887 non-null   object        \n",
            " 41  country_relocation  3887 non-null   object        \n",
            "dtypes: datetime64[ns](1), float64(2), int64(32), object(7)\n",
            "memory usage: 1.4+ MB\n"
          ]
        }
      ]
    },
    {
      "cell_type": "code",
      "source": [
        "#df_final = df.drop(columns  = ['chat_id', 'url', 'parsed_text', 'text_copy', 'clean_text', 'salary_from'])"
      ],
      "metadata": {
        "id": "MsilaxJ8pwY_"
      },
      "execution_count": 300,
      "outputs": []
    },
    {
      "cell_type": "code",
      "source": [
        "df_final['da'].unique()"
      ],
      "metadata": {
        "colab": {
          "base_uri": "https://localhost:8080/"
        },
        "id": "VjlIoJfXRkzB",
        "outputId": "44db8948-81e0-44ce-9e4d-feef7e55706b"
      },
      "execution_count": 301,
      "outputs": [
        {
          "output_type": "execute_result",
          "data": {
            "text/plain": [
              "array([1, 0])"
            ]
          },
          "metadata": {},
          "execution_count": 301
        }
      ]
    },
    {
      "cell_type": "code",
      "source": [
        "# df_final['year'] = pd.to_datetime(df_final['year'])\n",
        "# df_final['month'] = pd.to_datetime(df_final['month'])\n",
        "# df_final['day'] = pd.to_datetime(df_final['day'])\n",
        "# df_final['time'] = df_final['month']\n",
        "df_final['year'] = df_final['date'].dt.year\n",
        "df_final['month'] = df_final['date'].dt.month\n",
        "df_final['day'] = df_final['date'].dt.day"
      ],
      "metadata": {
        "id": "LFS-2-U-DYxG"
      },
      "execution_count": 302,
      "outputs": []
    },
    {
      "cell_type": "code",
      "source": [
        "df_final['Salary_to'].hist()"
      ],
      "metadata": {
        "colab": {
          "base_uri": "https://localhost:8080/",
          "height": 283
        },
        "id": "JRHqOz40rpOY",
        "outputId": "3057878a-9e8c-4ebb-e5c6-7eb122698545"
      },
      "execution_count": 303,
      "outputs": [
        {
          "output_type": "execute_result",
          "data": {
            "text/plain": [
              "<matplotlib.axes._subplots.AxesSubplot at 0x7f7fef5b8b50>"
            ]
          },
          "metadata": {},
          "execution_count": 303
        },
        {
          "output_type": "display_data",
          "data": {
            "text/plain": [
              "<Figure size 432x288 with 1 Axes>"
            ],
            "image/png": "[encoded data removed]"
          },
          "metadata": {
            "needs_background": "light"
          }
        }
      ]
    },
    {
      "cell_type": "code",
      "source": [
        "df_final.pivot_table(\n",
        "    index='month',\n",
        "    values = ['Salary_to'],\n",
        "    aggfunc = 'mean'\n",
        ")"
      ],
      "metadata": {
        "colab": {
          "base_uri": "https://localhost:8080/",
          "height": 457
        },
        "id": "zP4Wh5M_KQlL",
        "outputId": "c8e62a56-3761-4302-f9c3-0c1937360aa0"
      },
      "execution_count": 304,
      "outputs": [
        {
          "output_type": "execute_result",
          "data": {
            "text/plain": [
              "          Salary_to\n",
              "month              \n",
              "1      17396.929526\n",
              "2      19715.975787\n",
              "3      17430.779566\n",
              "4      20064.375778\n",
              "5      32395.283721\n",
              "6      25450.183772\n",
              "7      33002.755657\n",
              "8      13115.489606\n",
              "9      29693.177193\n",
              "10     24289.937037\n",
              "11     30015.826087\n",
              "12     27921.058296"
            ],
            "text/html": [
              "\n",
              "  <div id=\"df-f5774c87-0d90-4673-8f99-24c6fe6b04e8\">\n",
              "    <div class=\"colab-df-container\">\n",
              "      <div>\n",
              "<style scoped>\n",
              "    .dataframe tbody tr th:only-of-type {\n",
              "        vertical-align: middle;\n",
              "    }\n",
              "\n",
              "    .dataframe tbody tr th {\n",
              "        vertical-align: top;\n",
              "    }\n",
              "\n",
              "    .dataframe thead th {\n",
              "        text-align: right;\n",
              "    }\n",
              "</style>\n",
              "<table border=\"1\" class=\"dataframe\">\n",
              "  <thead>\n",
              "    <tr style=\"text-align: right;\">\n",
              "      <th></th>\n",
              "      <th>Salary_to</th>\n",
              "    </tr>\n",
              "    <tr>\n",
              "      <th>month</th>\n",
              "      <th></th>\n",
              "    </tr>\n",
              "  </thead>\n",
              "  <tbody>\n",
              "    <tr>\n",
              "      <th>1</th>\n",
              "      <td>17396.929526</td>\n",
              "    </tr>\n",
              "    <tr>\n",
              "      <th>2</th>\n",
              "      <td>19715.975787</td>\n",
              "    </tr>\n",
              "    <tr>\n",
              "      <th>3</th>\n",
              "      <td>17430.779566</td>\n",
              "    </tr>\n",
              "    <tr>\n",
              "      <th>4</th>\n",
              "      <td>20064.375778</td>\n",
              "    </tr>\n",
              "    <tr>\n",
              "      <th>5</th>\n",
              "      <td>32395.283721</td>\n",
              "    </tr>\n",
              "    <tr>\n",
              "      <th>6</th>\n",
              "      <td>25450.183772</td>\n",
              "    </tr>\n",
              "    <tr>\n",
              "      <th>7</th>\n",
              "      <td>33002.755657</td>\n",
              "    </tr>\n",
              "    <tr>\n",
              "      <th>8</th>\n",
              "      <td>13115.489606</td>\n",
              "    </tr>\n",
              "    <tr>\n",
              "      <th>9</th>\n",
              "      <td>29693.177193</td>\n",
              "    </tr>\n",
              "    <tr>\n",
              "      <th>10</th>\n",
              "      <td>24289.937037</td>\n",
              "    </tr>\n",
              "    <tr>\n",
              "      <th>11</th>\n",
              "      <td>30015.826087</td>\n",
              "    </tr>\n",
              "    <tr>\n",
              "      <th>12</th>\n",
              "      <td>27921.058296</td>\n",
              "    </tr>\n",
              "  </tbody>\n",
              "</table>\n",
              "</div>\n",
              "      <button class=\"colab-df-convert\" onclick=\"convertToInteractive('df-f5774c87-0d90-4673-8f99-24c6fe6b04e8')\"\n",
              "              title=\"Convert this dataframe to an interactive table.\"\n",
              "              style=\"display:none;\">\n",
              "        \n",
              "  <svg xmlns=\"http://www.w3.org/2000/svg\" height=\"24px\"viewBox=\"0 0 24 24\"\n",
              "       width=\"24px\">\n",
              "    <path d=\"M0 0h24v24H0V0z\" fill=\"none\"/>\n",
              "    <path d=\"M18.56 5.44l.94 2.06.94-2.06 2.06-.94-2.06-.94-.94-2.06-.94 2.06-2.06.94zm-11 1L8.5 8.5l.94-2.06 2.06-.94-2.06-.94L8.5 2.5l-.94 2.06-2.06.94zm10 10l.94 2.06.94-2.06 2.06-.94-2.06-.94-.94-2.06-.94 2.06-2.06.94z\"/><path d=\"M17.41 7.96l-1.37-1.37c-.4-.4-.92-.59-1.43-.59-.52 0-1.04.2-1.43.59L10.3 9.45l-7.72 7.72c-.78.78-.78 2.05 0 2.83L4 21.41c.39.39.9.59 1.41.59.51 0 1.02-.2 1.41-.59l7.78-7.78 2.81-2.81c.8-.78.8-2.07 0-2.86zM5.41 20L4 18.59l7.72-7.72 1.47 1.35L5.41 20z\"/>\n",
              "  </svg>\n",
              "      </button>\n",
              "      \n",
              "  <style>\n",
              "    .colab-df-container {\n",
              "      display:flex;\n",
              "      flex-wrap:wrap;\n",
              "      gap: 12px;\n",
              "    }\n",
              "\n",
              "    .colab-df-convert {\n",
              "      background-color: #E8F0FE;\n",
              "      border: none;\n",
              "      border-radius: 50%;\n",
              "      cursor: pointer;\n",
              "      display: none;\n",
              "      fill: #1967D2;\n",
              "      height: 32px;\n",
              "      padding: 0 0 0 0;\n",
              "      width: 32px;\n",
              "    }\n",
              "\n",
              "    .colab-df-convert:hover {\n",
              "      background-color: #E2EBFA;\n",
              "      box-shadow: 0px 1px 2px rgba(60, 64, 67, 0.3), 0px 1px 3px 1px rgba(60, 64, 67, 0.15);\n",
              "      fill: #174EA6;\n",
              "    }\n",
              "\n",
              "    [theme=dark] .colab-df-convert {\n",
              "      background-color: #3B4455;\n",
              "      fill: #D2E3FC;\n",
              "    }\n",
              "\n",
              "    [theme=dark] .colab-df-convert:hover {\n",
              "      background-color: #434B5C;\n",
              "      box-shadow: 0px 1px 3px 1px rgba(0, 0, 0, 0.15);\n",
              "      filter: drop-shadow(0px 1px 2px rgba(0, 0, 0, 0.3));\n",
              "      fill: #FFFFFF;\n",
              "    }\n",
              "  </style>\n",
              "\n",
              "      <script>\n",
              "        const buttonEl =\n",
              "          document.querySelector('#df-f5774c87-0d90-4673-8f99-24c6fe6b04e8 button.colab-df-convert');\n",
              "        buttonEl.style.display =\n",
              "          google.colab.kernel.accessAllowed ? 'block' : 'none';\n",
              "\n",
              "        async function convertToInteractive(key) {\n",
              "          const element = document.querySelector('#df-f5774c87-0d90-4673-8f99-24c6fe6b04e8');\n",
              "          const dataTable =\n",
              "            await google.colab.kernel.invokeFunction('convertToInteractive',\n",
              "                                                     [key], {});\n",
              "          if (!dataTable) return;\n",
              "\n",
              "          const docLinkHtml = 'Like what you see? Visit the ' +\n",
              "            '<a target=\"_blank\" href=https://colab.research.google.com/notebooks/data_table.ipynb>data table notebook</a>'\n",
              "            + ' to learn more about interactive tables.';\n",
              "          element.innerHTML = '';\n",
              "          dataTable['output_type'] = 'display_data';\n",
              "          await google.colab.output.renderOutput(dataTable, element);\n",
              "          const docLink = document.createElement('div');\n",
              "          docLink.innerHTML = docLinkHtml;\n",
              "          element.appendChild(docLink);\n",
              "        }\n",
              "      </script>\n",
              "    </div>\n",
              "  </div>\n",
              "  "
            ]
          },
          "metadata": {},
          "execution_count": 304
        }
      ]
    },
    {
      "cell_type": "code",
      "source": [
        "list_sal = df_final.query('cur== \"Rub\"').groupby('Salary_from')['message_id'].count()"
      ],
      "metadata": {
        "id": "rVIH5ktmK5EK"
      },
      "execution_count": 305,
      "outputs": []
    },
    {
      "cell_type": "code",
      "source": [
        "list_sal.head(30)"
      ],
      "metadata": {
        "colab": {
          "base_uri": "https://localhost:8080/"
        },
        "id": "hSfc7JL4LiV-",
        "outputId": "15d4a452-2aca-411a-e8a0-e72e32df5d95"
      },
      "execution_count": 306,
      "outputs": [
        {
          "output_type": "execute_result",
          "data": {
            "text/plain": [
              "Salary_from\n",
              "0.00     2296\n",
              "1.40        1\n",
              "1.50        1\n",
              "2.00        1\n",
              "2.50        1\n",
              "3.00        2\n",
              "4.50        1\n",
              "6.10        3\n",
              "8.00        5\n",
              "9.00       13\n",
              "9.30        3\n",
              "10.00      12\n",
              "11.00       1\n",
              "12.00       3\n",
              "13.00       1\n",
              "14.00       1\n",
              "15.00       2\n",
              "18.00       2\n",
              "19.11       1\n",
              "20.00       9\n",
              "21.00      10\n",
              "22.00       1\n",
              "25.00       1\n",
              "26.00       1\n",
              "29.00       1\n",
              "30.00      12\n",
              "35.00       3\n",
              "40.00       9\n",
              "45.00       2\n",
              "50.00       6\n",
              "Name: message_id, dtype: int64"
            ]
          },
          "metadata": {},
          "execution_count": 306
        }
      ]
    },
    {
      "cell_type": "code",
      "source": [
        "df_final.to_csv('df_final.csv')\n"
      ],
      "metadata": {
        "id": "IH7at-bc8LjK"
      },
      "execution_count": 307,
      "outputs": []
    },
    {
      "cell_type": "code",
      "source": [
        "from google.colab import files\n",
        "files.download('df_final.csv')"
      ],
      "metadata": {
        "colab": {
          "base_uri": "https://localhost:8080/",
          "height": 17
        },
        "id": "gsS-vE829DyH",
        "outputId": "a0d96146-8df0-41d5-bad0-5af3c6e87034"
      },
      "execution_count": 308,
      "outputs": [
        {
          "output_type": "display_data",
          "data": {
            "text/plain": [
              "<IPython.core.display.Javascript object>"
            ],
            "application/javascript": [
              "\n",
              "    async function download(id, filename, size) {\n",
              "      if (!google.colab.kernel.accessAllowed) {\n",
              "        return;\n",
              "      }\n",
              "      const div = document.createElement('div');\n",
              "      const label = document.createElement('label');\n",
              "      label.textContent = `Downloading \"${filename}\": `;\n",
              "      div.appendChild(label);\n",
              "      const progress = document.createElement('progress');\n",
              "      progress.max = size;\n",
              "      div.appendChild(progress);\n",
              "      document.body.appendChild(div);\n",
              "\n",
              "      const buffers = [];\n",
              "      let downloaded = 0;\n",
              "\n",
              "      const channel = await google.colab.kernel.comms.open(id);\n",
              "      // Send a message to notify the kernel that we're ready.\n",
              "      channel.send({})\n",
              "\n",
              "      for await (const message of channel.messages) {\n",
              "        // Send a message to notify the kernel that we're ready.\n",
              "        channel.send({})\n",
              "        if (message.buffers) {\n",
              "          for (const buffer of message.buffers) {\n",
              "            buffers.push(buffer);\n",
              "            downloaded += buffer.byteLength;\n",
              "            progress.value = downloaded;\n",
              "          }\n",
              "        }\n",
              "      }\n",
              "      const blob = new Blob(buffers, {type: 'application/binary'});\n",
              "      const a = document.createElement('a');\n",
              "      a.href = window.URL.createObjectURL(blob);\n",
              "      a.download = filename;\n",
              "      div.appendChild(a);\n",
              "      a.click();\n",
              "      div.remove();\n",
              "    }\n",
              "  "
            ]
          },
          "metadata": {}
        },
        {
          "output_type": "display_data",
          "data": {
            "text/plain": [
              "<IPython.core.display.Javascript object>"
            ],
            "application/javascript": [
              "download(\"download_b1aca77a-4534-442e-a102-9319f9227d40\", \"df_final.csv\", 771877)"
            ]
          },
          "metadata": {}
        }
      ]
    },
    {
      "cell_type": "markdown",
      "source": [
        "# Ссылки на Дашборды:\n",
        "\n",
        "DA:  https://public.tableau.com/views/Masterskaya_parser_DA/_DA?:language=en-US&:display_count=n&:origin=viz_share_link\n",
        "\n",
        "\n",
        " DS: https://public.tableau.com/views/Masterskaya_parser_DS/_DS?:language=en-US&:display_count=n&:origin=viz_share_link\n",
        "\n",
        "\n",
        " \n"
      ],
      "metadata": {
        "id": "OXCmsTjJnPXV"
      }
    }
  ],
  "metadata": {
    "colab": {
      "provenance": [],
      "toc_visible": true
    },
    "kernelspec": {
      "display_name": "Python 3",
      "language": "python",
      "name": "python3"
    },
    "language_info": {
      "codemirror_mode": {
        "name": "ipython",
        "version": 3
      },
      "file_extension": ".py",
      "mimetype": "text/x-python",
      "name": "python",
      "nbconvert_exporter": "python",
      "pygments_lexer": "ipython3",
      "version": "3.8.1"
    }
  },
  "nbformat": 4,
  "nbformat_minor": 0
}